{
 "cells": [
  {
   "cell_type": "code",
   "execution_count": 37,
   "metadata": {},
   "outputs": [],
   "source": [
    "import pathlib\n",
    "import numpy as np\n",
    "import matplotlib.pyplot as plt\n",
    "import seaborn as sns\n",
    "from scipy import stats\n",
    "from multiprocessing import Process\n",
    "from eeg_clean import clean, epoch_stats\n",
    "from data_quality import ica_score\n",
    "from plotting.templates import plot_dens_scatter, plot_n_boxplots, plot_dist_hist"
   ]
  },
  {
   "cell_type": "code",
   "execution_count": 38,
   "metadata": {},
   "outputs": [],
   "source": [
    "baseline_folder = pathlib.Path(r\"C:\\Users\\workbench\\eirik_master\\Results\\baseline_results.npy\")\n",
    "baseline_alternate_folder = pathlib.Path(r\"C:\\Users\\workbench\\eirik_master\\Results\\baseline_results_alternate.npy\")"
   ]
  },
  {
   "cell_type": "code",
   "execution_count": 39,
   "metadata": {},
   "outputs": [],
   "source": [
    "baseline_results = np.load(baseline_folder)"
   ]
  },
  {
   "cell_type": "code",
   "execution_count": 40,
   "metadata": {},
   "outputs": [],
   "source": [
    "baseline_results_alternate = np.load(baseline_alternate_folder)"
   ]
  },
  {
   "cell_type": "code",
   "execution_count": 41,
   "metadata": {},
   "outputs": [],
   "source": [
    "epi_prep_ec_folder = pathlib.Path(r\"C:\\Users\\workbench\\eirik_master\\Results\\epi_data\\prep\\0\")\n",
    "epi_prep_eo_folder = pathlib.Path(r\"C:\\Users\\workbench\\eirik_master\\Results\\epi_data\\prep\\1\")"
   ]
  },
  {
   "cell_type": "code",
   "execution_count": 42,
   "metadata": {},
   "outputs": [],
   "source": [
    "epi_prep_ec_results = np.zeros(\n",
    "    (   \n",
    "        16,\n",
    "        5\n",
    "    )\n",
    ")"
   ]
  },
  {
   "cell_type": "code",
   "execution_count": 43,
   "metadata": {},
   "outputs": [],
   "source": [
    "epi_prep_eo_results = np.zeros(\n",
    "    (   \n",
    "        16,\n",
    "        5\n",
    "    )\n",
    ")"
   ]
  },
  {
   "cell_type": "code",
   "execution_count": 44,
   "metadata": {},
   "outputs": [],
   "source": [
    "for i, pth in enumerate(epi_prep_ec_folder.iterdir()):\n",
    "    current = np.load(pth)\n",
    "    epi_prep_ec_results[i, :] = current.copy()"
   ]
  },
  {
   "cell_type": "code",
   "execution_count": 45,
   "metadata": {},
   "outputs": [],
   "source": [
    "for i, pth in enumerate(epi_prep_eo_folder.iterdir()):\n",
    "    current = np.load(pth)\n",
    "    epi_prep_eo_results[i, :] = current.copy()"
   ]
  },
  {
   "cell_type": "code",
   "execution_count": 46,
   "metadata": {},
   "outputs": [],
   "source": [
    "epi_prep_results = epi_prep_ec_results.__add__(epi_prep_eo_results)/2"
   ]
  },
  {
   "cell_type": "code",
   "execution_count": 47,
   "metadata": {},
   "outputs": [],
   "source": [
    "wang_prep_ec_folder = pathlib.Path(r\"C:\\Users\\workbench\\eirik_master\\Results\\yulin_wang\\prep\\0\")\n",
    "wang_prep_eo_folder = pathlib.Path(r\"C:\\Users\\workbench\\eirik_master\\Results\\yulin_wang\\prep\\1\")"
   ]
  },
  {
   "cell_type": "code",
   "execution_count": 48,
   "metadata": {},
   "outputs": [],
   "source": [
    "wang_prep_ec_results = np.zeros(\n",
    "    (   \n",
    "        16,\n",
    "        5\n",
    "    )\n",
    ")"
   ]
  },
  {
   "cell_type": "code",
   "execution_count": 49,
   "metadata": {},
   "outputs": [],
   "source": [
    "wang_prep_eo_results = np.zeros(\n",
    "    (   \n",
    "        16,\n",
    "        5\n",
    "    )\n",
    ")"
   ]
  },
  {
   "cell_type": "code",
   "execution_count": 50,
   "metadata": {},
   "outputs": [],
   "source": [
    "for i, pth in enumerate(wang_prep_ec_folder.iterdir()):\n",
    "    current = np.load(pth)\n",
    "    wang_prep_ec_results[i, :] = current.copy()"
   ]
  },
  {
   "cell_type": "code",
   "execution_count": 51,
   "metadata": {},
   "outputs": [],
   "source": [
    "for i, pth in enumerate(wang_prep_eo_folder.iterdir()):\n",
    "    current = np.load(pth)\n",
    "    wang_prep_eo_results[i, :] = current.copy()"
   ]
  },
  {
   "cell_type": "code",
   "execution_count": 52,
   "metadata": {},
   "outputs": [],
   "source": [
    "wang_prep_results = wang_prep_ec_results.__add__(wang_prep_eo_results)/2"
   ]
  },
  {
   "cell_type": "code",
   "execution_count": 53,
   "metadata": {},
   "outputs": [],
   "source": [
    "srm_prep_folder = pathlib.Path(r\"C:\\Users\\workbench\\eirik_master\\Results\\srm_data\\prep\")"
   ]
  },
  {
   "cell_type": "code",
   "execution_count": 54,
   "metadata": {},
   "outputs": [],
   "source": [
    "srm_prep_results = np.zeros(\n",
    "    (   \n",
    "        16,\n",
    "        5\n",
    "    )\n",
    ")"
   ]
  },
  {
   "cell_type": "code",
   "execution_count": 55,
   "metadata": {},
   "outputs": [],
   "source": [
    "for i, pth in enumerate(srm_prep_folder.iterdir()):\n",
    "    current = np.load(pth)\n",
    "    srm_prep_results[i, :] = current.copy()"
   ]
  },
  {
   "cell_type": "code",
   "execution_count": 56,
   "metadata": {},
   "outputs": [],
   "source": [
    "spis_prep_folder = pathlib.Path(r\"C:\\Users\\workbench\\eirik_master\\Results\\SPIS-Resting-State-Dataset\\prep\")"
   ]
  },
  {
   "cell_type": "code",
   "execution_count": 57,
   "metadata": {},
   "outputs": [],
   "source": [
    "spis_prep_alternate_results = np.zeros(\n",
    "    (   \n",
    "        8,\n",
    "        5\n",
    "    )\n",
    ")"
   ]
  },
  {
   "cell_type": "code",
   "execution_count": 58,
   "metadata": {},
   "outputs": [],
   "source": [
    "count=0\n",
    "for i, pth in enumerate(spis_prep_folder.iterdir()):\n",
    "    current = np.load(pth)\n",
    "    spis_prep_alternate_results[count, :] += current.copy()\n",
    "    if i%2 != 0:\n",
    "        count+=1"
   ]
  },
  {
   "cell_type": "code",
   "execution_count": 59,
   "metadata": {},
   "outputs": [],
   "source": [
    "spis_prep_alternate_results /= 2"
   ]
  },
  {
   "cell_type": "code",
   "execution_count": 60,
   "metadata": {},
   "outputs": [],
   "source": [
    "spis_prep_results = np.zeros(\n",
    "    (   \n",
    "        16,\n",
    "        5\n",
    "    )\n",
    ")"
   ]
  },
  {
   "cell_type": "code",
   "execution_count": 61,
   "metadata": {},
   "outputs": [],
   "source": [
    "for i, pth in enumerate(spis_prep_folder.iterdir()):\n",
    "    current = np.load(pth)\n",
    "    spis_prep_results[i, :] = current.copy()"
   ]
  },
  {
   "cell_type": "code",
   "execution_count": 62,
   "metadata": {},
   "outputs": [],
   "source": [
    "prep_results = np.zeros(\n",
    "    (   \n",
    "        64,\n",
    "        5\n",
    "    )\n",
    ")"
   ]
  },
  {
   "cell_type": "code",
   "execution_count": 63,
   "metadata": {},
   "outputs": [],
   "source": [
    "prep_results_alternate = np.zeros(\n",
    "    (   \n",
    "        56,\n",
    "        5\n",
    "    )\n",
    ")"
   ]
  },
  {
   "cell_type": "code",
   "execution_count": 64,
   "metadata": {},
   "outputs": [],
   "source": [
    "prep_results[0:16, :] = epi_prep_results\n",
    "prep_results[16:32, :] = srm_prep_results\n",
    "prep_results[32:48, :] = spis_prep_results\n",
    "prep_results[48:64, :] = wang_prep_results"
   ]
  },
  {
   "cell_type": "code",
   "execution_count": 65,
   "metadata": {},
   "outputs": [],
   "source": [
    "prep_results_alternate[0:16, :] = epi_prep_results\n",
    "prep_results_alternate[16:32, :] = srm_prep_results\n",
    "prep_results_alternate[32:40, :] = spis_prep_alternate_results\n",
    "prep_results_alternate[40:56, :] = wang_prep_results"
   ]
  },
  {
   "cell_type": "code",
   "execution_count": 66,
   "metadata": {},
   "outputs": [
    {
     "name": "stdout",
     "output_type": "stream",
     "text": [
      "[]\n",
      "[]\n"
     ]
    }
   ],
   "source": [
    "print(np.argwhere(np.isnan(prep_results)))\n",
    "print(np.argwhere(np.isinf(prep_results)))"
   ]
  },
  {
   "cell_type": "code",
   "execution_count": 67,
   "metadata": {},
   "outputs": [],
   "source": [
    "prep_results[:, 2] -= prep_results[:, 1]"
   ]
  },
  {
   "cell_type": "code",
   "execution_count": 68,
   "metadata": {},
   "outputs": [],
   "source": [
    "prep_results_alternate[:, 2] -= prep_results_alternate[:, 1]"
   ]
  },
  {
   "cell_type": "code",
   "execution_count": 69,
   "metadata": {},
   "outputs": [
    {
     "data": {
      "image/png": "[encoded data removed]",
      "text/plain": [
       "<Figure size 640x480 with 1 Axes>"
      ]
     },
     "metadata": {},
     "output_type": "display_data"
    }
   ],
   "source": [
    "plot_n_boxplots([prep_results_alternate[:, 1]+baseline_results_alternate[:, 1]], [sns.xkcd_rgb[\"pale red\"]])"
   ]
  },
  {
   "cell_type": "code",
   "execution_count": 70,
   "metadata": {},
   "outputs": [
    {
     "data": {
      "image/png": "[encoded data removed]",
      "text/plain": [
       "<Figure size 640x480 with 1 Axes>"
      ]
     },
     "metadata": {},
     "output_type": "display_data"
    }
   ],
   "source": [
    "plot_dist_hist(prep_results_alternate[:, 1]+baseline_results_alternate[:, 1], 'Comparator B', 'Data Quality')"
   ]
  },
  {
   "cell_type": "code",
   "execution_count": 71,
   "metadata": {},
   "outputs": [],
   "source": [
    "np.save(r\"C:\\Users\\workbench\\eirik_master\\Results\\linear_reg_1\\prep\", prep_results_alternate[:, 1]+baseline_results_alternate[:, 1])"
   ]
  },
  {
   "cell_type": "code",
   "execution_count": 214,
   "metadata": {},
   "outputs": [
    {
     "data": {
      "image/png": "[encoded data removed]",
      "text/plain": [
       "<Figure size 640x480 with 1 Axes>"
      ]
     },
     "metadata": {},
     "output_type": "display_data"
    }
   ],
   "source": [
    "plot_n_boxplots([prep_results_alternate[:, 2]+baseline_results_alternate[:, 2]], [sns.xkcd_rgb[\"pale red\"]])"
   ]
  },
  {
   "cell_type": "code",
   "execution_count": 215,
   "metadata": {},
   "outputs": [
    {
     "name": "stdout",
     "output_type": "stream",
     "text": [
      "[3.5 1.5 2.5 2.5 3.5 0.5 1.  1.  2.  5.5 6.5 1.5 0.5 1.5 2.5 2.5 0.  0.\n",
      " 0.  2.  1.  0.  1.  1.  0.  0.  3.  0.  1.  0.  1.  0.  1.  0.  1.  0.\n",
      " 0.  0.  1.  0.  3.5 0.  1.5 4.  3.  0.  5.5 0.5 1.  7.  3.5 1.5 2.5 2.\n",
      " 1.5 0. ]\n"
     ]
    }
   ],
   "source": [
    "print(prep_results_alternate[:, 2]+baseline_results_alternate[:, 2])"
   ]
  },
  {
   "cell_type": "code",
   "execution_count": 74,
   "metadata": {},
   "outputs": [
    {
     "data": {
      "image/png": "[encoded data removed]",
      "text/plain": [
       "<Figure size 640x480 with 1 Axes>"
      ]
     },
     "metadata": {},
     "output_type": "display_data"
    }
   ],
   "source": [
    "plot_dist_hist(prep_results_alternate[:, 2]+baseline_results_alternate[:, 2], 'Comparator B', 'Data Quality')"
   ]
  },
  {
   "cell_type": "code",
   "execution_count": 76,
   "metadata": {},
   "outputs": [],
   "source": [
    "np.save(r\"C:\\Users\\workbench\\eirik_master\\Results\\linear_reg_1_art\\prep\", prep_results_alternate[:, 2]+baseline_results_alternate[:, 2])"
   ]
  },
  {
   "cell_type": "code",
   "execution_count": 77,
   "metadata": {},
   "outputs": [
    {
     "name": "stdout",
     "output_type": "stream",
     "text": [
      "[3.5 1.5 2.5 2.5 3.5 0.5 1.  1.  2.  5.5 6.5 1.5 0.5 1.5 2.5 2.5 0.  0.\n",
      " 0.  2.  1.  0.  1.  1.  0.  0.  3.  0.  1.  0.  1.  0.  0.5 0.  0.5 0.\n",
      " 0.  0.  0.5 0.  3.5 0.  1.5 4.  3.  0.  5.5 0.5 1.  7.  3.5 1.5 2.5 2.\n",
      " 1.5 0. ]\n"
     ]
    }
   ],
   "source": [
    "print(prep_results_alternate[:, 2]+baseline_results_alternate[:, 2])"
   ]
  }
 ],
 "metadata": {
  "kernelspec": {
   "display_name": "env",
   "language": "python",
   "name": "python3"
  },
  "language_info": {
   "codemirror_mode": {
    "name": "ipython",
    "version": 3
   },
   "file_extension": ".py",
   "mimetype": "text/x-python",
   "name": "python",
   "nbconvert_exporter": "python",
   "pygments_lexer": "ipython3",
   "version": "3.10.4"
  }
 },
 "nbformat": 4,
 "nbformat_minor": 2
}
