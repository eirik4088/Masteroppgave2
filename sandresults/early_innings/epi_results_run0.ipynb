{
 "cells": [
  {
   "cell_type": "code",
   "execution_count": null,
   "metadata": {},
   "outputs": [],
   "source": [
    "import pathlib\n",
    "import numpy as np\n",
    "import matplotlib.pyplot as plt\n",
    "import seaborn as sns\n",
    "from scipy import stats\n",
    "import mne\n",
    "import random\n",
    "from multiprocessing import Process\n",
    "from meegkit import dss\n",
    "from eeg_clean import clean, epoch_stats\n",
    "from data_quality import ica_score\n",
    "from plotting.templates import plot_dens_scatter, plot_n_boxplots"
   ]
  },
  {
   "cell_type": "code",
   "execution_count": null,
   "metadata": {},
   "outputs": [],
   "source": [
    "stab_folder = pathlib.Path(r\"C:\\Users\\workbench\\eirik_master\\Results\\epi_data\\accumulate\")\n",
    "results_folder = pathlib.Path(r\"C:\\Users\\workbench\\eirik_master\\Results\\epi_data\\results_run_0\")"
   ]
  },
  {
   "cell_type": "markdown",
   "metadata": {},
   "source": [
    "Analysing the epoch distribution of the raw data"
   ]
  },
  {
   "cell_type": "code",
   "execution_count": null,
   "metadata": {},
   "outputs": [],
   "source": [
    "quasi_dist_x = np.empty((32, 120))\n",
    "quasi_dist_y = np.empty((32, 120))\n",
    "peaks_dist_x = np.empty((32, 120))\n",
    "peaks_dist_y = np.empty((32, 120))"
   ]
  },
  {
   "cell_type": "code",
   "execution_count": null,
   "metadata": {},
   "outputs": [],
   "source": [
    "for i, pth in enumerate((stab_folder / \"quasi\" / \"dis\").iterdir()):\n",
    "    current = np.load(pth)\n",
    "    quasi_dist_x[i, :] = current.copy()\n",
    "for i, pth in enumerate((stab_folder / \"quasi\" / \"abs_dis\").iterdir()):\n",
    "    current = np.load(pth)\n",
    "    quasi_dist_y[i, :] = current.copy()\n",
    "for i, pth in enumerate((stab_folder / \"peaks\" / \"dis\").iterdir()):\n",
    "    current = np.load(pth)\n",
    "    peaks_dist_x[i, :] = current.copy()\n",
    "for i, pth in enumerate((stab_folder / \"peaks\" / \"abs_dis\").iterdir()):\n",
    "    current = np.load(pth)\n",
    "    peaks_dist_y[i, :] = current.copy()"
   ]
  },
  {
   "cell_type": "code",
   "execution_count": null,
   "metadata": {},
   "outputs": [],
   "source": [
    "plot_dens_scatter(quasi_dist_x, quasi_dist_y, \"Dis Distribution\", \"dis\", \"abs_dis\")"
   ]
  },
  {
   "cell_type": "code",
   "execution_count": null,
   "metadata": {},
   "outputs": [],
   "source": [
    "plt.hist(quasi_dist_x[8])\n",
    "plt.show()"
   ]
  },
  {
   "cell_type": "code",
   "execution_count": null,
   "metadata": {},
   "outputs": [],
   "source": [
    "plt.hist(quasi_dist_y)\n",
    "plt.show()"
   ]
  },
  {
   "cell_type": "code",
   "execution_count": null,
   "metadata": {},
   "outputs": [],
   "source": [
    "plt.hist(peaks_dist_y)\n",
    "plt.show()"
   ]
  },
  {
   "cell_type": "code",
   "execution_count": null,
   "metadata": {},
   "outputs": [],
   "source": [
    "plt.hist(peaks_dist_x)\n",
    "plt.show()"
   ]
  },
  {
   "cell_type": "code",
   "execution_count": null,
   "metadata": {},
   "outputs": [],
   "source": [
    "plot_dens_scatter(peaks_dist_x, peaks_dist_y, \"Peaks Dis Distribution\", \"dis\", \"abs_dis\")"
   ]
  },
  {
   "cell_type": "markdown",
   "metadata": {},
   "source": [
    "Analysing the epoch distribution of the raw Eyes Closed data"
   ]
  },
  {
   "cell_type": "code",
   "execution_count": null,
   "metadata": {},
   "outputs": [],
   "source": [
    "quasi_dist_x = np.empty((16, 120))\n",
    "quasi_dist_y = np.empty((16, 120))\n",
    "peaks_dist_x = np.empty((16, 120))\n",
    "peaks_dist_y = np.empty((16, 120))"
   ]
  },
  {
   "cell_type": "code",
   "execution_count": null,
   "metadata": {},
   "outputs": [],
   "source": [
    "for i, pth in enumerate((stab_folder / \"quasi\" / \"dis\").iterdir()):\n",
    "    if i%2 != 0:\n",
    "        continue\n",
    "    current = np.load(pth)\n",
    "    quasi_dist_x[int(i/2), :] = current.copy()\n",
    "for i, pth in enumerate((stab_folder / \"quasi\" / \"abs_dis\").iterdir()):\n",
    "    if i%2 != 0:\n",
    "        continue\n",
    "    current = np.load(pth)\n",
    "    quasi_dist_y[int(i/2), :] = current.copy()\n",
    "for i, pth in enumerate((stab_folder / \"peaks\" / \"dis\").iterdir()):\n",
    "    if i%2 != 0:\n",
    "        continue\n",
    "    current = np.load(pth)\n",
    "    peaks_dist_x[int(i/2), :] = current.copy()\n",
    "for i, pth in enumerate((stab_folder / \"peaks\" / \"abs_dis\").iterdir()):\n",
    "    if i%2 != 0:\n",
    "        continue\n",
    "    current = np.load(pth)\n",
    "    peaks_dist_y[int(i/2), :] = current.copy()"
   ]
  },
  {
   "cell_type": "code",
   "execution_count": null,
   "metadata": {},
   "outputs": [],
   "source": [
    "plot_dens_scatter(quasi_dist_x, quasi_dist_y, \"Dis Distribution\", \"dis\", \"abs_dis\")"
   ]
  },
  {
   "cell_type": "code",
   "execution_count": null,
   "metadata": {},
   "outputs": [],
   "source": [
    "plt.hist(peaks_dist_y[0], bins=200)\n",
    "plt.show()"
   ]
  },
  {
   "cell_type": "code",
   "execution_count": null,
   "metadata": {},
   "outputs": [],
   "source": [
    "plot_dens_scatter(peaks_dist_x, peaks_dist_y, \"Peaks Dis Distribution\", \"dis\", \"abs_dis\")"
   ]
  },
  {
   "cell_type": "markdown",
   "metadata": {},
   "source": [
    "Analysing the epoch distribution of the raw Eyes Closed data"
   ]
  },
  {
   "cell_type": "code",
   "execution_count": null,
   "metadata": {},
   "outputs": [],
   "source": [
    "quasi_dist_x = np.empty((16, 120))\n",
    "quasi_dist_y = np.empty((16, 120))\n",
    "peaks_dist_x = np.empty((16, 120))\n",
    "peaks_dist_y = np.empty((16, 120))"
   ]
  },
  {
   "cell_type": "code",
   "execution_count": null,
   "metadata": {},
   "outputs": [],
   "source": [
    "for i, pth in enumerate((stab_folder / \"quasi\" / \"dis\").iterdir()):\n",
    "    if i%2 == 0:\n",
    "        continue\n",
    "    current = np.load(pth)\n",
    "    quasi_dist_x[int((i-1)/2), :] = current.copy()\n",
    "for i, pth in enumerate((stab_folder / \"quasi\" / \"abs_dis\").iterdir()):\n",
    "    if i%2 == 0:\n",
    "        continue\n",
    "    current = np.load(pth)\n",
    "    quasi_dist_y[int((i-1)/2), :] = current.copy()\n",
    "for i, pth in enumerate((stab_folder / \"peaks\" / \"dis\").iterdir()):\n",
    "    if i%2 == 0:\n",
    "        continue\n",
    "    current = np.load(pth)\n",
    "    peaks_dist_x[int((i-1)/2), :] = current.copy()\n",
    "for i, pth in enumerate((stab_folder / \"peaks\" / \"abs_dis\").iterdir()):\n",
    "    if i%2 == 0:\n",
    "        continue\n",
    "    current = np.load(pth)\n",
    "    peaks_dist_y[int((i-1)/2), :] = current.copy()"
   ]
  },
  {
   "cell_type": "code",
   "execution_count": null,
   "metadata": {},
   "outputs": [],
   "source": [
    "plot_dens_scatter(quasi_dist_y, peaks_dist_y, \"Dis Distribution\", \"dis\", \"abs_dis\")"
   ]
  },
  {
   "cell_type": "code",
   "execution_count": null,
   "metadata": {},
   "outputs": [],
   "source": [
    "plt.hist(quasi_dist_x)\n",
    "plt.show()"
   ]
  },
  {
   "cell_type": "code",
   "execution_count": null,
   "metadata": {},
   "outputs": [],
   "source": [
    "plt.hist(quasi_dist_y)\n",
    "plt.show()"
   ]
  },
  {
   "cell_type": "code",
   "execution_count": null,
   "metadata": {},
   "outputs": [],
   "source": [
    "plt.hist(peaks_dist_y)\n",
    "plt.show()"
   ]
  },
  {
   "cell_type": "code",
   "execution_count": null,
   "metadata": {},
   "outputs": [],
   "source": [
    "plt.hist(peaks_dist_x)\n",
    "plt.show()"
   ]
  },
  {
   "cell_type": "code",
   "execution_count": null,
   "metadata": {},
   "outputs": [],
   "source": [
    "plot_dens_scatter(peaks_dist_x, peaks_dist_y, \"Peaks Dis Distribution\", \"dis\", \"abs_dis\")"
   ]
  },
  {
   "cell_type": "markdown",
   "metadata": {},
   "source": [
    "Analysing the effect of different parameters"
   ]
  },
  {
   "cell_type": "code",
   "execution_count": null,
   "metadata": {},
   "outputs": [],
   "source": [
    "all_results = np.empty(\n",
    "    (\n",
    "        16,\n",
    "        2,\n",
    "        2,\n",
    "        2,\n",
    "        2,\n",
    "        2,\n",
    "        12,\n",
    "        12,\n",
    "        5\n",
    "    )\n",
    ")"
   ]
  },
  {
   "cell_type": "code",
   "execution_count": null,
   "metadata": {},
   "outputs": [],
   "source": [
    "for i, pth in enumerate(results_folder.iterdir()):\n",
    "    current = np.load(pth)\n",
    "    all_results[i, :, :, :, :, :, :, :] = current.copy()"
   ]
  },
  {
   "cell_type": "code",
   "execution_count": null,
   "metadata": {},
   "outputs": [],
   "source": [
    "all_results = np.nan_to_num(all_results)"
   ]
  },
  {
   "cell_type": "code",
   "execution_count": null,
   "metadata": {},
   "outputs": [],
   "source": [
    "for i in range(16):\n",
    "    for q in range(2):\n",
    "        all_results[i, q, :, :, :, :, :, :] -= all_results[i, q, 0, 0, 0, 0, 0, 0]"
   ]
  },
  {
   "cell_type": "markdown",
   "metadata": {},
   "source": [
    "Pooled data, to se what works best for both"
   ]
  },
  {
   "cell_type": "markdown",
   "metadata": {},
   "source": [
    "Best params"
   ]
  },
  {
   "cell_type": "code",
   "execution_count": null,
   "metadata": {},
   "outputs": [],
   "source": [
    "print(np.unravel_index(np.argmax(np.mean(np.mean(all_results[:, :, :, :, :, :, :, :, 0], 0), 0)), (2, 2, 2, 2, 12, 12)))\n",
    "print(np.unravel_index(np.argmax(np.mean(np.mean(all_results[:, :, :, :, :, :, :, :, 1], 0), 0)), (2, 2, 2, 2, 12, 12)))\n",
    "print(np.unravel_index(np.argmax(np.mean(np.mean(all_results[:, :, :, :, :, :, :, :, 2], 0), 0)), (2, 2, 2, 2, 12, 12)))\n",
    "print(np.unravel_index(np.argmax(np.mean(np.mean(all_results[:, :, :, :, :, :, :, :, 3], 0), 0)), (2, 2, 2, 2, 12, 12)))\n",
    "print(np.unravel_index(np.argmax(np.mean(np.mean(all_results[:, :, :, :, :, :, :, :, 4], 0), 0)), (2, 2, 2, 2, 12, 12)))"
   ]
  },
  {
   "cell_type": "markdown",
   "metadata": {},
   "source": [
    "Quasi and peaks distribution of best params solution."
   ]
  },
  {
   "cell_type": "markdown",
   "metadata": {},
   "source": [
    "Effect of quasi_channel exclusion"
   ]
  },
  {
   "cell_type": "code",
   "execution_count": null,
   "metadata": {},
   "outputs": [],
   "source": [
    "plot_n_boxplots([all_results[:, :, 1, 0, 0, 0, 0, 0, 1].flatten()], [sns.xkcd_rgb[\"pale red\"]])"
   ]
  },
  {
   "cell_type": "markdown",
   "metadata": {},
   "source": [
    "Effect of Peaks_channel exclusion"
   ]
  },
  {
   "cell_type": "code",
   "execution_count": null,
   "metadata": {},
   "outputs": [],
   "source": [
    "plot_n_boxplots([all_results[:, :, 0, 1, 0, 0, 0, 0, 1].flatten()], [sns.xkcd_rgb[\"pale red\"]])"
   ]
  },
  {
   "cell_type": "markdown",
   "metadata": {},
   "source": [
    "Effect of channel correlation exclusion"
   ]
  },
  {
   "cell_type": "code",
   "execution_count": null,
   "metadata": {},
   "outputs": [],
   "source": [
    "plot_n_boxplots([all_results[:, :, 0, 0, 1, 0, 0, 0, 1].flatten()], [sns.xkcd_rgb[\"pale red\"]])"
   ]
  },
  {
   "cell_type": "markdown",
   "metadata": {},
   "source": [
    "Effect of quasi epoch exclusion"
   ]
  },
  {
   "cell_type": "code",
   "execution_count": null,
   "metadata": {},
   "outputs": [],
   "source": [
    "x_axis = np.arange(0, 12)\n",
    "y_axis = np.empty(12)\n",
    "error = np.empty(12)\n",
    "for i in range(12):\n",
    "    current = all_results[:, :, 0, 0, 0, 0, i, 0, 1].copy().flatten()\n",
    "    y_axis[i] = np.mean(current)\n",
    "    error[i] = np.std(current)"
   ]
  },
  {
   "cell_type": "code",
   "execution_count": null,
   "metadata": {},
   "outputs": [],
   "source": [
    "plt.errorbar(x_axis, y_axis, error, linestyle='None', marker='^')\n",
    "plt.show()\n",
    "print(y_axis)"
   ]
  },
  {
   "cell_type": "code",
   "execution_count": null,
   "metadata": {},
   "outputs": [],
   "source": [
    "x_axis = np.arange(0, 12)\n",
    "y_axis = np.empty(12)\n",
    "error = np.empty(12)\n",
    "for i in range(12):\n",
    "    current = all_results[:, :, :, :, :, :, i, :, 1].copy().flatten()\n",
    "    y_axis[i] = np.mean(current)\n",
    "    error[i] = np.std(current)"
   ]
  },
  {
   "cell_type": "code",
   "execution_count": null,
   "metadata": {},
   "outputs": [],
   "source": [
    "plt.errorbar(x_axis, y_axis, error, linestyle='None', marker='^')\n",
    "plt.show()\n",
    "print(y_axis)"
   ]
  },
  {
   "cell_type": "markdown",
   "metadata": {},
   "source": [
    "Effect of peaks epoch exclusion"
   ]
  },
  {
   "cell_type": "code",
   "execution_count": null,
   "metadata": {},
   "outputs": [],
   "source": [
    "x_axis = np.arange(0, 12)\n",
    "y_axis = np.empty(12)\n",
    "error = np.empty(12)\n",
    "for i in range(12):\n",
    "    current = all_results[:, :, 0, 0, 0, 0, 0, i, 1].copy().flatten()\n",
    "    y_axis[i] = np.mean(current)\n",
    "    error[i] = np.std(current)"
   ]
  },
  {
   "cell_type": "code",
   "execution_count": null,
   "metadata": {},
   "outputs": [],
   "source": [
    "plt.errorbar(x_axis, y_axis, error, linestyle='None', marker='^')\n",
    "plt.show()\n",
    "print(y_axis)"
   ]
  },
  {
   "cell_type": "code",
   "execution_count": null,
   "metadata": {},
   "outputs": [],
   "source": [
    "x_axis = np.arange(0, 12)\n",
    "y_axis = np.empty(12)\n",
    "error = np.empty(12)\n",
    "for i in range(12):\n",
    "    current = all_results[:, :, :, :, :, :, :, i, 1].copy().flatten()\n",
    "    y_axis[i] = np.mean(current)\n",
    "    error[i] = np.std(current)"
   ]
  },
  {
   "cell_type": "code",
   "execution_count": null,
   "metadata": {},
   "outputs": [],
   "source": [
    "plt.errorbar(x_axis, y_axis, error, linestyle='None', marker='^')\n",
    "plt.show()\n",
    "print(y_axis)"
   ]
  }
 ],
 "metadata": {
  "kernelspec": {
   "display_name": "env",
   "language": "python",
   "name": "python3"
  },
  "language_info": {
   "codemirror_mode": {
    "name": "ipython",
    "version": 3
   },
   "file_extension": ".py",
   "mimetype": "text/x-python",
   "name": "python",
   "nbconvert_exporter": "python",
   "pygments_lexer": "ipython3",
   "version": "3.10.4"
  }
 },
 "nbformat": 4,
 "nbformat_minor": 2
}
