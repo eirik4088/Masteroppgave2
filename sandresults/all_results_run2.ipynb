{
 "cells": [
  {
   "cell_type": "code",
   "execution_count": 1,
   "metadata": {},
   "outputs": [],
   "source": [
    "import pathlib\n",
    "import numpy as np\n",
    "import matplotlib.pyplot as plt\n",
    "import seaborn as sns\n",
    "from scipy import stats\n",
    "from multiprocessing import Process\n",
    "from eeg_clean import clean, epoch_stats\n",
    "from data_quality import ica_score\n",
    "from plotting.templates import plot_dens_scatter, plot_n_boxplots"
   ]
  },
  {
   "cell_type": "markdown",
   "metadata": {},
   "source": [
    "First Analysis of how quasi thresholding does on its own"
   ]
  },
  {
   "cell_type": "code",
   "execution_count": 2,
   "metadata": {},
   "outputs": [],
   "source": [
    "epi_quasi_ec_folder = pathlib.Path(r\"C:\\Users\\workbench\\eirik_master\\Results\\epi_data\\results_run_2_extended\\0\\quasi\")\n",
    "epi_quasi_eo_folder = pathlib.Path(r\"C:\\Users\\workbench\\eirik_master\\Results\\epi_data\\results_run_2_extended\\1\\quasi\")"
   ]
  },
  {
   "cell_type": "code",
   "execution_count": 3,
   "metadata": {},
   "outputs": [],
   "source": [
    "epi_quasi_ec_results = np.zeros(\n",
    "    (   \n",
    "        16,\n",
    "        2,\n",
    "        4,\n",
    "        5\n",
    "    )\n",
    ")"
   ]
  },
  {
   "cell_type": "code",
   "execution_count": 4,
   "metadata": {},
   "outputs": [],
   "source": [
    "epi_quasi_eo_results = np.zeros(\n",
    "    (   \n",
    "        16,\n",
    "        2,\n",
    "        4,\n",
    "        5\n",
    "    )\n",
    ")"
   ]
  },
  {
   "cell_type": "code",
   "execution_count": 4,
   "metadata": {},
   "outputs": [],
   "source": [
    "for i, pth in enumerate(epi_quasi_ec_folder.iterdir()):\n",
    "    current = np.load(pth)\n",
    "    epi_quasi_ec_results[i, :, :, :] = current.copy()"
   ]
  },
  {
   "cell_type": "code",
   "execution_count": 6,
   "metadata": {},
   "outputs": [],
   "source": [
    "for i, pth in enumerate(epi_quasi_eo_folder.iterdir()):\n",
    "    current = np.load(pth)\n",
    "    epi_quasi_eo_results[i, :, :, :] = current.copy()"
   ]
  },
  {
   "cell_type": "code",
   "execution_count": 5,
   "metadata": {},
   "outputs": [],
   "source": [
    "epi_quasi_results = epi_quasi_ec_results.__add__(epi_quasi_eo_results)/2"
   ]
  },
  {
   "cell_type": "code",
   "execution_count": null,
   "metadata": {},
   "outputs": [],
   "source": [
    "wang_quasi_ec_folder = pathlib.Path(r\"C:\\Users\\workbench\\eirik_master\\Results\\yulin_wang\\results_run_2\\0\\quasi\")\n",
    "wang_quasi_eo_folder = pathlib.Path(r\"C:\\Users\\workbench\\eirik_master\\Results\\yulin_wang\\results_run_2\\1\\quasi\")"
   ]
  },
  {
   "cell_type": "code",
   "execution_count": null,
   "metadata": {},
   "outputs": [],
   "source": [
    "wang_quasi_ec_results = np.zeros(\n",
    "    (   \n",
    "        16,\n",
    "        2,\n",
    "        4,\n",
    "        5\n",
    "    )\n",
    ")"
   ]
  },
  {
   "cell_type": "code",
   "execution_count": null,
   "metadata": {},
   "outputs": [],
   "source": [
    "wang_quasi_eo_results = np.zeros(\n",
    "    (   \n",
    "        16,\n",
    "        2,\n",
    "        4,\n",
    "        5\n",
    "    )\n",
    ")"
   ]
  },
  {
   "cell_type": "code",
   "execution_count": null,
   "metadata": {},
   "outputs": [],
   "source": [
    "for i, pth in enumerate(wang_quasi_ec_folder.iterdir()):\n",
    "    current = np.load(pth)\n",
    "    wang_quasi_ec_results[i, :, :, :] = current.copy()"
   ]
  },
  {
   "cell_type": "code",
   "execution_count": null,
   "metadata": {},
   "outputs": [],
   "source": [
    "for i, pth in enumerate(wang_quasi_eo_folder.iterdir()):\n",
    "    current = np.load(pth)\n",
    "    wang_quasi_eo_results[i, :, :, :] = current.copy()"
   ]
  },
  {
   "cell_type": "code",
   "execution_count": null,
   "metadata": {},
   "outputs": [],
   "source": [
    "wang_quasi_results = wang_quasi_ec_results.__add__(wang_quasi_eo_results)/2"
   ]
  },
  {
   "cell_type": "code",
   "execution_count": 6,
   "metadata": {},
   "outputs": [],
   "source": [
    "srm_quasi_folder = pathlib.Path(r\"C:\\Users\\workbench\\eirik_master\\Results\\srm_data\\results_run_2_extended\\quasi\")"
   ]
  },
  {
   "cell_type": "code",
   "execution_count": 7,
   "metadata": {},
   "outputs": [],
   "source": [
    "srm_quasi_results = np.zeros(\n",
    "    (   \n",
    "        16,\n",
    "        2,\n",
    "        4,\n",
    "        5\n",
    "    )\n",
    ")"
   ]
  },
  {
   "cell_type": "code",
   "execution_count": 8,
   "metadata": {},
   "outputs": [],
   "source": [
    "for i, pth in enumerate(srm_quasi_folder.iterdir()):\n",
    "    current = np.load(pth)\n",
    "    srm_quasi_results[i, :, :, :] = current.copy()"
   ]
  },
  {
   "cell_type": "code",
   "execution_count": 9,
   "metadata": {},
   "outputs": [],
   "source": [
    "spis_quasi_folder = pathlib.Path(r\"C:\\Users\\workbench\\eirik_master\\Results\\SPIS-Resting-State-Dataset\\results_run_2_extended\\quasi\")"
   ]
  },
  {
   "cell_type": "code",
   "execution_count": 10,
   "metadata": {},
   "outputs": [],
   "source": [
    "spis_quasi_results = np.zeros(\n",
    "    (   \n",
    "        16,\n",
    "        2,\n",
    "        4,\n",
    "        5\n",
    "    )\n",
    ")"
   ]
  },
  {
   "cell_type": "code",
   "execution_count": 11,
   "metadata": {},
   "outputs": [],
   "source": [
    "for i, pth in enumerate(spis_quasi_folder.iterdir()):\n",
    "    current = np.load(pth)\n",
    "    spis_quasi_results[i, :, :, :] = current.copy()"
   ]
  },
  {
   "cell_type": "code",
   "execution_count": 12,
   "metadata": {},
   "outputs": [],
   "source": [
    "quasi_results = np.zeros(\n",
    "    (   \n",
    "        64,\n",
    "        2,\n",
    "        4,\n",
    "        5\n",
    "    )\n",
    ")"
   ]
  },
  {
   "cell_type": "code",
   "execution_count": 13,
   "metadata": {},
   "outputs": [],
   "source": [
    "quasi_results[0:16, :, :, :] = epi_quasi_results\n",
    "quasi_results[16:32, :, :, :] = srm_quasi_results\n",
    "quasi_results[32:48, :, :, :] = spis_quasi_results\n",
    "quasi_results[48:64, :, :, :] = wang_quasi_results"
   ]
  },
  {
   "cell_type": "code",
   "execution_count": null,
   "metadata": {},
   "outputs": [],
   "source": [
    "print(np.argwhere(np.isnan(quasi_results)))"
   ]
  },
  {
   "cell_type": "code",
   "execution_count": 14,
   "metadata": {},
   "outputs": [
    {
     "name": "stdout",
     "output_type": "stream",
     "text": [
      "(0, 0)\n",
      "(0, 0)\n",
      "(0, 0)\n",
      "(0, 0)\n",
      "(1, 0)\n"
     ]
    }
   ],
   "source": [
    "print(np.unravel_index(np.argmax(np.mean(quasi_results[:, :, :, 0], 0)), (2, 4)))\n",
    "print(np.unravel_index(np.argmax(np.mean(quasi_results[:, :, :, 1], 0)), (2, 4)))\n",
    "print(np.unravel_index(np.argmax(np.mean(quasi_results[:, :, :, 2], 0)), (2, 4)))\n",
    "print(np.unravel_index(np.argmax(np.mean(quasi_results[:, :, :, 3], 0)), (2, 4)))\n",
    "print(np.unravel_index(np.argmax(np.mean(quasi_results[:, :, :, 4], 0)), (2, 4)))"
   ]
  },
  {
   "cell_type": "code",
   "execution_count": 15,
   "metadata": {},
   "outputs": [
    {
     "name": "stdout",
     "output_type": "stream",
     "text": [
      "(0, 0)\n",
      "(0, 0)\n",
      "(0, 0)\n",
      "(0, 0)\n",
      "(1, 0)\n"
     ]
    }
   ],
   "source": [
    "#best median\n",
    "print(np.unravel_index(np.argmax(np.median(quasi_results[:, :, :, 0], 0)), (2, 4)))\n",
    "print(np.unravel_index(np.argmax(np.median(quasi_results[:, :, :, 1], 0)), (2, 4)))\n",
    "print(np.unravel_index(np.argmax(np.median(quasi_results[:, :, :, 2], 0)), (2, 4)))\n",
    "print(np.unravel_index(np.argmax(np.median(quasi_results[:, :, :, 3], 0)), (2, 4)))\n",
    "print(np.unravel_index(np.argmax(np.median(quasi_results[:, :, :, 4], 0)), (2, 4)))"
   ]
  },
  {
   "cell_type": "markdown",
   "metadata": {},
   "source": [
    "Investigating the statisitcs of itteration maximazing the average number of braincomponents."
   ]
  },
  {
   "cell_type": "code",
   "execution_count": 16,
   "metadata": {},
   "outputs": [
    {
     "data": {
      "image/png": "[encoded data removed]",
      "text/plain": [
       "<Figure size 640x480 with 1 Axes>"
      ]
     },
     "metadata": {},
     "output_type": "display_data"
    }
   ],
   "source": [
    "plot_n_boxplots([quasi_results[:, 0, 0, 1].flatten()], [sns.xkcd_rgb[\"pale red\"]])"
   ]
  },
  {
   "cell_type": "markdown",
   "metadata": {},
   "source": [
    "Compared to the other thresholds"
   ]
  },
  {
   "cell_type": "code",
   "execution_count": 17,
   "metadata": {},
   "outputs": [
    {
     "data": {
      "image/png": "[encoded data removed]",
      "text/plain": [
       "<Figure size 640x480 with 1 Axes>"
      ]
     },
     "metadata": {},
     "output_type": "display_data"
    }
   ],
   "source": [
    "plot_n_boxplots([quasi_results[:, 0, 0, 1].flatten(), quasi_results[:, 0, 1, 1].flatten(), quasi_results[:, 0, 2, 1].flatten()], [sns.xkcd_rgb[\"pale red\"], sns.xkcd_rgb[\"pale red\"], sns.xkcd_rgb[\"pale red\"]])"
   ]
  },
  {
   "cell_type": "markdown",
   "metadata": {},
   "source": [
    "Compared to median"
   ]
  },
  {
   "cell_type": "code",
   "execution_count": 21,
   "metadata": {},
   "outputs": [
    {
     "data": {
      "image/png": "[encoded data removed]",
      "text/plain": [
       "<Figure size 640x480 with 1 Axes>"
      ]
     },
     "metadata": {},
     "output_type": "display_data"
    }
   ],
   "source": [
    "plot_n_boxplots([quasi_results[:, 1, 0, 1].flatten(), quasi_results[:, 1, 1, 1].flatten(), quasi_results[:, 1, 2, 1].flatten()], [sns.xkcd_rgb[\"pale red\"], sns.xkcd_rgb[\"pale red\"], sns.xkcd_rgb[\"pale red\"]])"
   ]
  },
  {
   "cell_type": "markdown",
   "metadata": {},
   "source": [
    "More stats for the best one."
   ]
  },
  {
   "cell_type": "code",
   "execution_count": 22,
   "metadata": {},
   "outputs": [
    {
     "name": "stdout",
     "output_type": "stream",
     "text": [
      "[ 1. -1. -1.  0.  3.  1.  1.  1.  0. -1.  3.  1.  0.  2.  1.  2.  4.  1.\n",
      " -1.  2.  2.  2.  5.  6.  2. -1.  0.  1.  0.  2. -1.  6.  0.  0.  0.  0.\n",
      " -1.  4. -1.  1.  0. -1.  0.  3. -1.  1.  3. -1.]\n"
     ]
    }
   ],
   "source": [
    "print(quasi_results[:, 0, 0, 1].flatten())"
   ]
  },
  {
   "cell_type": "code",
   "execution_count": 23,
   "metadata": {},
   "outputs": [
    {
     "data": {
      "image/png": "[encoded data removed]",
      "text/plain": [
       "<Figure size 640x480 with 1 Axes>"
      ]
     },
     "metadata": {},
     "output_type": "display_data"
    }
   ],
   "source": [
    "plt.hist(quasi_results[:, 0, 0, 1])\n",
    "plt.show()"
   ]
  },
  {
   "cell_type": "code",
   "execution_count": 24,
   "metadata": {},
   "outputs": [
    {
     "name": "stdout",
     "output_type": "stream",
     "text": [
      "3.888235287247468 0.0003160882481907219\n"
     ]
    }
   ],
   "source": [
    "t_statistic, p_value = stats.ttest_1samp(a=quasi_results[:, 0, 0, 1], popmean=0) \n",
    "print(t_statistic , p_value)"
   ]
  },
  {
   "cell_type": "markdown",
   "metadata": {},
   "source": [
    "Investigating the statisitcs of itteration maximazing the average number of biological components."
   ]
  },
  {
   "cell_type": "code",
   "execution_count": 25,
   "metadata": {},
   "outputs": [
    {
     "data": {
      "image/png": "[encoded data removed]",
      "text/plain": [
       "<Figure size 640x480 with 1 Axes>"
      ]
     },
     "metadata": {},
     "output_type": "display_data"
    }
   ],
   "source": [
    "plot_n_boxplots([quasi_results[:, 0, 0, 2].flatten()], [sns.xkcd_rgb[\"pale red\"]])"
   ]
  },
  {
   "cell_type": "markdown",
   "metadata": {},
   "source": [
    "Compared to the other thresholds"
   ]
  },
  {
   "cell_type": "code",
   "execution_count": 27,
   "metadata": {},
   "outputs": [
    {
     "data": {
      "image/png": "[encoded data removed]",
      "text/plain": [
       "<Figure size 640x480 with 1 Axes>"
      ]
     },
     "metadata": {},
     "output_type": "display_data"
    }
   ],
   "source": [
    "plot_n_boxplots([quasi_results[:, 0, 0, 2].flatten(), quasi_results[:, 0, 1, 2].flatten(), quasi_results[:, 0, 2, 2].flatten()], [sns.xkcd_rgb[\"pale red\"], sns.xkcd_rgb[\"pale red\"], sns.xkcd_rgb[\"pale red\"]])"
   ]
  },
  {
   "cell_type": "markdown",
   "metadata": {},
   "source": [
    "Compared to median"
   ]
  },
  {
   "cell_type": "code",
   "execution_count": 28,
   "metadata": {},
   "outputs": [
    {
     "data": {
      "image/png": "[encoded data removed]",
      "text/plain": [
       "<Figure size 640x480 with 1 Axes>"
      ]
     },
     "metadata": {},
     "output_type": "display_data"
    }
   ],
   "source": [
    "plot_n_boxplots([quasi_results[:, 1, 0, 2].flatten(), quasi_results[:, 1, 1, 2].flatten(), quasi_results[:, 1, 2, 2].flatten()], [sns.xkcd_rgb[\"pale red\"], sns.xkcd_rgb[\"pale red\"], sns.xkcd_rgb[\"pale red\"]])"
   ]
  },
  {
   "cell_type": "markdown",
   "metadata": {},
   "source": [
    "More stats for the best one."
   ]
  },
  {
   "cell_type": "code",
   "execution_count": 29,
   "metadata": {},
   "outputs": [
    {
     "name": "stdout",
     "output_type": "stream",
     "text": [
      "[-3. -2. -1.  2.  1.  1.  1.  1.  2. -3.  0.  1.  0.  3. -1.  2.  2.  0.\n",
      " -1.  0.  2.  2.  3.  5.  0. -2. -1.  1.  1.  4.  1.  6.  0.  1.  0.  1.\n",
      " -1.  3. -1.  1.  0. -1.  0.  2. -1. -2.  3. -1.]\n"
     ]
    }
   ],
   "source": [
    "print(quasi_results[:, 0, 0, 2].flatten())"
   ]
  },
  {
   "cell_type": "code",
   "execution_count": 30,
   "metadata": {},
   "outputs": [
    {
     "data": {
      "image/png": "[encoded data removed]",
      "text/plain": [
       "<Figure size 640x480 with 1 Axes>"
      ]
     },
     "metadata": {},
     "output_type": "display_data"
    }
   ],
   "source": [
    "plt.hist(quasi_results[:, 0, 0, 2])\n",
    "plt.show()"
   ]
  },
  {
   "cell_type": "code",
   "execution_count": 31,
   "metadata": {},
   "outputs": [
    {
     "name": "stdout",
     "output_type": "stream",
     "text": [
      "1.2713107750103814 0.2098738428285435\n"
     ]
    }
   ],
   "source": [
    "t_statistic, p_value = stats.ttest_1samp(a=quasi_results[:, 1, 0, 2], popmean=0) \n",
    "print(t_statistic , p_value)"
   ]
  },
  {
   "cell_type": "markdown",
   "metadata": {},
   "source": [
    "Then Analysis of how peaks thresholding does on its own"
   ]
  },
  {
   "cell_type": "code",
   "execution_count": 32,
   "metadata": {},
   "outputs": [],
   "source": [
    "epi_peak_ec_folder = pathlib.Path(r\"C:\\Users\\workbench\\eirik_master\\Results\\epi_data\\results_run_2_extended\\0\\peak\")\n",
    "epi_peak_eo_folder = pathlib.Path(r\"C:\\Users\\workbench\\eirik_master\\Results\\epi_data\\results_run_2_extended\\1\\peak\")"
   ]
  },
  {
   "cell_type": "code",
   "execution_count": 33,
   "metadata": {},
   "outputs": [],
   "source": [
    "epi_peak_ec_results = np.zeros(\n",
    "    (   \n",
    "        16,\n",
    "        2,\n",
    "        4,\n",
    "        5\n",
    "    )\n",
    ")"
   ]
  },
  {
   "cell_type": "code",
   "execution_count": 37,
   "metadata": {},
   "outputs": [],
   "source": [
    "epi_peak_eo_results = np.zeros(\n",
    "    (   \n",
    "        16,\n",
    "        2,\n",
    "        4,\n",
    "        5\n",
    "    )\n",
    ")"
   ]
  },
  {
   "cell_type": "code",
   "execution_count": 34,
   "metadata": {},
   "outputs": [],
   "source": [
    "for i, pth in enumerate(epi_peak_ec_folder.iterdir()):\n",
    "    current = np.load(pth)\n",
    "    epi_peak_ec_results[i, :, :, :] = current.copy()"
   ]
  },
  {
   "cell_type": "code",
   "execution_count": 39,
   "metadata": {},
   "outputs": [],
   "source": [
    "for i, pth in enumerate(epi_peak_eo_folder.iterdir()):\n",
    "    current = np.load(pth)\n",
    "    epi_peak_eo_results[i, :, :, :] = current.copy()"
   ]
  },
  {
   "cell_type": "code",
   "execution_count": 35,
   "metadata": {},
   "outputs": [],
   "source": [
    "epi_peak_results = epi_peak_ec_results.__add__(epi_peak_eo_results)/2"
   ]
  },
  {
   "cell_type": "code",
   "execution_count": null,
   "metadata": {},
   "outputs": [],
   "source": [
    "wang_peak_ec_folder = pathlib.Path(r\"C:\\Users\\workbench\\eirik_master\\Results\\yulin_wang\\results_run_2\\0\\peak\")\n",
    "wang_peak_eo_folder = pathlib.Path(r\"C:\\Users\\workbench\\eirik_master\\Results\\yulin_wang\\results_run_2\\1\\peak\")"
   ]
  },
  {
   "cell_type": "code",
   "execution_count": null,
   "metadata": {},
   "outputs": [],
   "source": [
    "wang_peak_ec_results = np.zeros(\n",
    "    (   \n",
    "        16,\n",
    "        2,\n",
    "        4,\n",
    "        5\n",
    "    )\n",
    ")"
   ]
  },
  {
   "cell_type": "code",
   "execution_count": null,
   "metadata": {},
   "outputs": [],
   "source": [
    "wang_peak_eo_results = np.zeros(\n",
    "    (   \n",
    "        16,\n",
    "        2,\n",
    "        4,\n",
    "        5\n",
    "    )\n",
    ")"
   ]
  },
  {
   "cell_type": "code",
   "execution_count": null,
   "metadata": {},
   "outputs": [],
   "source": [
    "for i, pth in enumerate(wang_peak_ec_folder.iterdir()):\n",
    "    current = np.load(pth)\n",
    "    wang_peak_ec_results[i, :, :, :] = current.copy()"
   ]
  },
  {
   "cell_type": "code",
   "execution_count": null,
   "metadata": {},
   "outputs": [],
   "source": [
    "for i, pth in enumerate(wang_peak_eo_folder.iterdir()):\n",
    "    current = np.load(pth)\n",
    "    wang_peak_eo_results[i, :, :, :] = current.copy()"
   ]
  },
  {
   "cell_type": "code",
   "execution_count": null,
   "metadata": {},
   "outputs": [],
   "source": [
    "wang_peak_results = wang_peak_ec_results.__add__(wang_peak_eo_results)/2"
   ]
  },
  {
   "cell_type": "code",
   "execution_count": 36,
   "metadata": {},
   "outputs": [],
   "source": [
    "srm_peak_folder = pathlib.Path(r\"C:\\Users\\workbench\\eirik_master\\Results\\srm_data\\results_run_2_extended\\peak\")"
   ]
  },
  {
   "cell_type": "code",
   "execution_count": 37,
   "metadata": {},
   "outputs": [],
   "source": [
    "srm_peak_results = np.zeros(\n",
    "    (   \n",
    "        16,\n",
    "        2,\n",
    "        4,\n",
    "        5\n",
    "    )\n",
    ")"
   ]
  },
  {
   "cell_type": "code",
   "execution_count": 38,
   "metadata": {},
   "outputs": [],
   "source": [
    "for i, pth in enumerate(srm_peak_folder.iterdir()):\n",
    "    current = np.load(pth)\n",
    "    srm_peak_results[i, :, :, :] = current.copy()"
   ]
  },
  {
   "cell_type": "code",
   "execution_count": 39,
   "metadata": {},
   "outputs": [],
   "source": [
    "spis_peak_folder = pathlib.Path(r\"C:\\Users\\workbench\\eirik_master\\Results\\SPIS-Resting-State-Dataset\\results_run_2_extended\\peak\")"
   ]
  },
  {
   "cell_type": "code",
   "execution_count": 40,
   "metadata": {},
   "outputs": [],
   "source": [
    "spis_peak_results = np.zeros(\n",
    "    (   \n",
    "        16,\n",
    "        2,\n",
    "        4,\n",
    "        5\n",
    "    )\n",
    ")"
   ]
  },
  {
   "cell_type": "code",
   "execution_count": 41,
   "metadata": {},
   "outputs": [],
   "source": [
    "for i, pth in enumerate(spis_peak_folder.iterdir()):\n",
    "    current = np.load(pth)\n",
    "    spis_peak_results[i, :, :, :] = current.copy()"
   ]
  },
  {
   "cell_type": "code",
   "execution_count": 42,
   "metadata": {},
   "outputs": [],
   "source": [
    "peak_results = np.zeros(\n",
    "    (   \n",
    "        64,\n",
    "        2,\n",
    "        4,\n",
    "        5\n",
    "    )\n",
    ")"
   ]
  },
  {
   "cell_type": "code",
   "execution_count": 43,
   "metadata": {},
   "outputs": [],
   "source": [
    "peak_results[0:16, :, :, :] = epi_peak_results\n",
    "peak_results[16:32, :, :, :] = srm_peak_results\n",
    "peak_results[32:48, :, :, :] = spis_peak_results\n",
    "peak_results[48:64, :, :, :] = wang_peak_results"
   ]
  },
  {
   "cell_type": "code",
   "execution_count": null,
   "metadata": {},
   "outputs": [],
   "source": [
    "print(np.argwhere(np.isnan(peak_results)))\n",
    "print(np.argwhere(np.isnan(peak_results)))"
   ]
  },
  {
   "cell_type": "code",
   "execution_count": 44,
   "metadata": {},
   "outputs": [
    {
     "name": "stdout",
     "output_type": "stream",
     "text": [
      "(0, 0)\n",
      "(0, 0)\n",
      "(1, 1)\n",
      "(0, 0)\n",
      "(0, 0)\n"
     ]
    }
   ],
   "source": [
    "print(np.unravel_index(np.argmax(np.mean(peak_results[:, :, :, 0], 0)), (2, 4)))\n",
    "print(np.unravel_index(np.argmax(np.mean(peak_results[:, :, :, 1], 0)), (2, 4)))\n",
    "print(np.unravel_index(np.argmax(np.mean(peak_results[:, :, :, 2], 0)), (2, 4)))\n",
    "print(np.unravel_index(np.argmax(np.mean(peak_results[:, :, :, 3], 0)), (2, 4)))\n",
    "print(np.unravel_index(np.argmax(np.mean(peak_results[:, :, :, 4], 0)), (2, 4)))"
   ]
  },
  {
   "cell_type": "code",
   "execution_count": 45,
   "metadata": {},
   "outputs": [
    {
     "name": "stdout",
     "output_type": "stream",
     "text": [
      "(0, 0)\n",
      "(0, 0)\n",
      "(0, 0)\n",
      "(0, 0)\n",
      "(0, 0)\n"
     ]
    }
   ],
   "source": [
    "#best median\n",
    "print(np.unravel_index(np.argmax(np.median(peak_results[:, :, :, 0], 0)), (2, 4)))\n",
    "print(np.unravel_index(np.argmax(np.median(peak_results[:, :, :, 1], 0)), (2, 4)))\n",
    "print(np.unravel_index(np.argmax(np.median(peak_results[:, :, :, 2], 0)), (2, 4)))\n",
    "print(np.unravel_index(np.argmax(np.median(peak_results[:, :, :, 3], 0)), (2, 4)))\n",
    "print(np.unravel_index(np.argmax(np.median(peak_results[:, :, :, 4], 0)), (2, 4)))"
   ]
  },
  {
   "cell_type": "markdown",
   "metadata": {},
   "source": [
    "Investigating the statisitcs of itteration maximazing the average number of braincomponents."
   ]
  },
  {
   "cell_type": "code",
   "execution_count": 46,
   "metadata": {},
   "outputs": [
    {
     "data": {
      "image/png": "[encoded data removed]",
      "text/plain": [
       "<Figure size 640x480 with 1 Axes>"
      ]
     },
     "metadata": {},
     "output_type": "display_data"
    }
   ],
   "source": [
    "plot_n_boxplots([peak_results[:, 0, 0, 1].flatten()], [sns.xkcd_rgb[\"pale red\"]])"
   ]
  },
  {
   "cell_type": "markdown",
   "metadata": {},
   "source": [
    "Compared to the other thresholds"
   ]
  },
  {
   "cell_type": "code",
   "execution_count": 47,
   "metadata": {},
   "outputs": [
    {
     "data": {
      "image/png": "[encoded data removed]",
      "text/plain": [
       "<Figure size 640x480 with 1 Axes>"
      ]
     },
     "metadata": {},
     "output_type": "display_data"
    }
   ],
   "source": [
    "plot_n_boxplots([peak_results[:, 0, 0, 1].flatten(), peak_results[:, 0, 1, 1].flatten(), peak_results[:, 0, 2, 1].flatten()], [sns.xkcd_rgb[\"pale red\"], sns.xkcd_rgb[\"pale red\"], sns.xkcd_rgb[\"pale red\"]])"
   ]
  },
  {
   "cell_type": "markdown",
   "metadata": {},
   "source": [
    "Compared to median"
   ]
  },
  {
   "cell_type": "code",
   "execution_count": 48,
   "metadata": {},
   "outputs": [
    {
     "data": {
      "image/png": "[encoded data removed]",
      "text/plain": [
       "<Figure size 640x480 with 1 Axes>"
      ]
     },
     "metadata": {},
     "output_type": "display_data"
    }
   ],
   "source": [
    "plot_n_boxplots([peak_results[:, 1, 0, 1].flatten(), peak_results[:, 1, 1, 1].flatten(), peak_results[:, 1, 2, 1].flatten()], [sns.xkcd_rgb[\"pale red\"], sns.xkcd_rgb[\"pale red\"], sns.xkcd_rgb[\"pale red\"]])"
   ]
  },
  {
   "cell_type": "markdown",
   "metadata": {},
   "source": [
    "More stats for the best one."
   ]
  },
  {
   "cell_type": "code",
   "execution_count": 49,
   "metadata": {},
   "outputs": [
    {
     "name": "stdout",
     "output_type": "stream",
     "text": [
      "[-1. -1.  0.  1.  4. -2.  2.  2.  3.  2.  0.  0. -1.  5.  0.  0.  0.  3.\n",
      "  2.  0.  2.  2.  6.  1.  3. -4.  0.  1.  0.  3.  0.  3. -1.  0.  1.  1.\n",
      " -1.  4.  2.  1. -2. -1.  0.  1. -2.  1.  1. -1.]\n"
     ]
    }
   ],
   "source": [
    "print(peak_results[:, 0, 0, 1].flatten())"
   ]
  },
  {
   "cell_type": "code",
   "execution_count": 50,
   "metadata": {},
   "outputs": [
    {
     "data": {
      "image/png": "[encoded data removed]",
      "text/plain": [
       "<Figure size 640x480 with 1 Axes>"
      ]
     },
     "metadata": {},
     "output_type": "display_data"
    }
   ],
   "source": [
    "plt.hist(peak_results[:, 0, 0, 1])\n",
    "plt.show()"
   ]
  },
  {
   "cell_type": "code",
   "execution_count": 51,
   "metadata": {},
   "outputs": [
    {
     "name": "stdout",
     "output_type": "stream",
     "text": [
      "2.977906064385156 0.004578334939736756\n"
     ]
    }
   ],
   "source": [
    "t_statistic, p_value = stats.ttest_1samp(a=peak_results[:, 0, 0, 1], popmean=0) \n",
    "print(t_statistic , p_value)"
   ]
  },
  {
   "cell_type": "markdown",
   "metadata": {},
   "source": [
    "Investigating the statisitcs of itteration maximazing the average number of biological components."
   ]
  },
  {
   "cell_type": "code",
   "execution_count": 52,
   "metadata": {},
   "outputs": [
    {
     "data": {
      "image/png": "[encoded data removed]",
      "text/plain": [
       "<Figure size 640x480 with 1 Axes>"
      ]
     },
     "metadata": {},
     "output_type": "display_data"
    }
   ],
   "source": [
    "plot_n_boxplots([peak_results[:, 1, 1, 2].flatten()], [sns.xkcd_rgb[\"pale red\"]])"
   ]
  },
  {
   "cell_type": "markdown",
   "metadata": {},
   "source": [
    "Compared to the other thresholds"
   ]
  },
  {
   "cell_type": "code",
   "execution_count": 53,
   "metadata": {},
   "outputs": [
    {
     "data": {
      "image/png": "[encoded data removed]",
      "text/plain": [
       "<Figure size 640x480 with 1 Axes>"
      ]
     },
     "metadata": {},
     "output_type": "display_data"
    }
   ],
   "source": [
    "plot_n_boxplots([peak_results[:, 1, 0, 2].flatten(), peak_results[:, 1, 1, 2].flatten(), peak_results[:, 1, 2, 2].flatten()], [sns.xkcd_rgb[\"pale red\"], sns.xkcd_rgb[\"pale red\"], sns.xkcd_rgb[\"pale red\"]])"
   ]
  },
  {
   "cell_type": "markdown",
   "metadata": {},
   "source": [
    "Compared to mean"
   ]
  },
  {
   "cell_type": "code",
   "execution_count": 54,
   "metadata": {},
   "outputs": [
    {
     "data": {
      "image/png": "[encoded data removed]",
      "text/plain": [
       "<Figure size 640x480 with 1 Axes>"
      ]
     },
     "metadata": {},
     "output_type": "display_data"
    }
   ],
   "source": [
    "plot_n_boxplots([peak_results[:, 0, 0, 2].flatten(), peak_results[:, 0, 1, 2].flatten(), peak_results[:, 0, 2, 2].flatten()], [sns.xkcd_rgb[\"pale red\"], sns.xkcd_rgb[\"pale red\"], sns.xkcd_rgb[\"pale red\"]])"
   ]
  },
  {
   "cell_type": "markdown",
   "metadata": {},
   "source": [
    "More stats for the best one."
   ]
  },
  {
   "cell_type": "code",
   "execution_count": 56,
   "metadata": {},
   "outputs": [
    {
     "name": "stdout",
     "output_type": "stream",
     "text": [
      "[ 0.  0.  3.  1. -1.  1.  0.  2.  0.  0. -2.  2. -2.  2.  3.  0.  0.  1.\n",
      "  3.  1.  0.  0.  0.  0.  0. -3. -2.  0.  0.  2.  1.  7.  0.  0.  0.  0.\n",
      "  0.  2.  1.  0.  0.  0.  0.  0.  0.  0.  0. -1.]\n"
     ]
    }
   ],
   "source": [
    "print(peak_results[:, 1, 1, 2].flatten())"
   ]
  },
  {
   "cell_type": "code",
   "execution_count": 57,
   "metadata": {},
   "outputs": [
    {
     "data": {
      "image/png": "[encoded data removed]",
      "text/plain": [
       "<Figure size 640x480 with 1 Axes>"
      ]
     },
     "metadata": {},
     "output_type": "display_data"
    }
   ],
   "source": [
    "plt.hist(peak_results[:, 1, 1, 2])\n",
    "plt.show()"
   ]
  },
  {
   "cell_type": "code",
   "execution_count": 58,
   "metadata": {},
   "outputs": [
    {
     "name": "stdout",
     "output_type": "stream",
     "text": [
      "1.930944924137912 0.059534137935044855\n"
     ]
    }
   ],
   "source": [
    "t_statistic, p_value = stats.ttest_1samp(a=peak_results[:, 1, 1, 2], popmean=0) \n",
    "print(t_statistic , p_value)"
   ]
  },
  {
   "cell_type": "markdown",
   "metadata": {},
   "source": [
    "Then comined!!!!!!!!!!!!!!!!!!!!!!!!!!!!!!!!!!!!!!!!!!!!!!!!!!!!!!!!!!!!!!!!!!!!!!!!!!!!!!!!!!!!!!!!!!!!!!!!"
   ]
  },
  {
   "cell_type": "code",
   "execution_count": 60,
   "metadata": {},
   "outputs": [],
   "source": [
    "epi_combined_ec_folder = pathlib.Path(r\"C:\\Users\\workbench\\eirik_master\\Results\\epi_data\\results_run_2_extended\\0\\combined\")\n",
    "epi_combined_eo_folder = pathlib.Path(r\"C:\\Users\\workbench\\eirik_master\\Results\\epi_data\\results_run_2_extended\\1\\combined\")"
   ]
  },
  {
   "cell_type": "code",
   "execution_count": 61,
   "metadata": {},
   "outputs": [],
   "source": [
    "epi_combined_ec_results = np.zeros(\n",
    "    (   \n",
    "        16,\n",
    "        2,\n",
    "        4,\n",
    "        2,\n",
    "        4,\n",
    "        5\n",
    "    )\n",
    ")"
   ]
  },
  {
   "cell_type": "code",
   "execution_count": 71,
   "metadata": {},
   "outputs": [],
   "source": [
    "epi_combined_eo_results = np.zeros(\n",
    "    (   \n",
    "        16,\n",
    "        2,\n",
    "        4,\n",
    "        2,\n",
    "        4,\n",
    "        5\n",
    "    )\n",
    ")"
   ]
  },
  {
   "cell_type": "code",
   "execution_count": 62,
   "metadata": {},
   "outputs": [],
   "source": [
    "for i, pth in enumerate(epi_combined_ec_folder.iterdir()):\n",
    "    current = np.load(pth)\n",
    "    epi_combined_ec_results[i, :, :, :, :, :] = current.copy()"
   ]
  },
  {
   "cell_type": "code",
   "execution_count": 73,
   "metadata": {},
   "outputs": [],
   "source": [
    "for i, pth in enumerate(epi_combined_eo_folder.iterdir()):\n",
    "    current = np.load(pth)\n",
    "    epi_combined_eo_results[i, :, :, :, :, :] = current.copy()"
   ]
  },
  {
   "cell_type": "code",
   "execution_count": 63,
   "metadata": {},
   "outputs": [],
   "source": [
    "epi_combined_results = epi_combined_ec_results.__add__(epi_combined_ec_results)/2"
   ]
  },
  {
   "cell_type": "code",
   "execution_count": null,
   "metadata": {},
   "outputs": [],
   "source": [
    "wang_combined_ec_folder = pathlib.Path(r\"C:\\Users\\workbench\\eirik_master\\Results\\yulin_wang\\results_run_2\\0\\combined\")\n",
    "wang_combined_eo_folder = pathlib.Path(r\"C:\\Users\\workbench\\eirik_master\\Results\\yulin_wang\\results_run_2\\1\\combined\")"
   ]
  },
  {
   "cell_type": "code",
   "execution_count": null,
   "metadata": {},
   "outputs": [],
   "source": [
    "wang_combined_ec_results = np.zeros(\n",
    "    (   \n",
    "        16,\n",
    "        2,\n",
    "        4,\n",
    "        2,\n",
    "        4,\n",
    "        5\n",
    "    )\n",
    ")"
   ]
  },
  {
   "cell_type": "code",
   "execution_count": null,
   "metadata": {},
   "outputs": [],
   "source": [
    "wang_combined_eo_results = np.zeros(\n",
    "    (   \n",
    "        16,\n",
    "        2,\n",
    "        4,\n",
    "        2,\n",
    "        4,\n",
    "        5\n",
    "    )\n",
    ")"
   ]
  },
  {
   "cell_type": "code",
   "execution_count": null,
   "metadata": {},
   "outputs": [],
   "source": [
    "for i, pth in enumerate(wang_combined_ec_folder.iterdir()):\n",
    "    current = np.load(pth)\n",
    "    wang_combined_ec_results[i, :, :, :, :, :] = current.copy()"
   ]
  },
  {
   "cell_type": "code",
   "execution_count": null,
   "metadata": {},
   "outputs": [],
   "source": [
    "for i, pth in enumerate(wang_combined_eo_folder.iterdir()):\n",
    "    current = np.load(pth)\n",
    "    wang_combined_eo_results[i, :, :, :, :, :] = current.copy()"
   ]
  },
  {
   "cell_type": "code",
   "execution_count": null,
   "metadata": {},
   "outputs": [],
   "source": [
    "wang_combined_results = wang_combined_ec_results.__add__(wang_combined_eo_results)/2"
   ]
  },
  {
   "cell_type": "code",
   "execution_count": 64,
   "metadata": {},
   "outputs": [],
   "source": [
    "srm_combined_folder = pathlib.Path(r\"C:\\Users\\workbench\\eirik_master\\Results\\srm_data\\results_run_2_extended\\combined\")"
   ]
  },
  {
   "cell_type": "code",
   "execution_count": 65,
   "metadata": {},
   "outputs": [],
   "source": [
    "srm_combined_results = np.zeros(\n",
    "    (   \n",
    "        16,\n",
    "        2,\n",
    "        4,\n",
    "        2,\n",
    "        4,\n",
    "        5\n",
    "    )\n",
    ")"
   ]
  },
  {
   "cell_type": "code",
   "execution_count": 66,
   "metadata": {},
   "outputs": [],
   "source": [
    "for i, pth in enumerate(srm_combined_folder.iterdir()):\n",
    "    current = np.load(pth)\n",
    "    srm_combined_results[i, :, :, :, :, :] = current.copy()"
   ]
  },
  {
   "cell_type": "code",
   "execution_count": 67,
   "metadata": {},
   "outputs": [],
   "source": [
    "spis_combined_folder = pathlib.Path(r\"C:\\Users\\workbench\\eirik_master\\Results\\SPIS-Resting-State-Dataset\\results_run_2_extended\\combined\")"
   ]
  },
  {
   "cell_type": "code",
   "execution_count": 68,
   "metadata": {},
   "outputs": [],
   "source": [
    "spis_combined_results = np.zeros(\n",
    "    (   \n",
    "        16,\n",
    "        2,\n",
    "        4,\n",
    "        2,\n",
    "        4,\n",
    "        5\n",
    "    )\n",
    ")"
   ]
  },
  {
   "cell_type": "code",
   "execution_count": 69,
   "metadata": {},
   "outputs": [],
   "source": [
    "for i, pth in enumerate(spis_combined_folder.iterdir()):\n",
    "    current = np.load(pth)\n",
    "    spis_combined_results[i, :, :, :, :, :] = current.copy()"
   ]
  },
  {
   "cell_type": "code",
   "execution_count": 70,
   "metadata": {},
   "outputs": [],
   "source": [
    "combined_results = np.zeros(\n",
    "    (   \n",
    "        48,\n",
    "        2,\n",
    "        4,\n",
    "        2,\n",
    "        4,\n",
    "        5\n",
    "    )\n",
    ")"
   ]
  },
  {
   "cell_type": "code",
   "execution_count": 71,
   "metadata": {},
   "outputs": [],
   "source": [
    "combined_results[0:16, :, :, :] = epi_combined_results\n",
    "combined_results[16:32, :, :, :] = srm_combined_results\n",
    "combined_results[32:48, :, :, :] = spis_combined_results\n",
    "combined_results[48:62, :, :, :] = wang_combined_results"
   ]
  },
  {
   "cell_type": "code",
   "execution_count": null,
   "metadata": {},
   "outputs": [],
   "source": [
    "print(np.argwhere(np.isnan(combined_results)))\n",
    "print(np.argwhere(np.isinf(combined_results)))"
   ]
  },
  {
   "cell_type": "code",
   "execution_count": 105,
   "metadata": {},
   "outputs": [
    {
     "name": "stdout",
     "output_type": "stream",
     "text": [
      "(0, 0, 0, 0)\n",
      "(0, 0, 1, 0)\n",
      "(0, 0, 1, 0)\n",
      "(0, 0, 1, 0)\n",
      "(0, 0, 1, 0)\n"
     ]
    }
   ],
   "source": [
    "print(np.unravel_index(np.argmax(np.mean(combined_results[:, :, :, :, :, 0], 0)), (2, 4, 2, 4)))\n",
    "print(np.unravel_index(np.argmax(np.mean(combined_results[:, :, :, :, :, 1], 0)), (2, 4, 2, 4)))\n",
    "print(np.unravel_index(np.argmax(np.mean(combined_results[:, :, :, :, :, 2], 0)), (2, 4, 2, 4)))\n",
    "print(np.unravel_index(np.argmax(np.mean(combined_results[:, :, :, :, :, 3], 0)), (2, 4, 2, 4)))\n",
    "print(np.unravel_index(np.argmax(np.mean(combined_results[:, :, :, :, :, 4], 0)), (2, 4, 2, 4)))"
   ]
  },
  {
   "cell_type": "code",
   "execution_count": 73,
   "metadata": {},
   "outputs": [
    {
     "name": "stdout",
     "output_type": "stream",
     "text": [
      "(0, 0, 0, 0)\n",
      "(0, 0, 1, 0)\n",
      "(0, 0, 0, 0)\n",
      "(0, 0, 1, 0)\n",
      "(0, 0, 1, 0)\n"
     ]
    }
   ],
   "source": [
    "#best median\n",
    "print(np.unravel_index(np.argmax(np.median(combined_results[:, :, :, :, :, 0], 0)), (2, 4, 2, 4)))\n",
    "print(np.unravel_index(np.argmax(np.median(combined_results[:, :, :, :, :, 1], 0)), (2, 4, 2, 4)))\n",
    "print(np.unravel_index(np.argmax(np.median(combined_results[:, :, :, :, :, 2], 0)), (2, 4, 2, 4)))\n",
    "print(np.unravel_index(np.argmax(np.median(combined_results[:, :, :, :, :, 3], 0)), (2, 4, 2, 4)))\n",
    "print(np.unravel_index(np.argmax(np.median(combined_results[:, :, :, :, :, 4], 0)), (2, 4, 2, 4)))"
   ]
  },
  {
   "cell_type": "markdown",
   "metadata": {},
   "source": [
    "Investigating the statisitcs of itteration maximazing the average number of braincomponents."
   ]
  },
  {
   "cell_type": "code",
   "execution_count": 109,
   "metadata": {},
   "outputs": [
    {
     "data": {
      "image/png": "[encoded data removed]",
      "text/plain": [
       "<Figure size 640x480 with 1 Axes>"
      ]
     },
     "metadata": {},
     "output_type": "display_data"
    }
   ],
   "source": [
    "plot_n_boxplots([combined_results[:, 0, 0, 1, 0, 1].flatten()], [sns.xkcd_rgb[\"pale red\"]])"
   ]
  },
  {
   "cell_type": "code",
   "execution_count": 110,
   "metadata": {},
   "outputs": [
    {
     "data": {
      "image/png": "[encoded data removed]",
      "text/plain": [
       "<Figure size 640x480 with 1 Axes>"
      ]
     },
     "metadata": {},
     "output_type": "display_data"
    }
   ],
   "source": [
    "plot_n_boxplots([combined_results[:, 0, 0, 1, 0, 0].flatten()], [sns.xkcd_rgb[\"pale red\"]])"
   ]
  },
  {
   "cell_type": "code",
   "execution_count": 111,
   "metadata": {},
   "outputs": [
    {
     "data": {
      "image/png": "[encoded data removed]",
      "text/plain": [
       "<Figure size 640x480 with 1 Axes>"
      ]
     },
     "metadata": {},
     "output_type": "display_data"
    }
   ],
   "source": [
    "plt.hist(combined_results[:, 0, 0, 1, 0, 0].flatten(), bins=48)\n",
    "plt.show()"
   ]
  },
  {
   "cell_type": "code",
   "execution_count": 112,
   "metadata": {},
   "outputs": [
    {
     "data": {
      "image/png": "[encoded data removed]",
      "text/plain": [
       "<Figure size 640x480 with 1 Axes>"
      ]
     },
     "metadata": {},
     "output_type": "display_data"
    }
   ],
   "source": [
    "plt.scatter(combined_results[:, 0, 0, 1, 0, 0], combined_results[:, 0, 0, 1, 0, 1])\n",
    "plt.show()"
   ]
  },
  {
   "cell_type": "markdown",
   "metadata": {},
   "source": [
    "Compared to the other thresholds"
   ]
  },
  {
   "cell_type": "code",
   "execution_count": 76,
   "metadata": {},
   "outputs": [
    {
     "data": {
      "image/png": "[encoded data removed]",
      "text/plain": [
       "<Figure size 640x480 with 1 Axes>"
      ]
     },
     "metadata": {},
     "output_type": "display_data"
    }
   ],
   "source": [
    "plot_n_boxplots([combined_results[:, 0, 0, 1, 0, 1], combined_results[:, 0, 1, 1, 0, 1], combined_results[:, 0, 0, 1, 1, 1], combined_results[:, 0, 1, 1, 1, 1]], [sns.xkcd_rgb[\"pale red\"], sns.xkcd_rgb[\"pale red\"], sns.xkcd_rgb[\"pale red\"], sns.xkcd_rgb[\"pale red\"]])"
   ]
  },
  {
   "cell_type": "markdown",
   "metadata": {},
   "source": [
    "all median?"
   ]
  },
  {
   "cell_type": "code",
   "execution_count": 77,
   "metadata": {},
   "outputs": [
    {
     "data": {
      "image/png": "[encoded data removed]",
      "text/plain": [
       "<Figure size 640x480 with 1 Axes>"
      ]
     },
     "metadata": {},
     "output_type": "display_data"
    }
   ],
   "source": [
    "plot_n_boxplots([combined_results[:, 1, 0, 1, 0, 1], combined_results[:, 1, 1, 1, 0, 1], combined_results[:, 1, 0, 1, 1, 1], combined_results[:, 1, 1, 1, 1, 1]], [sns.xkcd_rgb[\"pale red\"], sns.xkcd_rgb[\"pale red\"], sns.xkcd_rgb[\"pale red\"], sns.xkcd_rgb[\"pale red\"]])"
   ]
  },
  {
   "cell_type": "markdown",
   "metadata": {},
   "source": [
    "Quasi median?"
   ]
  },
  {
   "cell_type": "code",
   "execution_count": 78,
   "metadata": {},
   "outputs": [
    {
     "data": {
      "image/png": "[encoded data removed]",
      "text/plain": [
       "<Figure size 640x480 with 1 Axes>"
      ]
     },
     "metadata": {},
     "output_type": "display_data"
    }
   ],
   "source": [
    "plot_n_boxplots([combined_results[:, 1, 0, 0, 0, 1], combined_results[:, 1, 1, 0, 0, 1], combined_results[:, 1, 0, 0, 1, 1], combined_results[:, 1, 1, 0, 1, 1]], [sns.xkcd_rgb[\"pale red\"], sns.xkcd_rgb[\"pale red\"], sns.xkcd_rgb[\"pale red\"], sns.xkcd_rgb[\"pale red\"]])"
   ]
  },
  {
   "cell_type": "markdown",
   "metadata": {},
   "source": [
    "dont like that"
   ]
  },
  {
   "cell_type": "markdown",
   "metadata": {},
   "source": [
    "all mean?"
   ]
  },
  {
   "cell_type": "code",
   "execution_count": 79,
   "metadata": {},
   "outputs": [
    {
     "data": {
      "image/png": "[encoded data removed]",
      "text/plain": [
       "<Figure size 640x480 with 1 Axes>"
      ]
     },
     "metadata": {},
     "output_type": "display_data"
    }
   ],
   "source": [
    "plot_n_boxplots([combined_results[:, 0, 0, 0, 0, 1], combined_results[:, 0, 1, 0, 0, 1], combined_results[:, 0, 0, 0, 1, 1], combined_results[:, 0, 1, 0, 1, 1]], [sns.xkcd_rgb[\"pale red\"], sns.xkcd_rgb[\"pale red\"], sns.xkcd_rgb[\"pale red\"], sns.xkcd_rgb[\"pale red\"]])"
   ]
  },
  {
   "cell_type": "markdown",
   "metadata": {},
   "source": [
    "Not tooo excited about that one either"
   ]
  },
  {
   "cell_type": "markdown",
   "metadata": {},
   "source": [
    "More stats for the best one."
   ]
  },
  {
   "cell_type": "code",
   "execution_count": 80,
   "metadata": {},
   "outputs": [
    {
     "name": "stdout",
     "output_type": "stream",
     "text": [
      "[ 1.  1.  0. -1.  4.  0.  4.  2.  1.  2.  2.  4. -2.  4.  0.  2.  5.  1.\n",
      "  5.  2.  2.  2.  8.  4.  2.  1.  0.  0.  1.  3.  0.  7.  1.  0.  2.  0.\n",
      "  0.  5. -1.  2.  2. -1.  2.  4.  0.  1.  4. -1.]\n"
     ]
    }
   ],
   "source": [
    "print(combined_results[:, 0, 0, 1, 0, 1].flatten())"
   ]
  },
  {
   "cell_type": "code",
   "execution_count": 82,
   "metadata": {},
   "outputs": [
    {
     "data": {
      "image/png": "[encoded data removed]",
      "text/plain": [
       "<Figure size 640x480 with 1 Axes>"
      ]
     },
     "metadata": {},
     "output_type": "display_data"
    }
   ],
   "source": [
    "plt.hist(combined_results[:, 0, 0, 1, 0, 1])\n",
    "plt.show()"
   ]
  },
  {
   "cell_type": "code",
   "execution_count": 83,
   "metadata": {},
   "outputs": [
    {
     "name": "stdout",
     "output_type": "stream",
     "text": [
      "5.86695748498522 4.2768250898235956e-07\n"
     ]
    }
   ],
   "source": [
    "t_statistic, p_value = stats.ttest_1samp(a=combined_results[:, 0, 0, 1, 0, 1], popmean=0) \n",
    "print(t_statistic , p_value)"
   ]
  },
  {
   "cell_type": "markdown",
   "metadata": {},
   "source": [
    "Investigating the statisitcs of itteration maximazing the average number of biological components."
   ]
  },
  {
   "cell_type": "code",
   "execution_count": 113,
   "metadata": {},
   "outputs": [
    {
     "data": {
      "image/png": "[encoded data removed]",
      "text/plain": [
       "<Figure size 640x480 with 1 Axes>"
      ]
     },
     "metadata": {},
     "output_type": "display_data"
    }
   ],
   "source": [
    "plot_n_boxplots([combined_results[:, 0, 0, 1, 0, 2].flatten()], [sns.xkcd_rgb[\"pale red\"]])"
   ]
  },
  {
   "cell_type": "markdown",
   "metadata": {},
   "source": [
    "Compared to the other thresholds"
   ]
  },
  {
   "cell_type": "code",
   "execution_count": 85,
   "metadata": {},
   "outputs": [
    {
     "data": {
      "image/png": "[encoded data removed]",
      "text/plain": [
       "<Figure size 640x480 with 1 Axes>"
      ]
     },
     "metadata": {},
     "output_type": "display_data"
    }
   ],
   "source": [
    "plot_n_boxplots([combined_results[:, 0, 0, 0, 0, 2], combined_results[:, 0, 1, 0, 0, 2], combined_results[:, 0, 0, 0, 1, 2], combined_results[:, 0, 1, 0, 1, 2]], [sns.xkcd_rgb[\"pale red\"], sns.xkcd_rgb[\"pale red\"], sns.xkcd_rgb[\"pale red\"], sns.xkcd_rgb[\"pale red\"]])"
   ]
  },
  {
   "cell_type": "markdown",
   "metadata": {},
   "source": [
    "all median?"
   ]
  },
  {
   "cell_type": "code",
   "execution_count": 86,
   "metadata": {},
   "outputs": [
    {
     "data": {
      "image/png": "[encoded data removed]",
      "text/plain": [
       "<Figure size 640x480 with 1 Axes>"
      ]
     },
     "metadata": {},
     "output_type": "display_data"
    }
   ],
   "source": [
    "plot_n_boxplots([combined_results[:, 1, 0, 1, 0, 2], combined_results[:, 1, 1, 1, 0, 2], combined_results[:, 1, 0, 1, 1, 2], combined_results[:, 1, 1, 1, 1, 2]], [sns.xkcd_rgb[\"pale red\"], sns.xkcd_rgb[\"pale red\"], sns.xkcd_rgb[\"pale red\"], sns.xkcd_rgb[\"pale red\"]])"
   ]
  },
  {
   "cell_type": "markdown",
   "metadata": {},
   "source": [
    "No bueno\n",
    "all mean?"
   ]
  },
  {
   "cell_type": "markdown",
   "metadata": {},
   "source": [
    "More stats for the best one."
   ]
  },
  {
   "cell_type": "code",
   "execution_count": 89,
   "metadata": {},
   "outputs": [
    {
     "name": "stdout",
     "output_type": "stream",
     "text": [
      "[-3. -3. -2. -3.  3.  3.  2.  2. -1.  1. -3.  6. -3.  4.  0.  0.  3.  5.\n",
      "  5.  0.  1.  2.  4.  5.  0. -2. -1. -2.  2.  6.  4.  5.  0.  1.  1.  1.\n",
      " -1.  4.  2.  1.  2. -2.  1.  2. -2. -2.  5. -1.]\n"
     ]
    }
   ],
   "source": [
    "print(combined_results[:, 0, 0, 0, 0, 2].flatten())"
   ]
  },
  {
   "cell_type": "code",
   "execution_count": 92,
   "metadata": {},
   "outputs": [
    {
     "data": {
      "image/png": "[encoded data removed]",
      "text/plain": [
       "<Figure size 640x480 with 1 Axes>"
      ]
     },
     "metadata": {},
     "output_type": "display_data"
    }
   ],
   "source": [
    "plt.hist(combined_results[:, 0, 0, 0, 0, 2])\n",
    "plt.show()"
   ]
  },
  {
   "cell_type": "code",
   "execution_count": 93,
   "metadata": {},
   "outputs": [
    {
     "name": "stdout",
     "output_type": "stream",
     "text": [
      "2.791934268173548 0.00755180889926576\n"
     ]
    }
   ],
   "source": [
    "t_statistic, p_value = stats.ttest_1samp(a=combined_results[:, 0, 0, 0, 0, 2], popmean=0) \n",
    "print(t_statistic , p_value)"
   ]
  },
  {
   "cell_type": "markdown",
   "metadata": {},
   "source": [
    "best from each con of distributions"
   ]
  },
  {
   "cell_type": "markdown",
   "metadata": {},
   "source": [
    "Best mean"
   ]
  },
  {
   "cell_type": "code",
   "execution_count": 94,
   "metadata": {},
   "outputs": [
    {
     "data": {
      "image/png": "[encoded data removed]",
      "text/plain": [
       "<Figure size 640x480 with 1 Axes>"
      ]
     },
     "metadata": {},
     "output_type": "display_data"
    }
   ],
   "source": [
    "plot_n_boxplots([combined_results[:, 0, 0, 1, 0, 1], peak_results[:, 0, 0, 1], quasi_results[:, 0, 0, 1]], [sns.xkcd_rgb[\"pale red\"], sns.xkcd_rgb[\"pale red\"], sns.xkcd_rgb[\"pale red\"]])"
   ]
  },
  {
   "cell_type": "code",
   "execution_count": 96,
   "metadata": {},
   "outputs": [
    {
     "data": {
      "image/png": "[encoded data removed]",
      "text/plain": [
       "<Figure size 640x480 with 1 Axes>"
      ]
     },
     "metadata": {},
     "output_type": "display_data"
    }
   ],
   "source": [
    "# discarded\n",
    "plot_n_boxplots([combined_results[:, 0, 0, 1, 0, 0], peak_results[:, 0, 0, 0], quasi_results[:, 0, 0, 0]], [sns.xkcd_rgb[\"pale red\"], sns.xkcd_rgb[\"pale red\"], sns.xkcd_rgb[\"pale red\"]])"
   ]
  },
  {
   "cell_type": "markdown",
   "metadata": {},
   "source": [
    "Best biocomp"
   ]
  },
  {
   "cell_type": "code",
   "execution_count": 115,
   "metadata": {},
   "outputs": [
    {
     "data": {
      "image/png": "[encoded data removed]",
      "text/plain": [
       "<Figure size 640x480 with 1 Axes>"
      ]
     },
     "metadata": {},
     "output_type": "display_data"
    }
   ],
   "source": [
    "plot_n_boxplots([combined_results[:, 0, 0, 1, 0, 2], peak_results[:, 1, 1, 2], quasi_results[:, 0, 0, 2]], [sns.xkcd_rgb[\"pale red\"], sns.xkcd_rgb[\"pale red\"], sns.xkcd_rgb[\"pale red\"]])"
   ]
  },
  {
   "cell_type": "code",
   "execution_count": 116,
   "metadata": {},
   "outputs": [
    {
     "data": {
      "image/png": "[encoded data removed]",
      "text/plain": [
       "<Figure size 640x480 with 1 Axes>"
      ]
     },
     "metadata": {},
     "output_type": "display_data"
    }
   ],
   "source": [
    "#Discarded\n",
    "plot_n_boxplots([combined_results[:, 0, 0, 1, 0, 0], peak_results[:, 0, 0, 0], quasi_results[:, 0, 0, 0]], [sns.xkcd_rgb[\"pale red\"], sns.xkcd_rgb[\"pale red\"], sns.xkcd_rgb[\"pale red\"]])"
   ]
  }
 ],
 "metadata": {
  "kernelspec": {
   "display_name": "env",
   "language": "python",
   "name": "python3"
  },
  "language_info": {
   "codemirror_mode": {
    "name": "ipython",
    "version": 3
   },
   "file_extension": ".py",
   "mimetype": "text/x-python",
   "name": "python",
   "nbconvert_exporter": "python",
   "pygments_lexer": "ipython3",
   "version": "3.10.4"
  }
 },
 "nbformat": 4,
 "nbformat_minor": 2
}
