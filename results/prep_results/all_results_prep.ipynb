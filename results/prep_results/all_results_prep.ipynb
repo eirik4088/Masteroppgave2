{
 "cells": [
  {
   "cell_type": "markdown",
   "metadata": {},
   "source": [
    "HERE THE PREP TREATED SEARCH GRID DATA IS HANDLED"
   ]
  },
  {
   "cell_type": "code",
   "execution_count": 2,
   "metadata": {},
   "outputs": [],
   "source": [
    "import pathlib\n",
    "import numpy as np\n",
    "import matplotlib.pyplot as plt\n",
    "import seaborn as sns\n",
    "import os\n",
    "from scipy import stats\n",
    "from multiprocessing import Process\n",
    "from eeg_clean import clean, epoch_stats\n",
    "from data_quality import ica_score\n",
    "from plotting.templates import plot_dens_scatter, plot_n_boxplots, plot_dist_hist"
   ]
  },
  {
   "cell_type": "markdown",
   "metadata": {},
   "source": [
    "LOAD DATA"
   ]
  },
  {
   "cell_type": "code",
   "execution_count": 3,
   "metadata": {},
   "outputs": [],
   "source": [
    "baseline_folder = pathlib.Path(pathlib.Path(os.path.abspath(os.getcwd())).parent / \"results_vault\" / r\"baseline_results.npy\")\n",
    "baseline_alternate_folder = pathlib.Path(pathlib.Path(os.path.abspath(os.getcwd())).parent / \"results_vault\" / r\"baseline_results_alternate.npy\")"
   ]
  },
  {
   "cell_type": "code",
   "execution_count": 4,
   "metadata": {},
   "outputs": [],
   "source": [
    "baseline_results = np.load(baseline_folder)"
   ]
  },
  {
   "cell_type": "code",
   "execution_count": 5,
   "metadata": {},
   "outputs": [],
   "source": [
    "baseline_results_alternate = np.load(baseline_alternate_folder)"
   ]
  },
  {
   "cell_type": "code",
   "execution_count": 6,
   "metadata": {},
   "outputs": [],
   "source": [
    "epi_prep_ec_folder = pathlib.Path(pathlib.Path(os.path.abspath(os.getcwd())).parent / \"results_vault\" / r\"epi_data\\prep\\0\")\n",
    "epi_prep_eo_folder = pathlib.Path(pathlib.Path(os.path.abspath(os.getcwd())).parent / \"results_vault\" / r\"epi_data\\prep\\1\")"
   ]
  },
  {
   "cell_type": "code",
   "execution_count": 7,
   "metadata": {},
   "outputs": [],
   "source": [
    "epi_prep_ec_results = np.zeros(\n",
    "    (   \n",
    "        16,\n",
    "        5\n",
    "    )\n",
    ")"
   ]
  },
  {
   "cell_type": "code",
   "execution_count": 8,
   "metadata": {},
   "outputs": [],
   "source": [
    "epi_prep_eo_results = np.zeros(\n",
    "    (   \n",
    "        16,\n",
    "        5\n",
    "    )\n",
    ")"
   ]
  },
  {
   "cell_type": "code",
   "execution_count": 9,
   "metadata": {},
   "outputs": [],
   "source": [
    "for i, pth in enumerate(epi_prep_ec_folder.iterdir()):\n",
    "    current = np.load(pth)\n",
    "    epi_prep_ec_results[i, :] = current.copy()"
   ]
  },
  {
   "cell_type": "code",
   "execution_count": 10,
   "metadata": {},
   "outputs": [],
   "source": [
    "for i, pth in enumerate(epi_prep_eo_folder.iterdir()):\n",
    "    current = np.load(pth)\n",
    "    epi_prep_eo_results[i, :] = current.copy()"
   ]
  },
  {
   "cell_type": "code",
   "execution_count": 11,
   "metadata": {},
   "outputs": [],
   "source": [
    "epi_prep_results = epi_prep_ec_results.__add__(epi_prep_eo_results)/2"
   ]
  },
  {
   "cell_type": "code",
   "execution_count": 12,
   "metadata": {},
   "outputs": [],
   "source": [
    "wang_prep_ec_folder = pathlib.Path(pathlib.Path(os.path.abspath(os.getcwd())).parent / \"results_vault\" / r\"yulin_wang\\prep\\0\")\n",
    "wang_prep_eo_folder = pathlib.Path(pathlib.Path(os.path.abspath(os.getcwd())).parent / \"results_vault\" / r\"yulin_wang\\prep\\1\")"
   ]
  },
  {
   "cell_type": "code",
   "execution_count": 13,
   "metadata": {},
   "outputs": [],
   "source": [
    "wang_prep_ec_results = np.zeros(\n",
    "    (   \n",
    "        16,\n",
    "        5\n",
    "    )\n",
    ")"
   ]
  },
  {
   "cell_type": "code",
   "execution_count": 14,
   "metadata": {},
   "outputs": [],
   "source": [
    "wang_prep_eo_results = np.zeros(\n",
    "    (   \n",
    "        16,\n",
    "        5\n",
    "    )\n",
    ")"
   ]
  },
  {
   "cell_type": "code",
   "execution_count": 15,
   "metadata": {},
   "outputs": [],
   "source": [
    "for i, pth in enumerate(wang_prep_ec_folder.iterdir()):\n",
    "    current = np.load(pth)\n",
    "    wang_prep_ec_results[i, :] = current.copy()"
   ]
  },
  {
   "cell_type": "code",
   "execution_count": 16,
   "metadata": {},
   "outputs": [],
   "source": [
    "for i, pth in enumerate(wang_prep_eo_folder.iterdir()):\n",
    "    current = np.load(pth)\n",
    "    wang_prep_eo_results[i, :] = current.copy()"
   ]
  },
  {
   "cell_type": "code",
   "execution_count": 17,
   "metadata": {},
   "outputs": [],
   "source": [
    "wang_prep_results = wang_prep_ec_results.__add__(wang_prep_eo_results)/2"
   ]
  },
  {
   "cell_type": "code",
   "execution_count": 18,
   "metadata": {},
   "outputs": [],
   "source": [
    "srm_prep_folder = pathlib.Path(pathlib.Path(os.path.abspath(os.getcwd())).parent / \"results_vault\" / r\"srm_data\\prep\")"
   ]
  },
  {
   "cell_type": "code",
   "execution_count": 19,
   "metadata": {},
   "outputs": [],
   "source": [
    "srm_prep_results = np.zeros(\n",
    "    (   \n",
    "        16,\n",
    "        5\n",
    "    )\n",
    ")"
   ]
  },
  {
   "cell_type": "code",
   "execution_count": 20,
   "metadata": {},
   "outputs": [],
   "source": [
    "for i, pth in enumerate(srm_prep_folder.iterdir()):\n",
    "    current = np.load(pth)\n",
    "    srm_prep_results[i, :] = current.copy()"
   ]
  },
  {
   "cell_type": "code",
   "execution_count": 21,
   "metadata": {},
   "outputs": [],
   "source": [
    "spis_prep_folder = pathlib.Path(pathlib.Path(os.path.abspath(os.getcwd())).parent / \"results_vault\" / r\"SPIS-Resting-State-Dataset\\prep\")"
   ]
  },
  {
   "cell_type": "code",
   "execution_count": 22,
   "metadata": {},
   "outputs": [],
   "source": [
    "spis_prep_alternate_results = np.zeros(\n",
    "    (   \n",
    "        8,\n",
    "        5\n",
    "    )\n",
    ")"
   ]
  },
  {
   "cell_type": "code",
   "execution_count": 23,
   "metadata": {},
   "outputs": [],
   "source": [
    "count=0\n",
    "for i, pth in enumerate(spis_prep_folder.iterdir()):\n",
    "    current = np.load(pth)\n",
    "    spis_prep_alternate_results[count, :] += current.copy()\n",
    "    if i%2 != 0:\n",
    "        count+=1"
   ]
  },
  {
   "cell_type": "code",
   "execution_count": 24,
   "metadata": {},
   "outputs": [],
   "source": [
    "spis_prep_alternate_results /= 2"
   ]
  },
  {
   "cell_type": "code",
   "execution_count": 25,
   "metadata": {},
   "outputs": [],
   "source": [
    "spis_prep_results = np.zeros(\n",
    "    (   \n",
    "        16,\n",
    "        5\n",
    "    )\n",
    ")"
   ]
  },
  {
   "cell_type": "code",
   "execution_count": 26,
   "metadata": {},
   "outputs": [],
   "source": [
    "for i, pth in enumerate(spis_prep_folder.iterdir()):\n",
    "    current = np.load(pth)\n",
    "    spis_prep_results[i, :] = current.copy()"
   ]
  },
  {
   "cell_type": "code",
   "execution_count": 27,
   "metadata": {},
   "outputs": [],
   "source": [
    "prep_results = np.zeros(\n",
    "    (   \n",
    "        64,\n",
    "        5\n",
    "    )\n",
    ")"
   ]
  },
  {
   "cell_type": "code",
   "execution_count": 28,
   "metadata": {},
   "outputs": [],
   "source": [
    "prep_results_alternate = np.zeros(\n",
    "    (   \n",
    "        56,\n",
    "        5\n",
    "    )\n",
    ")"
   ]
  },
  {
   "cell_type": "code",
   "execution_count": 29,
   "metadata": {},
   "outputs": [],
   "source": [
    "prep_results[0:16, :] = epi_prep_results\n",
    "prep_results[16:32, :] = srm_prep_results\n",
    "prep_results[32:48, :] = spis_prep_results\n",
    "prep_results[48:64, :] = wang_prep_results"
   ]
  },
  {
   "cell_type": "code",
   "execution_count": 30,
   "metadata": {},
   "outputs": [],
   "source": [
    "prep_results_alternate[0:16, :] = epi_prep_results\n",
    "prep_results_alternate[16:32, :] = srm_prep_results\n",
    "prep_results_alternate[32:40, :] = spis_prep_alternate_results\n",
    "prep_results_alternate[40:56, :] = wang_prep_results"
   ]
  },
  {
   "cell_type": "code",
   "execution_count": 31,
   "metadata": {},
   "outputs": [],
   "source": [
    "prep_results[:, 2] -= prep_results[:, 1]"
   ]
  },
  {
   "cell_type": "code",
   "execution_count": 32,
   "metadata": {},
   "outputs": [],
   "source": [
    "prep_results_alternate[:, 2] -= prep_results_alternate[:, 1]"
   ]
  },
  {
   "cell_type": "markdown",
   "metadata": {},
   "source": [
    "ARTICLE PLOTS"
   ]
  },
  {
   "cell_type": "code",
   "execution_count": 33,
   "metadata": {},
   "outputs": [
    {
     "data": {
      "image/png": "[encoded data removed]",
      "text/plain": [
       "<Figure size 640x480 with 1 Axes>"
      ]
     },
     "metadata": {},
     "output_type": "display_data"
    }
   ],
   "source": [
    "plot_dist_hist(prep_results_alternate[:, 1]+baseline_results_alternate[:, 1])\n",
    "plt.savefig(pathlib.Path(os.path.abspath(os.getcwd())).parent / \"results_vault\" / r\"grid_brain_prep\")"
   ]
  },
  {
   "cell_type": "code",
   "execution_count": 34,
   "metadata": {},
   "outputs": [],
   "source": [
    "np.save(pathlib.Path(os.path.abspath(os.getcwd())).parent / \"results_vault\" / r\"linear_reg_1\\prep\", prep_results_alternate[:, 1]+baseline_results_alternate[:, 1])\n",
    "np.save(pathlib.Path(os.path.abspath(os.getcwd())).parent / \"results_vault\" / r\"linear_reg_1\\prep_ex\", prep_results_alternate[:, 0])"
   ]
  },
  {
   "cell_type": "code",
   "execution_count": 35,
   "metadata": {},
   "outputs": [
    {
     "data": {
      "image/png": "[encoded data removed]",
      "text/plain": [
       "<Figure size 640x480 with 1 Axes>"
      ]
     },
     "metadata": {},
     "output_type": "display_data"
    }
   ],
   "source": [
    "plot_dist_hist(prep_results_alternate[:, 2]+baseline_results_alternate[:, 2])\n",
    "plt.savefig(pathlib.Path(os.path.abspath(os.getcwd())).parent / \"results_vault\" / r\"grid_artefact_prep\")"
   ]
  },
  {
   "cell_type": "code",
   "execution_count": 36,
   "metadata": {},
   "outputs": [],
   "source": [
    "np.save(pathlib.Path(os.path.abspath(os.getcwd())).parent / \"results_vault\" / r\"linear_reg_1_art\\prep\", prep_results_alternate[:, 2]+baseline_results_alternate[:, 2])\n",
    "np.save(pathlib.Path(os.path.abspath(os.getcwd())).parent / \"results_vault\" / r\"linear_reg_1_art\\prep_ex\", prep_results_alternate[:, 0])"
   ]
  }
 ],
 "metadata": {
  "kernelspec": {
   "display_name": "env",
   "language": "python",
   "name": "python3"
  },
  "language_info": {
   "codemirror_mode": {
    "name": "ipython",
    "version": 3
   },
   "file_extension": ".py",
   "mimetype": "text/x-python",
   "name": "python",
   "nbconvert_exporter": "python",
   "pygments_lexer": "ipython3",
   "version": "3.10.4"
  }
 },
 "nbformat": 4,
 "nbformat_minor": 2
}
