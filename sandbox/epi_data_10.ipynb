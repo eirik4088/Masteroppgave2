{
 "cells": [
  {
   "cell_type": "code",
   "execution_count": 1,
   "metadata": {},
   "outputs": [],
   "source": [
    "import numpy as np\n",
    "import pandas as pd\n",
    "import matplotlib.pyplot as plt\n",
    "import scipy\n",
    "import mne\n",
    "import pathlib\n",
    "import sklearn\n",
    "import seaborn as sns\n",
    "from meegkit import dss\n",
    " \n",
    "from pycrostates.preprocessing import extract_gfp_peaks\n",
    "from neurokit2.microstates.microstates_clean import microstates_clean\n",
    "from mne_icalabel import label_components\n",
    "from scipy.stats import kurtosis, skew"
   ]
  },
  {
   "cell_type": "code",
   "execution_count": 2,
   "metadata": {},
   "outputs": [],
   "source": [
    "from eeg_clean import epoch_stats, channel_stats, clean"
   ]
  },
  {
   "cell_type": "code",
   "execution_count": 3,
   "metadata": {},
   "outputs": [],
   "source": [
    "def zapline_clean(raw, fline):\n",
    "    data = raw.get_data().T # Convert mne data to numpy darray\n",
    "    sfreq = raw.info['sfreq'] # Extract the sampling freq\n",
    "   \n",
    "    #Apply MEEGkit toolbox function\n",
    "    out, _ = dss.dss_line(data, fline, sfreq, nkeep=1) # fline (Line noise freq) = 50 Hz for Europe\n",
    "    print(out.shape)\n",
    "\n",
    "    cleaned_raw = mne.io.RawArray(out.T, raw.info) # Convert output to mne RawArray again\n",
    "\n",
    "    return cleaned_raw"
   ]
  },
  {
   "cell_type": "code",
   "execution_count": 20,
   "metadata": {},
   "outputs": [
    {
     "name": "stdout",
     "output_type": "stream",
     "text": [
      "<Info | 8 non-empty values\n",
      " bads: []\n",
      " ch_names: A1, A2, A3, A4, A5, A6, A7, A8, A9, A10, A11, A12, A13, A14, ...\n",
      " chs: 136 EEG, 1 Stimulus\n",
      " custom_ref_applied: False\n",
      " highpass: 0.0 Hz\n",
      " lowpass: 417.0 Hz\n",
      " meas_date: 2018-09-25 14:06:03 UTC\n",
      " nchan: 137\n",
      " projs: []\n",
      " sfreq: 2048.0 Hz\n",
      " subject_info: 1 item (dict)\n",
      ">\n",
      "Reading 0 ... 2150400  =      0.000 ...  1050.000 secs...\n"
     ]
    }
   ],
   "source": [
    "data_folder = pathlib.Path(r\"C:\\Users\\Gulbr\\MasterOppgave\\Data\\epilepsy_data\")\n",
    "file = data_folder / \"TLE_0011.bdf\"\n",
    "\n",
    "\n",
    "raw = mne.io.read_raw_bdf(file, verbose=False)\n",
    "print(raw.info)\n",
    "raw.crop(0, 1050).load_data()\n",
    "raw.drop_channels(['SO2', 'IO2', 'LO1', 'LO2', 'EXG5', 'EXG6', 'EXG7', 'EXG8'])\n",
    "noe = np.where(raw.get_data()[-1, :] > 0.1)\n",
    "#raw.drop_channels(\"Status\")\n",
    "#raw.set_montage('biosemi128')\n",
    "\n",
    "#raw_highpass = raw.copy().filter(l_freq=1, h_freq=None, verbose=False)\n",
    "#raw_lowpass = raw_highpass.copy().filter(l_freq=None, h_freq=100, verbose=False)\n",
    "#line_noise = zapline_clean(raw_lowpass, 50)\n",
    "#raw_down_sampled = line_noise.copy().resample(sfreq=200, verbose=False)"
   ]
  },
  {
   "cell_type": "code",
   "execution_count": 22,
   "metadata": {},
   "outputs": [
    {
     "name": "stdout",
     "output_type": "stream",
     "text": [
      "0\n",
      "1\n",
      "2\n",
      "3\n",
      "4\n",
      "5\n",
      "6\n",
      "7\n",
      "8\n",
      "9\n",
      "10\n",
      "11\n",
      "12\n",
      "13\n",
      "14\n",
      "15\n",
      "16\n",
      "17\n",
      "18\n",
      "19\n",
      "20\n",
      "21\n",
      "22\n",
      "23\n",
      "24\n",
      "25\n",
      "26\n",
      "27\n",
      "28\n",
      "29\n",
      "30\n",
      "31\n",
      "32\n",
      "33\n",
      "34\n",
      "35\n",
      "36\n",
      "37\n",
      "38\n",
      "39\n",
      "40\n",
      "41\n",
      "42\n",
      "43\n",
      "44\n",
      "45\n",
      "46\n",
      "47\n",
      "48\n",
      "49\n",
      "50\n",
      "51\n",
      "52\n",
      "53\n",
      "54\n",
      "55\n",
      "56\n",
      "57\n",
      "58\n",
      "59\n",
      "60\n",
      "61\n",
      "62\n",
      "63\n",
      "64\n",
      "65\n",
      "66\n",
      "67\n",
      "68\n",
      "69\n",
      "70\n",
      "71\n",
      "72\n",
      "73\n",
      "74\n",
      "75\n",
      "76\n",
      "77\n",
      "78\n",
      "79\n",
      "80\n",
      "81\n",
      "82\n",
      "83\n",
      "84\n",
      "85\n",
      "86\n",
      "87\n",
      "88\n",
      "89\n",
      "90\n",
      "91\n",
      "92\n",
      "93\n",
      "94\n",
      "95\n",
      "96\n",
      "97\n",
      "98\n",
      "99\n",
      "100\n",
      "101\n",
      "102\n",
      "103\n",
      "104\n",
      "105\n",
      "106\n",
      "107\n",
      "108\n",
      "109\n",
      "110\n",
      "111\n",
      "112\n",
      "113\n",
      "114\n",
      "115\n",
      "116\n",
      "117\n",
      "118\n",
      "119\n",
      "120\n",
      "121\n",
      "122\n",
      "123\n",
      "124\n",
      "125\n",
      "126\n",
      "127\n",
      "128\n",
      "129\n",
      "130\n",
      "131\n",
      "132\n",
      "133\n",
      "134\n",
      "135\n",
      "136\n",
      "137\n",
      "138\n",
      "139\n",
      "140\n",
      "141\n",
      "142\n",
      "143\n",
      "144\n",
      "145\n",
      "146\n",
      "147\n",
      "148\n",
      "149\n",
      "150\n",
      "151\n",
      "152\n",
      "153\n",
      "154\n",
      "155\n",
      "156\n",
      "157\n",
      "158\n",
      "159\n",
      "160\n",
      "161\n",
      "162\n",
      "163\n",
      "164\n",
      "165\n",
      "166\n",
      "167\n",
      "168\n",
      "169\n",
      "170\n",
      "171\n",
      "172\n",
      "173\n",
      "174\n",
      "175\n",
      "176\n",
      "177\n",
      "178\n",
      "179\n",
      "180\n",
      "181\n",
      "182\n",
      "183\n",
      "184\n",
      "185\n",
      "186\n",
      "187\n",
      "188\n",
      "189\n",
      "190\n",
      "191\n",
      "192\n",
      "193\n",
      "194\n",
      "195\n",
      "196\n",
      "197\n",
      "198\n",
      "199\n",
      "200\n",
      "201\n",
      "202\n",
      "203\n",
      "204\n",
      "205\n",
      "206\n",
      "207\n",
      "208\n",
      "209\n",
      "210\n",
      "211\n",
      "212\n",
      "213\n",
      "214\n",
      "215\n",
      "216\n",
      "217\n",
      "218\n",
      "219\n",
      "220\n",
      "221\n",
      "222\n",
      "223\n",
      "224\n",
      "225\n",
      "226\n",
      "227\n",
      "228\n",
      "229\n",
      "230\n",
      "231\n",
      "232\n",
      "233\n",
      "234\n",
      "235\n",
      "236\n",
      "237\n",
      "238\n",
      "239\n",
      "240\n",
      "241\n",
      "242\n",
      "243\n",
      "244\n",
      "245\n",
      "246\n",
      "247\n",
      "248\n",
      "249\n",
      "250\n",
      "251\n",
      "252\n",
      "253\n",
      "254\n",
      "255\n",
      "256\n",
      "257\n",
      "258\n",
      "259\n",
      "260\n",
      "261\n",
      "262\n",
      "263\n",
      "264\n",
      "265\n",
      "266\n",
      "267\n",
      "268\n",
      "269\n",
      "270\n",
      "271\n",
      "272\n",
      "273\n",
      "274\n",
      "275\n",
      "276\n",
      "277\n",
      "278\n",
      "279\n",
      "280\n",
      "281\n",
      "282\n",
      "283\n",
      "284\n",
      "285\n",
      "286\n",
      "287\n",
      "288\n",
      "289\n",
      "290\n",
      "291\n",
      "292\n",
      "293\n",
      "294\n",
      "295\n",
      "296\n",
      "297\n",
      "298\n",
      "299\n",
      "300\n",
      "301\n",
      "302\n",
      "303\n",
      "304\n",
      "305\n",
      "306\n",
      "307\n",
      "308\n",
      "309\n",
      "310\n",
      "311\n",
      "312\n",
      "313\n",
      "314\n",
      "315\n",
      "316\n",
      "317\n",
      "318\n",
      "319\n",
      "320\n",
      "321\n",
      "322\n",
      "323\n",
      "324\n",
      "325\n",
      "326\n",
      "327\n",
      "328\n",
      "329\n",
      "330\n",
      "331\n",
      "332\n",
      "333\n",
      "334\n",
      "335\n",
      "336\n",
      "337\n",
      "338\n",
      "339\n",
      "340\n",
      "341\n",
      "342\n",
      "343\n",
      "344\n",
      "345\n",
      "346\n",
      "347\n",
      "348\n",
      "349\n",
      "350\n",
      "351\n",
      "352\n",
      "353\n",
      "354\n",
      "355\n",
      "356\n",
      "357\n",
      "358\n",
      "359\n",
      "360\n",
      "361\n",
      "362\n",
      "363\n",
      "364\n",
      "365\n",
      "366\n",
      "367\n",
      "368\n",
      "369\n",
      "370\n",
      "371\n",
      "372\n",
      "373\n",
      "374\n",
      "375\n",
      "376\n",
      "377\n",
      "378\n",
      "379\n",
      "380\n",
      "381\n",
      "382\n",
      "383\n",
      "195517\n",
      "195518\n",
      "687019\n",
      "687020\n",
      "1098644\n",
      "1098645\n",
      "1467271\n",
      "1467272\n",
      "2088161\n",
      "2088162\n",
      "2088163\n",
      "2090219\n",
      "2090220\n",
      "2091135\n",
      "2091136\n",
      "2093192\n",
      "2093193\n",
      "2094639\n",
      "2094640\n",
      "2094641\n",
      "2096710\n",
      "2096711\n",
      "2097544\n",
      "2097545\n",
      "2099614\n",
      "2099615\n",
      "2100553\n",
      "2100554\n",
      "2102624\n",
      "2102625\n",
      "2103354\n",
      "2103355\n",
      "2105422\n",
      "2105423\n",
      "2106664\n",
      "2106665\n",
      "2108734\n",
      "2108735\n",
      "2110080\n",
      "2110081\n",
      "2112151\n",
      "2112152\n",
      "2113353\n",
      "2113354\n",
      "2115430\n",
      "2115431\n",
      "2116510\n",
      "2116511\n",
      "2118573\n",
      "2118574\n",
      "2119879\n",
      "2119880\n",
      "2121955\n",
      "2121956\n",
      "2123281\n",
      "2123282\n",
      "2125338\n",
      "2125339\n",
      "2126683\n",
      "2126684\n",
      "2128754\n",
      "2128755\n",
      "2130063\n",
      "2130064\n",
      "2132136\n",
      "2132137\n",
      "2133769\n",
      "2133770\n",
      "2135826\n",
      "2135827\n",
      "2136681\n",
      "2136682\n",
      "2138764\n",
      "2138765\n",
      "2140151\n",
      "2140152\n",
      "2142214\n",
      "2142215\n",
      "2143109\n",
      "2143110\n",
      "2145186\n",
      "2145187\n",
      "2145958\n",
      "2145959\n",
      "2148022\n",
      "2148023\n",
      "2149286\n",
      "2149287\n"
     ]
    }
   ],
   "source": [
    "for i in noe[0]:\n",
    "    print(i)"
   ]
  },
  {
   "cell_type": "markdown",
   "metadata": {},
   "source": [
    "Bad epoch idenfication - based on topographic stability"
   ]
  },
  {
   "cell_type": "markdown",
   "metadata": {},
   "source": [
    "Between GFP peaks"
   ]
  },
  {
   "cell_type": "code",
   "execution_count": null,
   "metadata": {},
   "outputs": [],
   "source": [
    "ones_epochs = mne.make_fixed_length_epochs(raw_down_sampled, 0.5, verbose=False, preload=True)"
   ]
  },
  {
   "cell_type": "code",
   "execution_count": null,
   "metadata": {},
   "outputs": [],
   "source": [
    "stats = epoch_stats.EpochStats(ones_epochs, switching_frq_thresholds=np.array([1, 1.4]))\n",
    "stats.calc_stability()"
   ]
  },
  {
   "cell_type": "code",
   "execution_count": null,
   "metadata": {},
   "outputs": [],
   "source": [
    "epoched_stability = stats.quasi_stability.get_mean_abs_stab()\n",
    "convex_stabilty = stats.quasi_stability.get_mean_stab()\n",
    "epoched_switching_freq = stats.quasi_stability.switching_freqs[:, 0]\n",
    "significant_switching_freq = stats.quasi_stability.switching_freqs[:, 1]\n",
    "peaks = stats.n_gfp_peaks"
   ]
  },
  {
   "cell_type": "markdown",
   "metadata": {},
   "source": [
    "Plots to investigate exclusion of epocs not following our assumptions."
   ]
  },
  {
   "cell_type": "markdown",
   "metadata": {},
   "source": [
    "Epoch averaged DISS"
   ]
  },
  {
   "cell_type": "code",
   "execution_count": null,
   "metadata": {},
   "outputs": [],
   "source": [
    "plt.hist(convex_stabilty, bins=200)\n",
    "plt.show()"
   ]
  },
  {
   "cell_type": "markdown",
   "metadata": {},
   "source": [
    "Stability transformed: absoluteDISS = |DISS-1| ... and averaged for each epoch. Now only high values indicate stability."
   ]
  },
  {
   "cell_type": "code",
   "execution_count": null,
   "metadata": {},
   "outputs": [],
   "source": [
    "plt.hist(epoched_stability, bins=200)\n",
    "plt.show()"
   ]
  },
  {
   "cell_type": "markdown",
   "metadata": {},
   "source": [
    "Average epoch polarity inversion going from gfp peak to gfp peak, meaning DISS < 1."
   ]
  },
  {
   "cell_type": "code",
   "execution_count": null,
   "metadata": {},
   "outputs": [],
   "source": [
    "plt.hist(epoched_switching_freq, bins=36)\n",
    "plt.show()"
   ]
  },
  {
   "cell_type": "markdown",
   "metadata": {},
   "source": [
    "The same again, but only for shifts in polarity where higher stability is indicated (DISS > 1.4)"
   ]
  },
  {
   "cell_type": "code",
   "execution_count": null,
   "metadata": {},
   "outputs": [],
   "source": [
    "plt.hist(significant_switching_freq, bins=21)\n",
    "plt.show()"
   ]
  },
  {
   "cell_type": "markdown",
   "metadata": {},
   "source": [
    "Number of GFP peaks for each epoch"
   ]
  },
  {
   "cell_type": "code",
   "execution_count": null,
   "metadata": {},
   "outputs": [],
   "source": [
    "plt.hist(peaks, bins=21)\n",
    "plt.show()"
   ]
  },
  {
   "cell_type": "markdown",
   "metadata": {},
   "source": [
    "Looking at scatter plot between swithcing frequencies and number of GFP peaks"
   ]
  },
  {
   "cell_type": "code",
   "execution_count": null,
   "metadata": {},
   "outputs": [],
   "source": [
    "plt.scatter(peaks, epoched_switching_freq)\n",
    "plt.show()"
   ]
  },
  {
   "cell_type": "code",
   "execution_count": null,
   "metadata": {},
   "outputs": [],
   "source": [
    "plt.scatter(peaks, significant_switching_freq)\n",
    "plt.show()"
   ]
  },
  {
   "cell_type": "markdown",
   "metadata": {},
   "source": [
    "Looking at average absoluteDISS in relation to switching frequencies."
   ]
  },
  {
   "cell_type": "code",
   "execution_count": null,
   "metadata": {},
   "outputs": [],
   "source": [
    "plt.scatter(epoched_stability, epoched_switching_freq)\n",
    "plt.show()"
   ]
  },
  {
   "cell_type": "code",
   "execution_count": null,
   "metadata": {},
   "outputs": [],
   "source": [
    "plt.scatter(epoched_stability, significant_switching_freq)\n",
    "plt.show()"
   ]
  },
  {
   "cell_type": "markdown",
   "metadata": {},
   "source": [
    "Same but with average DISS"
   ]
  },
  {
   "cell_type": "code",
   "execution_count": null,
   "metadata": {},
   "outputs": [],
   "source": [
    "plt.scatter(convex_stabilty, epoched_switching_freq)\n",
    "plt.show()"
   ]
  },
  {
   "cell_type": "code",
   "execution_count": null,
   "metadata": {},
   "outputs": [],
   "source": [
    "plt.scatter(convex_stabilty, significant_switching_freq)\n",
    "plt.show()"
   ]
  },
  {
   "cell_type": "markdown",
   "metadata": {},
   "source": [
    "Scatter of the two stability types"
   ]
  },
  {
   "cell_type": "code",
   "execution_count": null,
   "metadata": {},
   "outputs": [],
   "source": [
    "plt.scatter(convex_stabilty, epoched_stability)\n",
    "plt.show()"
   ]
  },
  {
   "cell_type": "code",
   "execution_count": null,
   "metadata": {},
   "outputs": [],
   "source": [
    "fit = np.poly1d([1, 1])\n",
    "polyline = np.linspace(-1.25, 0, 100)\n",
    "reg = np.poly1d([0.8, 1.2])\n",
    "reg2 = np.poly1d([0.5, 1.2])\n",
    "plt.scatter(convex_stabilty-2, epoched_stability)\n",
    "plt.plot(polyline, fit(polyline), color='red')\n",
    "plt.plot(polyline, reg(polyline), color=\"blue\")\n",
    "plt.plot(polyline, reg2(polyline), color=\"black\")\n",
    "plt.show()\n"
   ]
  },
  {
   "cell_type": "code",
   "execution_count": null,
   "metadata": {},
   "outputs": [],
   "source": [
    "plt.scatter(epoched_switching_freq, significant_switching_freq)\n",
    "plt.show()"
   ]
  },
  {
   "cell_type": "markdown",
   "metadata": {},
   "source": [
    "At GFP peaks"
   ]
  },
  {
   "cell_type": "code",
   "execution_count": null,
   "metadata": {},
   "outputs": [],
   "source": [
    "at_epoched_stability = stats.peak_stability.get_mean_abs_stab()\n",
    "at_convex_stabilty = stats.peak_stability.get_mean_stab()"
   ]
  },
  {
   "cell_type": "code",
   "execution_count": null,
   "metadata": {},
   "outputs": [],
   "source": [
    "plt.hist(at_epoched_stability, bins=200)\n",
    "plt.show()"
   ]
  },
  {
   "cell_type": "code",
   "execution_count": null,
   "metadata": {},
   "outputs": [],
   "source": [
    "plt.hist(at_convex_stabilty, bins=200)\n",
    "plt.show()"
   ]
  },
  {
   "cell_type": "code",
   "execution_count": null,
   "metadata": {},
   "outputs": [],
   "source": [
    "plt.scatter(at_convex_stabilty, at_epoched_stability)\n",
    "plt.show()"
   ]
  },
  {
   "cell_type": "code",
   "execution_count": null,
   "metadata": {},
   "outputs": [],
   "source": [
    "fit = np.poly1d([-0.9, 1])\n",
    "reg = np.poly1d([-1, 1])\n",
    "reg2 = np.poly1d([-0.7, 1])\n",
    "polyline = np.linspace(0, 2, 100)\n",
    "plt.scatter(at_convex_stabilty, at_epoched_stability)\n",
    "plt.plot(polyline, fit(polyline), color='red')\n",
    "plt.plot(polyline, reg(polyline), color=\"blue\")\n",
    "plt.plot(polyline, reg2(polyline), color=\"black\")\n",
    "plt.show()"
   ]
  },
  {
   "cell_type": "code",
   "execution_count": null,
   "metadata": {},
   "outputs": [],
   "source": [
    "print(fit)"
   ]
  },
  {
   "cell_type": "code",
   "execution_count": null,
   "metadata": {},
   "outputs": [],
   "source": [
    "def scale(values):\n",
    "    v = values.reshape(-1, 1)\n",
    "    scaler = sklearn.preprocessing.StandardScaler()\n",
    "    noe = scaler.fit_transform(v)\n",
    "    return noe"
   ]
  },
  {
   "cell_type": "markdown",
   "metadata": {},
   "source": [
    "Bad channel evaluation"
   ]
  },
  {
   "cell_type": "code",
   "execution_count": null,
   "metadata": {},
   "outputs": [],
   "source": [
    "stats_channels = channel_stats.ChannelStats(ones_epochs, sklearn_scaler=sklearn.preprocessing.MinMaxScaler())"
   ]
  },
  {
   "cell_type": "markdown",
   "metadata": {},
   "source": [
    "Channel Satbility"
   ]
  },
  {
   "cell_type": "markdown",
   "metadata": {},
   "source": [
    "At GFP peaks"
   ]
  },
  {
   "cell_type": "code",
   "execution_count": null,
   "metadata": {},
   "outputs": [],
   "source": [
    "at_test1 = stats_channels.peak_stab_change\n",
    "test1 = stats_channels.quasi_stab_change"
   ]
  },
  {
   "cell_type": "code",
   "execution_count": null,
   "metadata": {},
   "outputs": [],
   "source": [
    "plt.hist(at_test1*128, bins=64)\n",
    "plt.show()"
   ]
  },
  {
   "cell_type": "code",
   "execution_count": null,
   "metadata": {},
   "outputs": [],
   "source": [
    "order = np.argsort(at_test1)\n",
    "n = 126\n",
    "print(skew(at_test1[order][:n]))\n",
    "print(kurtosis(at_test1[order][:n]))\n",
    "print(np.array(stats_channels.ch_name_list)[order])"
   ]
  },
  {
   "cell_type": "markdown",
   "metadata": {},
   "source": [
    "Between GFP peaks"
   ]
  },
  {
   "cell_type": "code",
   "execution_count": null,
   "metadata": {},
   "outputs": [],
   "source": [
    "plt.hist(test1*128, bins=64)\n",
    "plt.show()"
   ]
  },
  {
   "cell_type": "code",
   "execution_count": null,
   "metadata": {},
   "outputs": [],
   "source": [
    "order = np.argsort(test1)\n",
    "n = 121\n",
    "print(skew(test1[order][:n]))\n",
    "print(kurtosis(test1[order][:n]))\n",
    "print(np.array(stats_channels.ch_name_list)[order])"
   ]
  },
  {
   "cell_type": "code",
   "execution_count": null,
   "metadata": {},
   "outputs": [],
   "source": [
    "print(kurtosis(test1))\n",
    "print(skew(test1))"
   ]
  },
  {
   "cell_type": "markdown",
   "metadata": {},
   "source": [
    "test threshold exclusions.."
   ]
  },
  {
   "cell_type": "code",
   "execution_count": null,
   "metadata": {},
   "outputs": [],
   "source": [
    "clean_test = clean.Clean(ones_epochs)"
   ]
  },
  {
   "cell_type": "code",
   "execution_count": null,
   "metadata": {},
   "outputs": [],
   "source": [
    "bad_epochs = clean_test.find_bad_epochs(peaks_args={\"method\": \"threshold\", \"threshold\": 0.8, \"exclude\": \"bigger\"})"
   ]
  },
  {
   "cell_type": "code",
   "execution_count": null,
   "metadata": {},
   "outputs": [],
   "source": [
    "print(bad_epochs)"
   ]
  },
  {
   "cell_type": "code",
   "execution_count": null,
   "metadata": {},
   "outputs": [],
   "source": [
    "bad_epochs = clean_test.find_bad_epochs(peaks_args={\"method\": \"function_threshold\", \"function\": np.poly1d([-1, 1.2]), \"exclude\":\"bigger\"})"
   ]
  },
  {
   "cell_type": "code",
   "execution_count": null,
   "metadata": {},
   "outputs": [],
   "source": [
    "print(bad_epochs)"
   ]
  },
  {
   "cell_type": "markdown",
   "metadata": {},
   "source": [
    "PCA heuristic idea"
   ]
  },
  {
   "cell_type": "code",
   "execution_count": null,
   "metadata": {},
   "outputs": [],
   "source": [
    "pc_all_chanels = stats_channels.pca_auc_change"
   ]
  },
  {
   "cell_type": "code",
   "execution_count": null,
   "metadata": {},
   "outputs": [],
   "source": [
    "plt.hist(scale(pc_all_chanels), bins=64)\n",
    "plt.show()"
   ]
  },
  {
   "cell_type": "code",
   "execution_count": null,
   "metadata": {},
   "outputs": [],
   "source": [
    "order = np.argsort(pc_all_chanels)\n",
    "n = 128\n",
    "print(skew(pc_all_chanels[order][:n]))\n",
    "print(kurtosis(pc_all_chanels[order][:n]))\n",
    "print(stats_channels.ch_name_list[order])"
   ]
  },
  {
   "cell_type": "code",
   "execution_count": null,
   "metadata": {},
   "outputs": [],
   "source": [
    "bad_by_corr = np.where(pc_all_chanels > 0)[0]\n",
    "print(stats_channels.ch_name_list[bad_by_corr])"
   ]
  },
  {
   "cell_type": "code",
   "execution_count": null,
   "metadata": {},
   "outputs": [],
   "source": [
    "idx = np.where((at_test1 > 0) & (test1 > 0) & (pc_all_chanels > 0))[0]\n",
    "print(idx)"
   ]
  },
  {
   "cell_type": "code",
   "execution_count": null,
   "metadata": {},
   "outputs": [],
   "source": [
    "print(stats_channels.ch_name_list[idx])"
   ]
  },
  {
   "cell_type": "code",
   "execution_count": null,
   "metadata": {},
   "outputs": [],
   "source": [
    "idx = np.where((at_test1 > 0) & (pc_all_chanels > 0))[0]\n",
    "idx2 = np.where((test1 > 0) & (pc_all_chanels > 0))[0]\n",
    "print(idx)\n",
    "print(idx2)"
   ]
  },
  {
   "cell_type": "code",
   "execution_count": null,
   "metadata": {},
   "outputs": [],
   "source": [
    "print(stats_channels.ch_name_list[idx])\n",
    "print(stats_channels.ch_name_list[idx2])"
   ]
  },
  {
   "cell_type": "markdown",
   "metadata": {},
   "source": [
    "Channels to exclude"
   ]
  },
  {
   "cell_type": "code",
   "execution_count": null,
   "metadata": {},
   "outputs": [],
   "source": [
    "acum = []\n",
    "for cn in stats_channels.ch_name_list[np.argsort(test1)]:\n",
    "    if cn in stats_channels.ch_name_list[bad_by_corr]:\n",
    "        print(cn)\n",
    "        acum.append(cn)\n",
    "    else:\n",
    "        break\n",
    "for cn in stats_channels.ch_name_list[np.argsort(at_test1)]:\n",
    "    if cn in stats_channels.ch_name_list[bad_by_corr]:\n",
    "        if cn not in acum:\n",
    "            print(cn)\n",
    "    else:\n",
    "        break\n"
   ]
  },
  {
   "cell_type": "markdown",
   "metadata": {},
   "source": [
    "Evaluate"
   ]
  },
  {
   "cell_type": "code",
   "execution_count": null,
   "metadata": {},
   "outputs": [],
   "source": [
    "from data_quality import ica_score"
   ]
  },
  {
   "cell_type": "code",
   "execution_count": null,
   "metadata": {},
   "outputs": [],
   "source": [
    "avref_epochs = raw_down_sampled.copy().set_eeg_reference()\n",
    "evaluate = ica_score.IcaScore(avref_epochs)"
   ]
  },
  {
   "cell_type": "code",
   "execution_count": null,
   "metadata": {},
   "outputs": [],
   "source": [
    "evaluate.ica.plot_components()"
   ]
  },
  {
   "cell_type": "code",
   "execution_count": null,
   "metadata": {},
   "outputs": [],
   "source": [
    "print(evaluate.ica_labels)"
   ]
  }
 ],
 "metadata": {
  "kernelspec": {
   "display_name": "env",
   "language": "python",
   "name": "python3"
  },
  "language_info": {
   "codemirror_mode": {
    "name": "ipython",
    "version": 3
   },
   "file_extension": ".py",
   "mimetype": "text/x-python",
   "name": "python",
   "nbconvert_exporter": "python",
   "pygments_lexer": "ipython3",
   "version": "3.10.4"
  }
 },
 "nbformat": 4,
 "nbformat_minor": 2
}
