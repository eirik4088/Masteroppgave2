{
 "cells": [
  {
   "cell_type": "code",
   "execution_count": 1,
   "metadata": {},
   "outputs": [],
   "source": [
    "import numpy as np\n",
    "import pandas"
   ]
  },
  {
   "cell_type": "code",
   "execution_count": 2,
   "metadata": {},
   "outputs": [],
   "source": [
    "prep = np.load(r\"C:\\Users\\workbench\\eirik_master\\Results\\linear_reg_1\\prep.npy\")\n",
    "auto_reject = np.load(r\"C:\\Users\\workbench\\eirik_master\\Results\\linear_reg_1\\autorej.npy\")\n",
    "mine = np.load(r\"C:\\Users\\workbench\\eirik_master\\Results\\linear_reg_1\\mine.npy\")\n",
    "base_line = np.load(r\"C:\\Users\\workbench\\eirik_master\\Results\\linear_reg_1\\base_line.npy\")"
   ]
  },
  {
   "cell_type": "code",
   "execution_count": 3,
   "metadata": {},
   "outputs": [],
   "source": [
    "df = pandas.DataFrame()\n",
    "df['DataPoint'] = np.char.add(np.tile(np.arange(0, 56, 1), 4).astype(str), \"sub\")\n",
    "df['Treatment'] = np.repeat([\"AutoReject\", \"AAMine\", \"PREP\", \"NoneTreated\"], 56)\n",
    "df['ComponentIncrease'] = np.concatenate((auto_reject, mine, prep, base_line))\n",
    "df['DataSet'] = np.repeat(np.concatenate((np.repeat([\"epi\"], 16), np.repeat([\"srm\"], 16), np.repeat([\"spis\"], 8), np.repeat([\"wang\"], 16))), 4)"
   ]
  },
  {
   "cell_type": "code",
   "execution_count": 4,
   "metadata": {},
   "outputs": [],
   "source": [
    "df.to_csv(r\"C:\\Users\\workbench\\eirik_master\\Results\\linear_reg_1\\df\", index=False)"
   ]
  },
  {
   "cell_type": "code",
   "execution_count": 5,
   "metadata": {},
   "outputs": [],
   "source": [
    "prep_art = np.load(r\"C:\\Users\\workbench\\eirik_master\\Results\\linear_reg_1_art\\prep.npy\")\n",
    "auto_reject_art = np.load(r\"C:\\Users\\workbench\\eirik_master\\Results\\linear_reg_1_art\\autorej.npy\")\n",
    "mine_art = np.load(r\"C:\\Users\\workbench\\eirik_master\\Results\\linear_reg_1_art\\mine.npy\")\n",
    "base_line_art = np.load(r\"C:\\Users\\workbench\\eirik_master\\Results\\linear_reg_1_art\\base_line.npy\")"
   ]
  },
  {
   "cell_type": "code",
   "execution_count": 6,
   "metadata": {},
   "outputs": [],
   "source": [
    "df = pandas.DataFrame()\n",
    "df['DataPoint'] = np.char.add(np.tile(np.arange(0, 56, 1), 4).astype(str), \"sub\")\n",
    "df['Treatment'] = np.repeat([\"AutoReject\", \"AAMine\", \"PREP\", \"NoneTreated\"], 56)\n",
    "df['ComponentIncrease'] = np.concatenate((auto_reject_art, mine_art, prep_art, base_line_art))\n",
    "df['DataSet'] = np.repeat(np.concatenate((np.repeat([\"epi\"], 16), np.repeat([\"srm\"], 16), np.repeat([\"spis\"], 8), np.repeat([\"wang\"], 16))), 4)"
   ]
  },
  {
   "cell_type": "code",
   "execution_count": 7,
   "metadata": {},
   "outputs": [],
   "source": [
    "df.to_csv(r\"C:\\Users\\workbench\\eirik_master\\Results\\linear_reg_1_art\\df\", index=False)"
   ]
  },
  {
   "cell_type": "code",
   "execution_count": 8,
   "metadata": {},
   "outputs": [],
   "source": [
    "prep_mpi = np.load(r\"C:\\Users\\workbench\\eirik_master\\Results\\linear_reg_2\\prep.npy\")\n",
    "auto_reject_mpi = np.load(r\"C:\\Users\\workbench\\eirik_master\\Results\\linear_reg_2\\autorej.npy\")\n",
    "mine_mpi = np.load(r\"C:\\Users\\workbench\\eirik_master\\Results\\linear_reg_2\\mine.npy\")\n",
    "base_line_mpi = np.load(r\"C:\\Users\\workbench\\eirik_master\\Results\\linear_reg_2\\base_line.npy\")"
   ]
  },
  {
   "cell_type": "code",
   "execution_count": 9,
   "metadata": {},
   "outputs": [],
   "source": [
    "mpi_df = pandas.DataFrame()\n",
    "mpi_df['DataPoint'] = np.char.add(np.tile(np.arange(0, 197, 1), 4).astype(str), \"sub\")\n",
    "mpi_df['Treatment'] = np.repeat([\"AutoReject\", \"AAMine\", \"PREP\", \"NoneTreated\"], 197)\n",
    "mpi_df['ComponentIncrease'] = np.concatenate((auto_reject_mpi, mine_mpi, prep_mpi, base_line_mpi))"
   ]
  },
  {
   "cell_type": "code",
   "execution_count": 10,
   "metadata": {},
   "outputs": [],
   "source": [
    "mpi_df.to_csv(r\"C:\\Users\\workbench\\eirik_master\\Results\\linear_reg_2\\df\", index=False)"
   ]
  },
  {
   "cell_type": "code",
   "execution_count": 11,
   "metadata": {},
   "outputs": [],
   "source": [
    "prep_mpi_art = np.load(r\"C:\\Users\\workbench\\eirik_master\\Results\\linear_reg_2_art\\prep.npy\")\n",
    "auto_reject_mpi_art = np.load(r\"C:\\Users\\workbench\\eirik_master\\Results\\linear_reg_2_art\\autorej.npy\")\n",
    "mine_mpi_art = np.load(r\"C:\\Users\\workbench\\eirik_master\\Results\\linear_reg_2_art\\mine.npy\")\n",
    "base_line_mpi_art = np.load(r\"C:\\Users\\workbench\\eirik_master\\Results\\linear_reg_2_art\\base_line.npy\")"
   ]
  },
  {
   "cell_type": "code",
   "execution_count": 12,
   "metadata": {},
   "outputs": [],
   "source": [
    "mpi_df = pandas.DataFrame()\n",
    "mpi_df['DataPoint'] = np.char.add(np.tile(np.arange(0, 197, 1), 4).astype(str), \"sub\")\n",
    "mpi_df['Treatment'] = np.repeat([\"AutoReject\", \"AAMine\", \"PREP\", \"NoneTreated\"], 197)\n",
    "mpi_df['ComponentIncrease'] = np.concatenate((auto_reject_mpi_art, mine_mpi_art, prep_mpi_art, base_line_mpi_art))"
   ]
  },
  {
   "cell_type": "code",
   "execution_count": 13,
   "metadata": {},
   "outputs": [],
   "source": [
    "mpi_df.to_csv(r\"C:\\Users\\workbench\\eirik_master\\Results\\linear_reg_2_art\\df\", index=False)"
   ]
  }
 ],
 "metadata": {
  "kernelspec": {
   "display_name": "env",
   "language": "python",
   "name": "python3"
  },
  "language_info": {
   "codemirror_mode": {
    "name": "ipython",
    "version": 3
   },
   "file_extension": ".py",
   "mimetype": "text/x-python",
   "name": "python",
   "nbconvert_exporter": "python",
   "pygments_lexer": "ipython3",
   "version": "3.10.4"
  }
 },
 "nbformat": 4,
 "nbformat_minor": 2
}
