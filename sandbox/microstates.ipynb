{
 "cells": [
  {
   "cell_type": "code",
   "execution_count": 1,
   "metadata": {},
   "outputs": [],
   "source": [
    "import numpy as np\n",
    "import pandas as pd\n",
    "import matplotlib.pyplot as plt\n",
    "import scipy\n",
    "import mne\n",
    "import pathlib\n",
    "import pycrostates\n",
    "import sklearn\n",
    "import neurokit2\n",
    "\n",
    "from skstab import StadionEstimator\n",
    "from package1.tbd import ModKMeansSkstab, scale_data\n",
    "from package1.neurokit_to_sklearn_API import NeurokitCluster\n",
    "from package1.fuzzykmedoids import CFKM, FKM, FMMdd\n",
    "from pycrostates.utils.utils import _distance_matrix\n",
    "from neurokit2.microstates.microstates_clean import microstates_clean"
   ]
  },
  {
   "cell_type": "code",
   "execution_count": 2,
   "metadata": {},
   "outputs": [],
   "source": [
    "data_folder = pathlib.Path(r\"C:\\Users\\Gulbr\\MasterOppgave\\SRM_rs_EEG_OpenNeuro\")\n",
    "file = data_folder / \"sub-001_ses-t1_task-resteyesc_eeg.edf\"\n",
    "processed_folder = pathlib.Path(r\"C:\\Users\\Gulbr\\MasterOppgave\\SRM_rs_EEG_OpenNeuro_cleaned\")\n",
    "processed_file = processed_folder / \"sub-001_ses-t1_task-resteyesc_desc-epochs_eeg.set\""
   ]
  },
  {
   "cell_type": "code",
   "execution_count": 3,
   "metadata": {},
   "outputs": [
    {
     "name": "stdout",
     "output_type": "stream",
     "text": [
      "Extracting EDF parameters from C:\\Users\\Gulbr\\MasterOppgave\\SRM_rs_EEG_OpenNeuro\\sub-001_ses-t1_task-resteyesc_eeg.edf...\n",
      "EDF file detected\n",
      "Setting channel info structure...\n",
      "Creating raw.info structure...\n",
      "Reading 0 ... 245759  =      0.000 ...   239.999 secs...\n",
      "Extracting parameters from C:\\Users\\Gulbr\\MasterOppgave\\SRM_rs_EEG_OpenNeuro_cleaned\\sub-001_ses-t1_task-resteyesc_desc-epochs_eeg.set...\n",
      "Not setting metadata\n",
      "53 matching events found\n",
      "No baseline correction applied\n",
      "0 projection items activated\n",
      "Ready.\n"
     ]
    }
   ],
   "source": [
    "raw = mne.io.read_raw_edf(file, preload=True)\n",
    "cleaned = mne.io.read_epochs_eeglab(processed_file)"
   ]
  },
  {
   "cell_type": "code",
   "execution_count": null,
   "metadata": {},
   "outputs": [],
   "source": [
    "print(raw.info)\n",
    "print(cleaned.info)"
   ]
  },
  {
   "cell_type": "code",
   "execution_count": 4,
   "metadata": {},
   "outputs": [
    {
     "name": "stdout",
     "output_type": "stream",
     "text": [
      "Filtering raw data in 1 contiguous segment\n",
      "Setting up high-pass filter at 0.5 Hz\n",
      "\n",
      "FIR filter parameters\n",
      "---------------------\n",
      "Designing a one-pass, zero-phase, non-causal highpass filter:\n",
      "- Windowed time-domain design (firwin) method\n",
      "- Hamming window with 0.0194 passband ripple and 53 dB stopband attenuation\n",
      "- Lower passband edge: 0.50\n",
      "- Lower transition bandwidth: 0.50 Hz (-6 dB cutoff frequency: 0.25 Hz)\n",
      "- Filter length: 6759 samples (6.601 s)\n",
      "\n"
     ]
    },
    {
     "name": "stderr",
     "output_type": "stream",
     "text": [
      "[Parallel(n_jobs=1)]: Done  17 tasks      | elapsed:    0.5s\n"
     ]
    }
   ],
   "source": [
    "raw_highpass = raw.copy().filter(l_freq=0.5, h_freq=None) #There might be an issue with MNE highpass filtering, see \"EEG is better left alone.\""
   ]
  },
  {
   "cell_type": "code",
   "execution_count": 5,
   "metadata": {},
   "outputs": [
    {
     "name": "stdout",
     "output_type": "stream",
     "text": [
      "Filtering raw data in 1 contiguous segment\n",
      "Setting up low-pass filter at 40 Hz\n",
      "\n",
      "FIR filter parameters\n",
      "---------------------\n",
      "Designing a one-pass, zero-phase, non-causal lowpass filter:\n",
      "- Windowed time-domain design (firwin) method\n",
      "- Hamming window with 0.0194 passband ripple and 53 dB stopband attenuation\n",
      "- Upper passband edge: 40.00 Hz\n",
      "- Upper transition bandwidth: 10.00 Hz (-6 dB cutoff frequency: 45.00 Hz)\n",
      "- Filter length: 339 samples (0.331 s)\n",
      "\n"
     ]
    },
    {
     "name": "stderr",
     "output_type": "stream",
     "text": [
      "[Parallel(n_jobs=1)]: Done  17 tasks      | elapsed:    0.3s\n"
     ]
    }
   ],
   "source": [
    "raw_lowpass = raw_highpass.copy().filter(l_freq=None, h_freq=40)"
   ]
  },
  {
   "cell_type": "code",
   "execution_count": null,
   "metadata": {},
   "outputs": [],
   "source": [
    "raw_alpha = raw.copy().filter(8, 12, n_jobs=4, l_trans_bandwidth=1, h_trans_bandwidth=1)"
   ]
  },
  {
   "cell_type": "code",
   "execution_count": null,
   "metadata": {},
   "outputs": [],
   "source": [
    "raw_alpha_down_sampled = raw_alpha.copy().resample(sfreq=256)"
   ]
  },
  {
   "cell_type": "code",
   "execution_count": 6,
   "metadata": {},
   "outputs": [],
   "source": [
    "raw_down_sampled = raw_lowpass.copy().resample(sfreq=256)"
   ]
  },
  {
   "cell_type": "code",
   "execution_count": null,
   "metadata": {},
   "outputs": [],
   "source": [
    "print(raw_down_sampled.get_data().shape)"
   ]
  },
  {
   "cell_type": "code",
   "execution_count": 7,
   "metadata": {},
   "outputs": [],
   "source": [
    "gfp_data = pycrostates.preprocessing.extract_gfp_peaks(raw_down_sampled, min_peak_distance=1) #Should I consider othe min distances?"
   ]
  },
  {
   "cell_type": "code",
   "execution_count": 8,
   "metadata": {},
   "outputs": [
    {
     "name": "stdout",
     "output_type": "stream",
     "text": [
      "(64, 5937)\n"
     ]
    }
   ],
   "source": [
    "print(gfp_data.get_data().shape)"
   ]
  },
  {
   "cell_type": "code",
   "execution_count": 9,
   "metadata": {},
   "outputs": [],
   "source": [
    "gfp_data_cleaned = pycrostates.preprocessing.extract_gfp_peaks(cleaned, min_peak_distance=1)"
   ]
  },
  {
   "cell_type": "code",
   "execution_count": 63,
   "metadata": {},
   "outputs": [
    {
     "name": "stdout",
     "output_type": "stream",
     "text": [
      "(6105,) (61440,) (64, 61440)\n",
      "(6105,)\n",
      "(3500,)\n",
      "(64, 3500)\n"
     ]
    }
   ],
   "source": [
    "data, indices, gfp, info_mne  = microstates_clean(raw_down_sampled, standardize_eeg=False, )\n",
    "print(indices.shape, gfp.shape, data.shape)\n",
    "gfp_peakes = gfp[indices]\n",
    "print(gfp_peakes.shape)\n",
    "new_indices = np.argpartition(gfp_peakes, -3500)[-3500:]\n",
    "print(new_indices.shape)\n",
    "neuro_gfp_data = data[:, indices][:, new_indices]\n",
    "print(neuro_gfp_data.shape)"
   ]
  },
  {
   "cell_type": "code",
   "execution_count": null,
   "metadata": {},
   "outputs": [],
   "source": []
  },
  {
   "cell_type": "code",
   "execution_count": null,
   "metadata": {},
   "outputs": [],
   "source": [
    "gfp_alpha = pycrostates.preprocessing.extract_gfp_peaks(raw_alpha_down_sampled, min_peak_distance=1)"
   ]
  },
  {
   "cell_type": "code",
   "execution_count": null,
   "metadata": {},
   "outputs": [],
   "source": [
    "print(gfp_data.get_data().shape)"
   ]
  },
  {
   "cell_type": "code",
   "execution_count": null,
   "metadata": {},
   "outputs": [],
   "source": [
    "gfp_data.info"
   ]
  },
  {
   "cell_type": "code",
   "execution_count": 64,
   "metadata": {},
   "outputs": [],
   "source": [
    "##############################\n",
    "#Fuzzy k-medioids\n",
    "##############################\n",
    "norms = scale_data(neuro_gfp_data.T, z_score=False)\n",
    "activation = norms.dot(norms.T)\n",
    "absolute_cosine_matrix = np.abs(activation)\n",
    "np.fill_diagonal(absolute_cosine_matrix, 0)\n",
    "\n"
   ]
  },
  {
   "cell_type": "code",
   "execution_count": 23,
   "metadata": {},
   "outputs": [
    {
     "name": "stdout",
     "output_type": "stream",
     "text": [
      "[[0.         0.82572112 0.81396899 ... 0.12801281 0.1889082  0.08746056]\n",
      " [0.82572112 0.         0.80412784 ... 0.03243772 0.12266956 0.35935967]\n",
      " [0.81396899 0.80412784 0.         ... 0.20554008 0.19267017 0.19404604]\n",
      " ...\n",
      " [0.12801281 0.03243772 0.20554008 ... 0.         0.86723313 0.58161496]\n",
      " [0.1889082  0.12266956 0.19267017 ... 0.86723313 0.         0.63333433]\n",
      " [0.08746056 0.35935967 0.19404604 ... 0.58161496 0.63333433 0.        ]]\n"
     ]
    }
   ],
   "source": [
    "print(absolute_cosine_matrix)"
   ]
  },
  {
   "cell_type": "code",
   "execution_count": 65,
   "metadata": {},
   "outputs": [
    {
     "data": {
      "image/png": "[encoded data removed]",
      "text/plain": [
       "<Figure size 640x480 with 1 Axes>"
      ]
     },
     "metadata": {},
     "output_type": "display_data"
    },
    {
     "ename": "",
     "evalue": "",
     "output_type": "error",
     "traceback": [
      "\u001b[1;31mThe Kernel crashed while executing code in the the current cell or a previous cell. Please review the code in the cell(s) to identify a possible cause of the failure. Click <a href='https://aka.ms/vscodeJupyterKernelCrash'>here</a> for more info. View Jupyter <a href='command:jupyter.viewOutput'>log</a> for further details."
     ]
    }
   ],
   "source": [
    "# Flatten the upper triangular part of the matrix (excluding the diagonal)\n",
    "# This is to avoid counting self-similarities (diagonal elements)\n",
    "similarities = absolute_cosine_matrix[np.triu_indices(absolute_cosine_matrix.shape[0], k=1)]\n",
    "\n",
    "# Create a histogram\n",
    "plt.hist(similarities, bins=3500, edgecolor='k')\n",
    "plt.xlabel('Similarity Value')\n",
    "plt.ylabel('Frequency')\n",
    "plt.title('Distribution of Similarities')\n",
    "plt.show()"
   ]
  },
  {
   "cell_type": "code",
   "execution_count": 19,
   "metadata": {},
   "outputs": [],
   "source": [
    "cluster_numbers = range(2, 20)\n",
    "scores = {\n",
    "    \"Silhouette\": np.zeros(len(cluster_numbers)),\n",
    "    \"Calinski-Harabasaz\": np.zeros(len(cluster_numbers)),\n",
    "    \"FPC\": np.zeros(len(cluster_numbers)),\n",
    "    \"Davies-Bouldin\": np.zeros(len(cluster_numbers)),\n",
    "}\n"
   ]
  },
  {
   "cell_type": "code",
   "execution_count": 21,
   "metadata": {},
   "outputs": [],
   "source": [
    "for k, n_clusters in enumerate(cluster_numbers):\n",
    "    \n",
    "    # fit K-means algorithm with a set number of cluster centers\n",
    "    #ModK = sklearn.cluster.KMeans(n_clusters=n_clusters, random_state=42, init='k-means++', n_init= 10)\n",
    "    #ModK = NeurokitCluster(method='kmod', n_microstates=n_clusters, sampling_rate=256, random_state=42)\n",
    "    ModK = pycrostates.cluster.ModKMeans(n_clusters=n_clusters, random_state=42)\n",
    "    \n",
    "    \n",
    "    #ddd = scale_data(gfp_data.get_data().T, z_score=False)\n",
    "    #ddd = scale_data(neuro_gfp_data.T, z_score=False)\n",
    "    #ddd = gfp_data.get_data()#.T\n",
    "    ModK.fit(gfp_data)\n",
    "    #scalar = sklearn.preprocessing.StandardScaler()\n",
    "    #ddd = scalar.fit_transform(ddd)\n",
    "    \n",
    "    #cntr, u, u0, d, jm, p, fpc = skfuzzy._cluster.cmeans(ddd ,c=n_clusters, m=3, error=0.005, maxiter=1000, init=None, seed=42, metric='cosine')\n",
    "    #cluster_membership = np.argmax(u, axis=0)\n",
    "    #manifold = Hypersphere(dim=63)\n",
    "    #ModK = RiemannianKMeans(manifold, n_clusters=n_clusters)\n",
    "\n",
    "    #sulo = FKM(absolute_cosine_matrix, n_clusters, 2)\n",
    "    #cluster_membership = np.argmax(sulo[1], axis=0)\n",
    "\n",
    "    #sil = _distance_matrix(ddd)\n",
    "    #ddd = scale_data(gfp_data_cleaned.get_data().T, z_score=False)\n",
    "\n",
    "    #ModK.fit(ddd)\n",
    "    # compute scores\n",
    "    #scores[\"Silhouette\"][k] = pycrostates.metrics.silhouette_score(ModK)\n",
    "    #scores[\"Silhouette\"][k] = sklearn.metrics.silhouette_score(sil, ModK.labels_, metric=\"precomputed\")\n",
    "    scores[\"Silhouette\"][k] = sklearn.metrics.silhouette_score(absolute_cosine_matrix, ModK.labels_, metric=\"precomputed\")\n",
    "    #scores[\"Calinski-Harabasaz\"][k] = sklearn.metrics.calinski_harabasz_score(ddd, ModK.labels_)\n",
    "    #scores[\"Calinski-Harabasaz\"][k] = pycrostates.metrics.calinski_harabasz_score(ModK)\n",
    "    #scores[\"FPC\"][k] = fpc\n",
    "    #scores[\"Davies-Bouldin\"][k] = sklearn.metrics.davies_bouldin_score(ddd, ModK.labels_)\n",
    "    #scores[\"Davies-Bouldin\"][k] = pycrostates.metrics.davies_bouldin_score(ModK)"
   ]
  },
  {
   "cell_type": "code",
   "execution_count": 22,
   "metadata": {},
   "outputs": [
    {
     "data": {
      "image/png": "[encoded data removed]",
      "text/plain": [
       "<Figure size 640x480 with 4 Axes>"
      ]
     },
     "metadata": {},
     "output_type": "display_data"
    }
   ],
   "source": [
    "f, ax = plt.subplots(2, 2, sharex=True)\n",
    "for k, (score, values) in enumerate(scores.items()):\n",
    "    ax[k // 2, k % 2].bar(x=cluster_numbers, height=values)\n",
    "    ax[k // 2, k % 2].set_title(score)\n",
    "plt.text(\n",
    "    0.03, 0.5, \"Score\",\n",
    "    horizontalalignment='center',\n",
    "    verticalalignment='center',\n",
    "    rotation=90,\n",
    "    fontdict=dict(size=14),\n",
    "    transform=f.transFigure,\n",
    ")\n",
    "plt.text(\n",
    "    0.5, 0.03, \"Number of clusters\",\n",
    "    horizontalalignment='center',\n",
    "    verticalalignment='center',\n",
    "    fontdict=dict(size=14),\n",
    "    transform=f.transFigure,\n",
    ")\n",
    "plt.show()"
   ]
  },
  {
   "cell_type": "code",
   "execution_count": null,
   "metadata": {},
   "outputs": [],
   "source": [
    "from sklearn.cluster import KMeans\n",
    "from sklearn.metrics import rand_score\n",
    "import numpy as np\n",
    "\n",
    "# Define the number of runs for stability analysis\n",
    "num_runs = 10  # You can adjust this as needed\n",
    "\n",
    "# Define the number of clusters to evaluate\n",
    "n_clusters = 9  # Change this to your desired number of clusters\n",
    "\n",
    "# Initialize an array to store cluster assignments\n",
    "cluster_assignments = []\n",
    "\n",
    "# Perform cluster stability analysis\n",
    "for r in range(num_runs):\n",
    "    # Create a K-means instance with a random initialization\n",
    "    ModK = pycrostates.cluster.ModKMeans(n_clusters=n_clusters, random_state=r)\n",
    "    \n",
    "    # Fit the model to your data and get cluster assignments\n",
    "    ModK.fit(gfp_data, n_jobs=4)  # Replace 'data' with your dataset\n",
    "    \n",
    "    # Store the cluster assignments for this run\n",
    "    cluster_assignments.append(ModK.labels_)\n",
    "\n",
    "# Calculate the Adjusted Rand Index between cluster assignments\n",
    "ari_values = np.zeros((num_runs, num_runs))\n",
    "for i in range(num_runs):\n",
    "    for j in range(i, num_runs):\n",
    "        ari = rand_score(cluster_assignments[i], cluster_assignments[j])\n",
    "        ari_values[i][j] = ari\n",
    "        ari_values[j][i] = ari\n",
    "\n",
    "# Calculate the mean ARI across pairs of runs\n",
    "mean_ari = np.mean(ari_values)\n",
    "\n",
    "print(ari_values)\n",
    "\n",
    "print(f\"Mean Adjusted Rand Index between cluster assignments across {num_runs} runs: {mean_ari}\")\n",
    "\n"
   ]
  },
  {
   "cell_type": "code",
   "execution_count": null,
   "metadata": {},
   "outputs": [],
   "source": [
    "algorithm = ModKMeansSkstab\n",
    "\n",
    "km_kwargs = {'inst': gfp_data, 'random_state': 42}\n",
    "\n",
    "k_values = list(range(1, 21))\n",
    "\n",
    "omega = list(range(2, 6))\n",
    "\n",
    "dddd = scale_data(gfp_data.get_data().T)\n",
    "\n",
    "# 4. Define stability estimation class\n",
    "stab = StadionEstimator(dddd, algorithm,\n",
    "                        param_name='n_clusters',\n",
    "                        param_values=k_values,\n",
    "                        omega=omega,\n",
    "                        extended=True,\n",
    "                        runs=10,\n",
    "                        perturbation='uniform',\n",
    "                        perturbation_kwargs='auto',\n",
    "                        algo_kwargs=km_kwargs,\n",
    "                        n_jobs=-1)\n",
    "\n"
   ]
  },
  {
   "cell_type": "code",
   "execution_count": null,
   "metadata": {},
   "outputs": [],
   "source": [
    "score = stab.score(strategy='max', crossing=True)  # estimate Stadion scores"
   ]
  },
  {
   "cell_type": "code",
   "execution_count": null,
   "metadata": {},
   "outputs": [],
   "source": [
    "k_hat = stab.select_param()  # selected number of clusters"
   ]
  },
  {
   "cell_type": "code",
   "execution_count": null,
   "metadata": {},
   "outputs": [],
   "source": [
    "print(score, k_hat)"
   ]
  },
  {
   "cell_type": "code",
   "execution_count": null,
   "metadata": {},
   "outputs": [],
   "source": [
    "print(ModK._fitted_data.shape)"
   ]
  },
  {
   "cell_type": "code",
   "execution_count": null,
   "metadata": {},
   "outputs": [],
   "source": [
    "km_kwargs = {'inst': gfp_data_cleaned, 'random_state': 42}\n",
    "# 4. Define stability estimation class\n",
    "stab_clean = StadionEstimator(gfp_data_cleaned.get_data().T, algorithm,\n",
    "                        param_name='n_clusters',\n",
    "                        param_values=k_values,\n",
    "                        omega=omega,\n",
    "                        extended=True,\n",
    "                        runs=10,\n",
    "                        perturbation='uniform',\n",
    "                        perturbation_kwargs='auto',\n",
    "                        algo_kwargs=km_kwargs,\n",
    "                        n_jobs=-1)\n",
    "\n",
    "score_clean = stab_clean.score(strategy='max', crossing=True)  # estimate Stadion scores\n",
    "k_hat_clean = stab_clean.select_param()  # selected number of clusters"
   ]
  },
  {
   "cell_type": "code",
   "execution_count": null,
   "metadata": {},
   "outputs": [],
   "source": [
    "print(score_clean, k_hat_clean)"
   ]
  },
  {
   "cell_type": "code",
   "execution_count": null,
   "metadata": {},
   "outputs": [],
   "source": [
    "algorithm = sklearn.cluster.KMeans\n",
    "\n",
    "km_kwargs = {'init': 'k-means++', 'n_init': 10}\n",
    "\n",
    "k_values = list(range(1, 21))\n",
    "\n",
    "omega = list(range(2, 6))\n",
    "\n",
    "\n",
    "data_t1 = scale_data(gfp_data.get_data().T, z_score=False)\n",
    "\n",
    "# 4. Define stability estimation class\n",
    "stab_t1 = StadionEstimator(data_t1, algorithm,\n",
    "                        param_name='n_clusters',\n",
    "                        param_values=k_values,\n",
    "                        omega=omega,\n",
    "                        extended=True,\n",
    "                        runs=10,\n",
    "                        perturbation='uniform',\n",
    "                        perturbation_kwargs='auto',\n",
    "                        algo_kwargs=km_kwargs,\n",
    "                        n_jobs=-1)\n",
    "\n",
    "score_t1 = stab_t1.score(strategy='max', crossing=True)  # estimate Stadion scores\n",
    "k_hat_t1 = stab_t1.select_param()  # selected number of clusters"
   ]
  },
  {
   "cell_type": "code",
   "execution_count": null,
   "metadata": {},
   "outputs": [],
   "source": [
    "print(score_t1) \n",
    "print(k_hat_t1)"
   ]
  },
  {
   "cell_type": "code",
   "execution_count": null,
   "metadata": {},
   "outputs": [],
   "source": [
    "algorithm = sklearn.cluster.KMeans\n",
    "\n",
    "km_kwargs = {'n_init': 10}\n",
    "\n",
    "k_values = list(range(1, 21))\n",
    "\n",
    "omega = list(range(2, 6))\n",
    "\n",
    "data_t1_cl = scale_data(gfp_data_cleaned.get_data().T, z_score=False)\n",
    "\n",
    "# 4. Define stability estimation class\n",
    "stab_t1_cl = StadionEstimator(data_t1_cl, algorithm,\n",
    "                        param_name='n_clusters',\n",
    "                        param_values=k_values,\n",
    "                        omega=omega,\n",
    "                        extended=True,\n",
    "                        runs=10,\n",
    "                        perturbation='uniform',\n",
    "                        perturbation_kwargs='auto',\n",
    "                        algo_kwargs=km_kwargs,\n",
    "                        n_jobs=-1)\n",
    "\n",
    "score_t1_cl = stab_t1_cl.score(strategy='max', crossing=True)  # estimate Stadion scores\n",
    "k_hat_t1_cl = stab_t1_cl.select_param()  # selected number of clusters"
   ]
  },
  {
   "cell_type": "code",
   "execution_count": null,
   "metadata": {},
   "outputs": [],
   "source": [
    "print(score_t1_cl)\n",
    "print(k_hat_t1_cl)"
   ]
  },
  {
   "cell_type": "code",
   "execution_count": null,
   "metadata": {},
   "outputs": [],
   "source": [
    "import numpy as np\n",
    "from skstab import ModelExplorer\n",
    "from skstab.datasets import load_dataset\n",
    "from sklearn.cluster import KMeans\n",
    "\n",
    "\n",
    "\n",
    "algorithm = ModKMeansSkstab\n",
    "km_kwargs = {'inst': gfp_data, 'random_state': 42}\n",
    "\n",
    "k_values = list(range(2, 10))\n",
    "print('Evaluated numbers of clusters:', k_values)\n",
    "\n",
    "stab = ModelExplorer(gfp_data.get_data().T, algorithm,\n",
    "                     param_name='n_clusters',\n",
    "                     param_values=k_values,\n",
    "                     f=0.8,\n",
    "                     runs=100,\n",
    "                     algo_kwargs=km_kwargs,\n",
    "                     n_jobs=-1)\n",
    "\n",
    "score_ME = stab.score()\n",
    "print('Model explorer scores:\\n', score)\n",
    "k_hat_ME = stab.select_param()[0]\n",
    "print('Selected number of clusters: K =', k_hat)"
   ]
  },
  {
   "cell_type": "code",
   "execution_count": null,
   "metadata": {},
   "outputs": [],
   "source": [
    "test = ModKMeansSkstab(n_clusters=4, inst=gfp_data, random_state=42)\n"
   ]
  },
  {
   "cell_type": "code",
   "execution_count": null,
   "metadata": {},
   "outputs": [],
   "source": [
    "test.fit(d=gfp_data.get_data().T)"
   ]
  },
  {
   "cell_type": "code",
   "execution_count": null,
   "metadata": {},
   "outputs": [],
   "source": [
    "p = test.predict(gfp_data.get_data().T)"
   ]
  },
  {
   "cell_type": "code",
   "execution_count": null,
   "metadata": {},
   "outputs": [],
   "source": [
    "print(p.shape)"
   ]
  },
  {
   "cell_type": "code",
   "execution_count": null,
   "metadata": {},
   "outputs": [],
   "source": [
    "from skstab import StadionEstimator\n",
    "from skstab.datasets import load_dataset\n",
    "from sklearn.cluster import KMeans\n",
    "\n",
    "# 1. Load data\n",
    "X = gfp_data.get_data().T\n",
    "\n",
    "# 2. Choose clustering algorithm\n",
    "algorithm = KMeans\n",
    "km_kwargs = {'init': 'k-means++', 'n_init': 10}  # algorithm settings\n",
    "\n",
    "# 3. Fix range of parameters and Stadion hyperparameter omega\n",
    "k_values = list(range(1, 11))  # evaluate K=1 to K=10\n",
    "omega = list(range(2, 6))  # keep this fixed to 2:5 or 2:10\n",
    "\n",
    "# 4. Define stability estimation class\n",
    "stab = StadionEstimator(X, algorithm,\n",
    "                        param_name='n_clusters',\n",
    "                        param_values=k_values,\n",
    "                        omega=omega,\n",
    "                        extended=True,\n",
    "                        runs=10,\n",
    "                        perturbation='uniform',\n",
    "                        perturbation_kwargs='auto',\n",
    "                        algo_kwargs=km_kwargs,\n",
    "                        n_jobs=-1)\n",
    "\n",
    "# 5. Evaluate stability scores\n",
    "score = stab.score(strategy='max', crossing=True)  # estimate Stadion scores\n",
    "k_hat = stab.select_param()[0]  # selected number of clusters"
   ]
  },
  {
   "cell_type": "code",
   "execution_count": null,
   "metadata": {},
   "outputs": [],
   "source": [
    "print(gfp_data.get_data().shape)"
   ]
  },
  {
   "cell_type": "code",
   "execution_count": null,
   "metadata": {},
   "outputs": [],
   "source": [
    "from skstab import StadionEstimator\n",
    "from skstab.datasets import load_dataset\n",
    "from sklearn.cluster import KMeans\n",
    "from package1.neurokit_to_sklearn_API import NeurokitCluster\n",
    "\n",
    "# 1. Load data\n",
    "X = gfp_data.get_data().T\n",
    "\n",
    "# 2. Choose clustering algorithm\n",
    "algorithm = NeurokitCluster\n",
    "km_kwargs = {'sampling_rate': 256, 'random_state': 42}  # algorithm settings\n",
    "\n",
    "# 3. Fix range of parameters and Stadion hyperparameter omega\n",
    "k_values = list(range(1, 20))  # evaluate K=1 to K=10\n",
    "omega = list(range(2, 6))  # keep this fixed to 2:5 or 2:10\n",
    "\n",
    "# 4. Define stability estimation class\n",
    "stab = StadionEstimator(X, algorithm,\n",
    "                        param_name='n_microstates',\n",
    "                        param_values=k_values,\n",
    "                        omega=omega,\n",
    "                        extended=True,\n",
    "                        runs=10,\n",
    "                        perturbation='uniform',\n",
    "                        perturbation_kwargs='auto',\n",
    "                        algo_kwargs=km_kwargs,\n",
    "                        n_jobs=-1)\n",
    "\n",
    "# 5. Evaluate stability scores\n",
    "score = stab.score(strategy='max', crossing=True)  # estimate Stadion scores\n",
    "k_hat = stab.select_param()[0]  # selected number of clusters"
   ]
  },
  {
   "cell_type": "code",
   "execution_count": null,
   "metadata": {},
   "outputs": [],
   "source": [
    "ModK = pycrostates.cluster.ModKMeans(n_clusters=2, random_state=42)\n",
    "ModK.fit(gfp_data, n_jobs=4)"
   ]
  },
  {
   "cell_type": "code",
   "execution_count": null,
   "metadata": {},
   "outputs": [],
   "source": [
    "ModK.set_montage('biosemi64')"
   ]
  },
  {
   "cell_type": "code",
   "execution_count": null,
   "metadata": {},
   "outputs": [],
   "source": [
    "for i in range(4):\n",
    "    pycrostates.viz.plot_cluster_centers(ModK.cluster_centers_[i*4 : (i+1)*4], ModK.info)"
   ]
  },
  {
   "cell_type": "code",
   "execution_count": null,
   "metadata": {},
   "outputs": [],
   "source": [
    "print(ModK.cluster_centers_.shape)"
   ]
  },
  {
   "cell_type": "code",
   "execution_count": null,
   "metadata": {},
   "outputs": [],
   "source": [
    "ModK_cleaned = pycrostates.cluster.ModKMeans(n_clusters=5, random_state=42)\n",
    "ModK_cleaned.fit(gfp_data_cleaned, n_jobs=4)"
   ]
  },
  {
   "cell_type": "code",
   "execution_count": null,
   "metadata": {},
   "outputs": [],
   "source": [
    "ModK_cleaned.set_montage('biosemi64')"
   ]
  },
  {
   "cell_type": "code",
   "execution_count": null,
   "metadata": {},
   "outputs": [],
   "source": [
    "ModK_cleaned.plot()"
   ]
  },
  {
   "cell_type": "code",
   "execution_count": null,
   "metadata": {},
   "outputs": [],
   "source": [
    "ModK_alpha = pycrostates.cluster.ModKMeans(n_clusters=9, random_state=42)\n",
    "ModK_alpha.fit(gfp_alpha, n_jobs=4)\n",
    "ModK_alpha.set_montage('biosemi64')\n",
    "ModK_alpha.plot()"
   ]
  },
  {
   "cell_type": "code",
   "execution_count": null,
   "metadata": {},
   "outputs": [],
   "source": [
    "inf = ModK_alpha.info"
   ]
  },
  {
   "cell_type": "code",
   "execution_count": null,
   "metadata": {},
   "outputs": [],
   "source": [
    "from neurokit2.microstates.microstates_segment import microstates_segment\n",
    "neurokitter = microstates_segment(raw_down_sampled, 4)"
   ]
  },
  {
   "cell_type": "code",
   "execution_count": null,
   "metadata": {},
   "outputs": [],
   "source": [
    "print(neurokitter['Microstates'])"
   ]
  },
  {
   "cell_type": "code",
   "execution_count": null,
   "metadata": {},
   "outputs": [],
   "source": [
    "from pycrostates.viz.cluster_centers import plot_cluster_centers\n",
    "\n",
    "manifold = Hypersphere(dim=63)\n",
    "ModK = RiemannianKMeans(manifold, n_clusters=4)\n",
    "ModK.fit(ddd)\n",
    "\"\"\"plottcla = pycrostates.cluster.ModKMeans(n_clusters=5)\n",
    "plottcla._fitted = True\n",
    "plottcla._labels_ = ModK.labels_\n",
    "plottcla._cluster_centers_ = ModK.centroids_\n",
    "plottcla._info = 1\n",
    "plottcla._fitted_data = ddd\n",
    "plottcla._GEV_ = 0.9\"\"\"\n",
    "plot_cluster_centers(ModK.centroids_, inf)\n"
   ]
  }
 ],
 "metadata": {
  "kernelspec": {
   "display_name": "env",
   "language": "python",
   "name": "python3"
  },
  "language_info": {
   "codemirror_mode": {
    "name": "ipython",
    "version": 3
   },
   "file_extension": ".py",
   "mimetype": "text/x-python",
   "name": "python",
   "nbconvert_exporter": "python",
   "pygments_lexer": "ipython3",
   "version": "3.10.4"
  },
  "orig_nbformat": 4
 },
 "nbformat": 4,
 "nbformat_minor": 2
}
