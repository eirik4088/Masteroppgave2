{
 "cells": [
  {
   "cell_type": "code",
   "execution_count": null,
   "metadata": {},
   "outputs": [],
   "source": [
    "import numpy as np\n",
    "import pandas as pd\n",
    "import matplotlib.pyplot as plt\n",
    "import scipy\n",
    "import mne\n",
    "import pathlib\n",
    "import sklearn\n",
    "import seaborn as sns\n",
    "from meegkit import dss\n",
    " \n",
    "from pycrostates.preprocessing import extract_gfp_peaks\n",
    "from neurokit2.microstates.microstates_clean import microstates_clean\n",
    "from mne_icalabel import label_components\n",
    "from scipy.stats import kurtosis, skew\n",
    "import pymatreader\n",
    "from pymatreader import read_mat"
   ]
  },
  {
   "cell_type": "code",
   "execution_count": null,
   "metadata": {},
   "outputs": [],
   "source": [
    "from eeg_clean import epoch_stats, channel_stats, clean"
   ]
  },
  {
   "cell_type": "code",
   "execution_count": null,
   "metadata": {},
   "outputs": [],
   "source": [
    "def zapline_clean(raw, fline):\n",
    "    data = raw.get_data().T # Convert mne data to numpy darray\n",
    "    sfreq = raw.info['sfreq'] # Extract the sampling freq\n",
    "   \n",
    "    #Apply MEEGkit toolbox function\n",
    "    out, _ = dss.dss_line(data, fline, sfreq, nkeep=1) # fline (Line noise freq) = 50 Hz for Europe\n",
    "    print(out.shape)\n",
    "\n",
    "    cleaned_raw = mne.io.RawArray(out.T, raw.info) # Convert output to mne RawArray again\n",
    "\n",
    "    return cleaned_raw"
   ]
  },
  {
   "cell_type": "code",
   "execution_count": null,
   "metadata": {},
   "outputs": [],
   "source": [
    "data_folder = pathlib.Path(r\"C:\\Users\\Gulbr\\MasterOppgave\\Data\\SPIS\")\n",
    "file = data_folder / \"S05_restingPre_EO.mat\"\n",
    "\n",
    "dict = pymatreader.read_mat(file)\n",
    "\n",
    "info = mne.create_info(sfreq=256, ch_types=\"eeg\", ch_names = ['Fp1', 'AF7', 'AF3', 'F1', 'F3', 'F5', 'F7', 'FT7', 'FC5', 'FC3', 'FC1', 'C1', 'C3', 'C5', 'T7', 'TP7', 'CP5', 'CP3', 'CP1', 'P1', 'P3', 'P5', 'P7', 'P9', 'PO7', 'PO3', 'O1', 'Iz', 'Oz', 'POz', 'Pz', 'CPz', 'Fpz', 'Fp2', 'AF8', 'AF4', 'AFz', 'Fz', 'F2', 'F4', 'F6', 'F8', 'FT8', 'FC6', 'FC4', 'FC2', 'FCz', 'Cz', 'C2', 'C4', 'C6', 'T8', 'TP8', 'CP6', 'CP4', 'CP2', 'P2', 'P4', 'P6', 'P8', 'P10', 'PO8', 'PO4', 'O2'])\n",
    "\n",
    "raw= mne.io.RawArray(dict['dataRest'][:64, :], info)\n",
    "raw.set_montage('biosemi64')\n",
    "\n",
    "raw_highpass = raw.copy().filter(l_freq=1, h_freq=None, verbose=False)\n",
    "raw_lowpass = raw_highpass.copy().filter(l_freq=None, h_freq=100, verbose=False)\n",
    "line_noise = zapline_clean(raw_lowpass, 50)\n",
    "raw_down_sampled = line_noise.copy().resample(sfreq=200, verbose=False)\n"
   ]
  },
  {
   "cell_type": "markdown",
   "metadata": {},
   "source": [
    "Bad epoch idenfication - based on topographic stability"
   ]
  },
  {
   "cell_type": "markdown",
   "metadata": {},
   "source": [
    "Between GFP peaks"
   ]
  },
  {
   "cell_type": "code",
   "execution_count": null,
   "metadata": {},
   "outputs": [],
   "source": [
    "ones_epochs = mne.make_fixed_length_epochs(raw_down_sampled, 0.5, verbose=False, preload=True)"
   ]
  },
  {
   "cell_type": "code",
   "execution_count": null,
   "metadata": {},
   "outputs": [],
   "source": [
    "stats = epoch_stats.EpochStats(ones_epochs, switching_frq_thresholds=np.array([1, 1.4]))\n",
    "stats.calc_stability()"
   ]
  },
  {
   "cell_type": "code",
   "execution_count": null,
   "metadata": {},
   "outputs": [],
   "source": [
    "epoched_stability = stats.quasi_stability.get_mean_abs_stab()\n",
    "convex_stabilty = stats.quasi_stability.get_mean_stab()\n",
    "epoched_switching_freq = stats.quasi_stability.switching_freqs[:, 0]\n",
    "significant_switching_freq = stats.quasi_stability.switching_freqs[:, 1]\n",
    "peaks = stats.n_gfp_peaks"
   ]
  },
  {
   "cell_type": "markdown",
   "metadata": {},
   "source": [
    "Plots to investigate exclusion of epocs not following our assumptions."
   ]
  },
  {
   "cell_type": "markdown",
   "metadata": {},
   "source": [
    "Epoch averaged DISS"
   ]
  },
  {
   "cell_type": "code",
   "execution_count": null,
   "metadata": {},
   "outputs": [],
   "source": [
    "plt.hist(convex_stabilty, bins=200)\n",
    "plt.show()"
   ]
  },
  {
   "cell_type": "markdown",
   "metadata": {},
   "source": [
    "Stability transformed: absoluteDISS = |DISS-1| ... and averaged for each epoch. Now only high values indicate stability."
   ]
  },
  {
   "cell_type": "code",
   "execution_count": null,
   "metadata": {},
   "outputs": [],
   "source": [
    "plt.hist(epoched_stability, bins=200)\n",
    "plt.show()"
   ]
  },
  {
   "cell_type": "markdown",
   "metadata": {},
   "source": [
    "Average epoch polarity inversion going from gfp peak to gfp peak, meaning DISS < 1."
   ]
  },
  {
   "cell_type": "code",
   "execution_count": null,
   "metadata": {},
   "outputs": [],
   "source": [
    "plt.hist(epoched_switching_freq, bins=36)\n",
    "plt.show()"
   ]
  },
  {
   "cell_type": "markdown",
   "metadata": {},
   "source": [
    "The same again, but only for shifts in polarity where higher stability is indicated (DISS > 1.4)"
   ]
  },
  {
   "cell_type": "code",
   "execution_count": null,
   "metadata": {},
   "outputs": [],
   "source": [
    "plt.hist(significant_switching_freq, bins=21)\n",
    "plt.show()"
   ]
  },
  {
   "cell_type": "markdown",
   "metadata": {},
   "source": [
    "Number of GFP peaks for each epoch"
   ]
  },
  {
   "cell_type": "code",
   "execution_count": null,
   "metadata": {},
   "outputs": [],
   "source": [
    "plt.hist(peaks, bins=21)\n",
    "plt.show()"
   ]
  },
  {
   "cell_type": "markdown",
   "metadata": {},
   "source": [
    "Looking at scatter plot between swithcing frequencies and number of GFP peaks"
   ]
  },
  {
   "cell_type": "code",
   "execution_count": null,
   "metadata": {},
   "outputs": [],
   "source": [
    "plt.scatter(peaks, epoched_switching_freq)\n",
    "plt.show()"
   ]
  },
  {
   "cell_type": "code",
   "execution_count": null,
   "metadata": {},
   "outputs": [],
   "source": [
    "plt.scatter(peaks, significant_switching_freq)\n",
    "plt.show()"
   ]
  },
  {
   "cell_type": "markdown",
   "metadata": {},
   "source": [
    "Looking at average absoluteDISS in relation to switching frequencies."
   ]
  },
  {
   "cell_type": "code",
   "execution_count": null,
   "metadata": {},
   "outputs": [],
   "source": [
    "plt.scatter(epoched_stability, epoched_switching_freq)\n",
    "plt.show()"
   ]
  },
  {
   "cell_type": "code",
   "execution_count": null,
   "metadata": {},
   "outputs": [],
   "source": [
    "plt.scatter(epoched_stability, significant_switching_freq)\n",
    "plt.show()"
   ]
  },
  {
   "cell_type": "markdown",
   "metadata": {},
   "source": [
    "Same but with average DISS"
   ]
  },
  {
   "cell_type": "code",
   "execution_count": null,
   "metadata": {},
   "outputs": [],
   "source": [
    "plt.scatter(convex_stabilty, epoched_switching_freq)\n",
    "plt.show()"
   ]
  },
  {
   "cell_type": "code",
   "execution_count": null,
   "metadata": {},
   "outputs": [],
   "source": [
    "plt.scatter(convex_stabilty, significant_switching_freq)\n",
    "plt.show()"
   ]
  },
  {
   "cell_type": "markdown",
   "metadata": {},
   "source": [
    "Scatter of the two stability types"
   ]
  },
  {
   "cell_type": "code",
   "execution_count": null,
   "metadata": {},
   "outputs": [],
   "source": [
    "plt.scatter(convex_stabilty, epoched_stability)\n",
    "plt.show()"
   ]
  },
  {
   "cell_type": "code",
   "execution_count": null,
   "metadata": {},
   "outputs": [],
   "source": [
    "fit = np.poly1d([1, 1])\n",
    "polyline = np.linspace(-1.6, 0, 100)\n",
    "reg = np.poly1d([0.8, 1.2])\n",
    "reg2 = np.poly1d([0.4, 1.2])\n",
    "plt.scatter(convex_stabilty-2, epoched_stability)\n",
    "plt.plot(polyline, fit(polyline), color='red')\n",
    "plt.plot(polyline, reg(polyline), color=\"blue\")\n",
    "plt.plot(polyline, reg2(polyline), color=\"black\")\n",
    "plt.show()\n"
   ]
  },
  {
   "cell_type": "code",
   "execution_count": null,
   "metadata": {},
   "outputs": [],
   "source": [
    "plt.scatter(epoched_switching_freq, significant_switching_freq)\n",
    "plt.show()"
   ]
  },
  {
   "cell_type": "markdown",
   "metadata": {},
   "source": [
    "At GFP peaks"
   ]
  },
  {
   "cell_type": "code",
   "execution_count": null,
   "metadata": {},
   "outputs": [],
   "source": [
    "at_epoched_stability = stats.peak_stability.get_mean_abs_stab()\n",
    "at_convex_stabilty = stats.peak_stability.get_mean_stab()"
   ]
  },
  {
   "cell_type": "code",
   "execution_count": null,
   "metadata": {},
   "outputs": [],
   "source": [
    "plt.hist(at_epoched_stability, bins=200)\n",
    "plt.show()"
   ]
  },
  {
   "cell_type": "code",
   "execution_count": null,
   "metadata": {},
   "outputs": [],
   "source": [
    "plt.hist(at_convex_stabilty, bins=200)\n",
    "plt.show()"
   ]
  },
  {
   "cell_type": "code",
   "execution_count": null,
   "metadata": {},
   "outputs": [],
   "source": [
    "plt.scatter(at_convex_stabilty, at_epoched_stability)\n",
    "plt.show()"
   ]
  },
  {
   "cell_type": "code",
   "execution_count": null,
   "metadata": {},
   "outputs": [],
   "source": [
    "fit = np.poly1d([-0.9, 1])\n",
    "reg = np.poly1d([-1, 1])\n",
    "reg2 = np.poly1d([-0.7, 1])\n",
    "polyline = np.linspace(0, 2, 100)\n",
    "plt.scatter(at_convex_stabilty, at_epoched_stability)\n",
    "plt.plot(polyline, fit(polyline), color='red')\n",
    "plt.plot(polyline, reg(polyline), color=\"blue\")\n",
    "plt.plot(polyline, reg2(polyline), color=\"black\")\n",
    "plt.show()"
   ]
  },
  {
   "cell_type": "code",
   "execution_count": null,
   "metadata": {},
   "outputs": [],
   "source": [
    "print(fit)"
   ]
  },
  {
   "cell_type": "code",
   "execution_count": null,
   "metadata": {},
   "outputs": [],
   "source": [
    "def scale(values):\n",
    "    v = values.reshape(-1, 1)\n",
    "    scaler = sklearn.preprocessing.StandardScaler()\n",
    "    noe = scaler.fit_transform(v)\n",
    "    return noe"
   ]
  },
  {
   "cell_type": "markdown",
   "metadata": {},
   "source": [
    "Bad channel evaluation"
   ]
  },
  {
   "cell_type": "code",
   "execution_count": null,
   "metadata": {},
   "outputs": [],
   "source": [
    "#avref_epochs = ones_epochs.copy().set_eeg_reference()\n",
    "stats_channels = channel_stats.ChannelStats(ones_epochs, sklearn_scaler=sklearn.preprocessing.MinMaxScaler())"
   ]
  },
  {
   "cell_type": "markdown",
   "metadata": {},
   "source": [
    "Channel Satbility"
   ]
  },
  {
   "cell_type": "markdown",
   "metadata": {},
   "source": [
    "At GFP peaks"
   ]
  },
  {
   "cell_type": "code",
   "execution_count": null,
   "metadata": {},
   "outputs": [],
   "source": [
    "at_test1 = stats_channels.peak_stab_change\n",
    "test1 = stats_channels.quasi_stab_change"
   ]
  },
  {
   "cell_type": "code",
   "execution_count": null,
   "metadata": {},
   "outputs": [],
   "source": [
    "plt.hist(at_test1*64, bins=64)\n",
    "plt.show()"
   ]
  },
  {
   "cell_type": "code",
   "execution_count": null,
   "metadata": {},
   "outputs": [],
   "source": [
    "order = np.argsort(at_test1)\n",
    "n = 60\n",
    "print(skew(at_test1[order][:n]))\n",
    "print(kurtosis(at_test1[order][:n]))\n",
    "print(np.array(stats_channels.ch_name_list)[order])"
   ]
  },
  {
   "cell_type": "markdown",
   "metadata": {},
   "source": [
    "Between GFP peaks"
   ]
  },
  {
   "cell_type": "code",
   "execution_count": null,
   "metadata": {},
   "outputs": [],
   "source": [
    "plt.hist(test1*64, bins=64)\n",
    "plt.show()"
   ]
  },
  {
   "cell_type": "code",
   "execution_count": null,
   "metadata": {},
   "outputs": [],
   "source": [
    "order = np.argsort(test1)\n",
    "n = 60\n",
    "print(skew(test1[order][:n]))\n",
    "print(kurtosis(test1[order][:n]))\n",
    "print(np.array(stats_channels.ch_name_list)[order])"
   ]
  },
  {
   "cell_type": "code",
   "execution_count": null,
   "metadata": {},
   "outputs": [],
   "source": [
    "print(kurtosis(test1))\n",
    "print(skew(test1))"
   ]
  },
  {
   "cell_type": "markdown",
   "metadata": {},
   "source": [
    "test threshold exclusions.."
   ]
  },
  {
   "cell_type": "code",
   "execution_count": null,
   "metadata": {},
   "outputs": [],
   "source": [
    "clean_test = clean.Clean(ones_epochs)"
   ]
  },
  {
   "cell_type": "code",
   "execution_count": null,
   "metadata": {},
   "outputs": [],
   "source": [
    "bad_epochs = clean_test.find_bad_epochs(peaks_args={\"method\": \"threshold\", \"threshold\": 0.8, \"exclude\": \"bigger\"})"
   ]
  },
  {
   "cell_type": "code",
   "execution_count": null,
   "metadata": {},
   "outputs": [],
   "source": [
    "print(bad_epochs)"
   ]
  },
  {
   "cell_type": "code",
   "execution_count": null,
   "metadata": {},
   "outputs": [],
   "source": [
    "bad_epochs = clean_test.find_bad_epochs(peaks_args={\"method\": \"function_threshold\", \"function\": np.poly1d([-1, 1.2]), \"exclude\":\"bigger\"})"
   ]
  },
  {
   "cell_type": "code",
   "execution_count": null,
   "metadata": {},
   "outputs": [],
   "source": [
    "print(bad_epochs)"
   ]
  },
  {
   "cell_type": "markdown",
   "metadata": {},
   "source": [
    "PCA heuristic idea"
   ]
  },
  {
   "cell_type": "code",
   "execution_count": null,
   "metadata": {},
   "outputs": [],
   "source": [
    "pc_all_chanels = stats_channels.pca_auc_change"
   ]
  },
  {
   "cell_type": "code",
   "execution_count": null,
   "metadata": {},
   "outputs": [],
   "source": [
    "plt.hist(scale(pc_all_chanels), bins=64)\n",
    "plt.show()"
   ]
  },
  {
   "cell_type": "code",
   "execution_count": null,
   "metadata": {},
   "outputs": [],
   "source": [
    "order = np.argsort(pc_all_chanels)\n",
    "n = 64\n",
    "print(skew(pc_all_chanels[order][:n]))\n",
    "print(kurtosis(pc_all_chanels[order][:n]))\n",
    "print(stats_channels.ch_name_list[order])"
   ]
  },
  {
   "cell_type": "code",
   "execution_count": null,
   "metadata": {},
   "outputs": [],
   "source": [
    "bad_by_corr = np.where(pc_all_chanels > 0)[0]\n",
    "print(stats_channels.ch_name_list[bad_by_corr])"
   ]
  },
  {
   "cell_type": "code",
   "execution_count": null,
   "metadata": {},
   "outputs": [],
   "source": [
    "idx = np.where((at_test1 > 0) & (test1 > 0) & (pc_all_chanels > 0))[0]\n",
    "print(idx)"
   ]
  },
  {
   "cell_type": "code",
   "execution_count": null,
   "metadata": {},
   "outputs": [],
   "source": [
    "print(stats_channels.ch_name_list[idx])"
   ]
  },
  {
   "cell_type": "code",
   "execution_count": null,
   "metadata": {},
   "outputs": [],
   "source": [
    "idx = np.where((at_test1 > 0) & (pc_all_chanels > 0))[0]\n",
    "idx2 = np.where((test1 > 0) & (pc_all_chanels > 0))[0]\n",
    "print(idx)\n",
    "print(idx2)"
   ]
  },
  {
   "cell_type": "code",
   "execution_count": null,
   "metadata": {},
   "outputs": [],
   "source": [
    "print(stats_channels.ch_name_list[idx])\n",
    "print(stats_channels.ch_name_list[idx2])"
   ]
  },
  {
   "cell_type": "markdown",
   "metadata": {},
   "source": [
    "Channels to exclude"
   ]
  },
  {
   "cell_type": "code",
   "execution_count": null,
   "metadata": {},
   "outputs": [],
   "source": [
    "acum = []\n",
    "for cn in stats_channels.ch_name_list[np.argsort(test1)]:\n",
    "    if cn in stats_channels.ch_name_list[bad_by_corr]:\n",
    "        print(cn)\n",
    "        acum.append(cn)\n",
    "    else:\n",
    "        break\n",
    "for cn in stats_channels.ch_name_list[np.argsort(at_test1)]:\n",
    "    if cn in stats_channels.ch_name_list[bad_by_corr]:\n",
    "        if cn not in acum:\n",
    "            print(cn)\n",
    "    else:\n",
    "        break\n"
   ]
  },
  {
   "cell_type": "markdown",
   "metadata": {},
   "source": [
    "Evaluate"
   ]
  },
  {
   "cell_type": "code",
   "execution_count": null,
   "metadata": {},
   "outputs": [],
   "source": [
    "from data_quality import ica_score"
   ]
  },
  {
   "cell_type": "code",
   "execution_count": null,
   "metadata": {},
   "outputs": [],
   "source": [
    "avref_epochs = raw_down_sampled.copy().set_eeg_reference()\n",
    "evaluate = ica_score.IcaScore(avref_epochs)"
   ]
  },
  {
   "cell_type": "code",
   "execution_count": null,
   "metadata": {},
   "outputs": [],
   "source": [
    "evaluate.ica.plot_components()"
   ]
  },
  {
   "cell_type": "code",
   "execution_count": null,
   "metadata": {},
   "outputs": [],
   "source": [
    "print(evaluate.ica_labels)"
   ]
  }
 ],
 "metadata": {
  "kernelspec": {
   "display_name": "env",
   "language": "python",
   "name": "python3"
  },
  "language_info": {
   "codemirror_mode": {
    "name": "ipython",
    "version": 3
   },
   "file_extension": ".py",
   "mimetype": "text/x-python",
   "name": "python",
   "nbconvert_exporter": "python",
   "pygments_lexer": "ipython3",
   "version": "3.10.4"
  }
 },
 "nbformat": 4,
 "nbformat_minor": 2
}
