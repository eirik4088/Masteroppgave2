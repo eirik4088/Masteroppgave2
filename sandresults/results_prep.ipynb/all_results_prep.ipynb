{
 "cells": [
  {
   "cell_type": "code",
   "execution_count": 1,
   "metadata": {},
   "outputs": [],
   "source": [
    "import pathlib\n",
    "import numpy as np\n",
    "import matplotlib.pyplot as plt\n",
    "import seaborn as sns\n",
    "from scipy import stats\n",
    "from multiprocessing import Process\n",
    "from eeg_clean import clean, epoch_stats\n",
    "from data_quality import ica_score\n",
    "from plotting.templates import plot_dens_scatter, plot_n_boxplots, plot_dist_hist"
   ]
  },
  {
   "cell_type": "code",
   "execution_count": 2,
   "metadata": {},
   "outputs": [],
   "source": [
    "baseline_folder = pathlib.Path(r\"C:\\Users\\workbench\\eirik_master\\Results\\baseline_results.npy\")\n",
    "baseline_alternate_folder = pathlib.Path(r\"C:\\Users\\workbench\\eirik_master\\Results\\baseline_results_alternate.npy\")"
   ]
  },
  {
   "cell_type": "code",
   "execution_count": 3,
   "metadata": {},
   "outputs": [],
   "source": [
    "baseline_results = np.load(baseline_folder)"
   ]
  },
  {
   "cell_type": "code",
   "execution_count": 4,
   "metadata": {},
   "outputs": [],
   "source": [
    "baseline_results_alternate = np.load(baseline_alternate_folder)"
   ]
  },
  {
   "cell_type": "code",
   "execution_count": 5,
   "metadata": {},
   "outputs": [],
   "source": [
    "epi_prep_ec_folder = pathlib.Path(r\"C:\\Users\\workbench\\eirik_master\\Results\\epi_data\\prep\\0\")\n",
    "epi_prep_eo_folder = pathlib.Path(r\"C:\\Users\\workbench\\eirik_master\\Results\\epi_data\\prep\\1\")"
   ]
  },
  {
   "cell_type": "code",
   "execution_count": 6,
   "metadata": {},
   "outputs": [],
   "source": [
    "epi_prep_ec_results = np.zeros(\n",
    "    (   \n",
    "        16,\n",
    "        5\n",
    "    )\n",
    ")"
   ]
  },
  {
   "cell_type": "code",
   "execution_count": 7,
   "metadata": {},
   "outputs": [],
   "source": [
    "epi_prep_eo_results = np.zeros(\n",
    "    (   \n",
    "        16,\n",
    "        5\n",
    "    )\n",
    ")"
   ]
  },
  {
   "cell_type": "code",
   "execution_count": 8,
   "metadata": {},
   "outputs": [],
   "source": [
    "for i, pth in enumerate(epi_prep_ec_folder.iterdir()):\n",
    "    current = np.load(pth)\n",
    "    epi_prep_ec_results[i, :] = current.copy()"
   ]
  },
  {
   "cell_type": "code",
   "execution_count": 9,
   "metadata": {},
   "outputs": [],
   "source": [
    "for i, pth in enumerate(epi_prep_eo_folder.iterdir()):\n",
    "    current = np.load(pth)\n",
    "    epi_prep_eo_results[i, :] = current.copy()"
   ]
  },
  {
   "cell_type": "code",
   "execution_count": 10,
   "metadata": {},
   "outputs": [],
   "source": [
    "epi_prep_results = epi_prep_ec_results.__add__(epi_prep_eo_results)/2"
   ]
  },
  {
   "cell_type": "code",
   "execution_count": 11,
   "metadata": {},
   "outputs": [],
   "source": [
    "wang_prep_ec_folder = pathlib.Path(r\"C:\\Users\\workbench\\eirik_master\\Results\\yulin_wang\\prep\\0\")\n",
    "wang_prep_eo_folder = pathlib.Path(r\"C:\\Users\\workbench\\eirik_master\\Results\\yulin_wang\\prep\\1\")"
   ]
  },
  {
   "cell_type": "code",
   "execution_count": 12,
   "metadata": {},
   "outputs": [],
   "source": [
    "wang_prep_ec_results = np.zeros(\n",
    "    (   \n",
    "        16,\n",
    "        5\n",
    "    )\n",
    ")"
   ]
  },
  {
   "cell_type": "code",
   "execution_count": 13,
   "metadata": {},
   "outputs": [],
   "source": [
    "wang_prep_eo_results = np.zeros(\n",
    "    (   \n",
    "        16,\n",
    "        5\n",
    "    )\n",
    ")"
   ]
  },
  {
   "cell_type": "code",
   "execution_count": 14,
   "metadata": {},
   "outputs": [],
   "source": [
    "for i, pth in enumerate(wang_prep_ec_folder.iterdir()):\n",
    "    current = np.load(pth)\n",
    "    wang_prep_ec_results[i, :] = current.copy()"
   ]
  },
  {
   "cell_type": "code",
   "execution_count": 15,
   "metadata": {},
   "outputs": [],
   "source": [
    "for i, pth in enumerate(wang_prep_eo_folder.iterdir()):\n",
    "    current = np.load(pth)\n",
    "    wang_prep_eo_results[i, :] = current.copy()"
   ]
  },
  {
   "cell_type": "code",
   "execution_count": 16,
   "metadata": {},
   "outputs": [],
   "source": [
    "wang_prep_results = wang_prep_ec_results.__add__(wang_prep_eo_results)/2"
   ]
  },
  {
   "cell_type": "code",
   "execution_count": 17,
   "metadata": {},
   "outputs": [],
   "source": [
    "srm_prep_folder = pathlib.Path(r\"C:\\Users\\workbench\\eirik_master\\Results\\srm_data\\prep\")"
   ]
  },
  {
   "cell_type": "code",
   "execution_count": 18,
   "metadata": {},
   "outputs": [],
   "source": [
    "srm_prep_results = np.zeros(\n",
    "    (   \n",
    "        16,\n",
    "        5\n",
    "    )\n",
    ")"
   ]
  },
  {
   "cell_type": "code",
   "execution_count": 19,
   "metadata": {},
   "outputs": [],
   "source": [
    "for i, pth in enumerate(srm_prep_folder.iterdir()):\n",
    "    current = np.load(pth)\n",
    "    srm_prep_results[i, :] = current.copy()"
   ]
  },
  {
   "cell_type": "code",
   "execution_count": 20,
   "metadata": {},
   "outputs": [],
   "source": [
    "spis_prep_folder = pathlib.Path(r\"C:\\Users\\workbench\\eirik_master\\Results\\SPIS-Resting-State-Dataset\\prep\")"
   ]
  },
  {
   "cell_type": "code",
   "execution_count": 21,
   "metadata": {},
   "outputs": [],
   "source": [
    "spis_prep_alternate_results = np.zeros(\n",
    "    (   \n",
    "        8,\n",
    "        5\n",
    "    )\n",
    ")"
   ]
  },
  {
   "cell_type": "code",
   "execution_count": 22,
   "metadata": {},
   "outputs": [],
   "source": [
    "count=0\n",
    "for i, pth in enumerate(spis_prep_folder.iterdir()):\n",
    "    current = np.load(pth)\n",
    "    spis_prep_alternate_results[count, :] += current.copy()\n",
    "    if i%2 != 0:\n",
    "        count+=1"
   ]
  },
  {
   "cell_type": "code",
   "execution_count": 23,
   "metadata": {},
   "outputs": [],
   "source": [
    "spis_prep_alternate_results /= 2"
   ]
  },
  {
   "cell_type": "code",
   "execution_count": 24,
   "metadata": {},
   "outputs": [],
   "source": [
    "spis_prep_results = np.zeros(\n",
    "    (   \n",
    "        16,\n",
    "        5\n",
    "    )\n",
    ")"
   ]
  },
  {
   "cell_type": "code",
   "execution_count": 25,
   "metadata": {},
   "outputs": [],
   "source": [
    "for i, pth in enumerate(spis_prep_folder.iterdir()):\n",
    "    current = np.load(pth)\n",
    "    spis_prep_results[i, :] = current.copy()"
   ]
  },
  {
   "cell_type": "code",
   "execution_count": 26,
   "metadata": {},
   "outputs": [],
   "source": [
    "prep_results = np.zeros(\n",
    "    (   \n",
    "        64,\n",
    "        5\n",
    "    )\n",
    ")"
   ]
  },
  {
   "cell_type": "code",
   "execution_count": 27,
   "metadata": {},
   "outputs": [],
   "source": [
    "prep_results_alternate = np.zeros(\n",
    "    (   \n",
    "        56,\n",
    "        5\n",
    "    )\n",
    ")"
   ]
  },
  {
   "cell_type": "code",
   "execution_count": 28,
   "metadata": {},
   "outputs": [],
   "source": [
    "prep_results[0:16, :] = epi_prep_results\n",
    "prep_results[16:32, :] = srm_prep_results\n",
    "prep_results[32:48, :] = spis_prep_results\n",
    "prep_results[48:64, :] = wang_prep_results"
   ]
  },
  {
   "cell_type": "code",
   "execution_count": 29,
   "metadata": {},
   "outputs": [],
   "source": [
    "prep_results_alternate[0:16, :] = epi_prep_results\n",
    "prep_results_alternate[16:32, :] = srm_prep_results\n",
    "prep_results_alternate[32:40, :] = spis_prep_alternate_results\n",
    "prep_results_alternate[40:56, :] = wang_prep_results"
   ]
  },
  {
   "cell_type": "code",
   "execution_count": 30,
   "metadata": {},
   "outputs": [
    {
     "name": "stdout",
     "output_type": "stream",
     "text": [
      "[]\n",
      "[]\n"
     ]
    }
   ],
   "source": [
    "print(np.argwhere(np.isnan(prep_results)))\n",
    "print(np.argwhere(np.isinf(prep_results)))"
   ]
  },
  {
   "cell_type": "code",
   "execution_count": 31,
   "metadata": {},
   "outputs": [],
   "source": [
    "prep_results[:, 2] -= prep_results[:, 1]"
   ]
  },
  {
   "cell_type": "code",
   "execution_count": 32,
   "metadata": {},
   "outputs": [],
   "source": [
    "prep_results_alternate[:, 2] -= prep_results_alternate[:, 1]"
   ]
  },
  {
   "cell_type": "code",
   "execution_count": 33,
   "metadata": {},
   "outputs": [
    {
     "data": {
      "image/png": "[encoded data removed]",
      "text/plain": [
       "<Figure size 640x480 with 1 Axes>"
      ]
     },
     "metadata": {},
     "output_type": "display_data"
    }
   ],
   "source": [
    "plot_n_boxplots([prep_results_alternate[:, 1]+baseline_results_alternate[:, 1]], [sns.xkcd_rgb[\"pale red\"]])"
   ]
  },
  {
   "cell_type": "code",
   "execution_count": 34,
   "metadata": {},
   "outputs": [
    {
     "data": {
      "image/png": "[encoded data removed]",
      "text/plain": [
       "<Figure size 640x480 with 1 Axes>"
      ]
     },
     "metadata": {},
     "output_type": "display_data"
    }
   ],
   "source": [
    "plot_dist_hist(prep_results_alternate[:, 1]+baseline_results_alternate[:, 1], 'PREP Processed Grid Search Data', 'Number of brain components classified by ICLabel', higher=1)\n",
    "plt.savefig(r\"C:\\Users\\workbench\\eirik_master\\code\\Masteroppgave2\\images\\grid_brain_prep\")"
   ]
  },
  {
   "cell_type": "code",
   "execution_count": 35,
   "metadata": {},
   "outputs": [],
   "source": [
    "np.save(r\"C:\\Users\\workbench\\eirik_master\\Results\\linear_reg_1\\prep\", prep_results_alternate[:, 1]+baseline_results_alternate[:, 1])"
   ]
  },
  {
   "cell_type": "code",
   "execution_count": 72,
   "metadata": {},
   "outputs": [
    {
     "data": {
      "image/png": "[encoded data removed]",
      "text/plain": [
       "<Figure size 640x480 with 1 Axes>"
      ]
     },
     "metadata": {},
     "output_type": "display_data"
    }
   ],
   "source": [
    "plot_n_boxplots([prep_results_alternate[:, 2]+baseline_results_alternate[:, 2]], [sns.xkcd_rgb[\"pale red\"]])"
   ]
  },
  {
   "cell_type": "code",
   "execution_count": 73,
   "metadata": {},
   "outputs": [
    {
     "name": "stdout",
     "output_type": "stream",
     "text": [
      "[3.5 1.5 2.5 2.5 3.5 0.5 1.  1.  2.  5.5 6.5 1.5 0.5 1.5 2.5 2.5 0.  0.\n",
      " 0.  2.  1.  0.  1.  1.  0.  0.  3.  0.  1.  0.  1.  0.  0.5 0.  0.5 0.\n",
      " 0.  0.  0.5 0.  3.5 0.  1.5 4.  3.  0.  5.5 0.5 1.  7.  3.5 1.5 2.5 2.\n",
      " 1.5 0. ]\n"
     ]
    }
   ],
   "source": [
    "print(prep_results_alternate[:, 2]+baseline_results_alternate[:, 2])"
   ]
  },
  {
   "cell_type": "code",
   "execution_count": 36,
   "metadata": {},
   "outputs": [
    {
     "data": {
      "image/png": "[encoded data removed]",
      "text/plain": [
       "<Figure size 640x480 with 1 Axes>"
      ]
     },
     "metadata": {},
     "output_type": "display_data"
    }
   ],
   "source": [
    "plot_dist_hist(prep_results_alternate[:, 2]+baseline_results_alternate[:, 2], 'PREP Processed Grid Search Data', 'Number of eye and muscle components classified by ICLabel')\n",
    "plt.savefig(r\"C:\\Users\\workbench\\eirik_master\\code\\Masteroppgave2\\images\\grid_artefact_prep\")"
   ]
  },
  {
   "cell_type": "code",
   "execution_count": 76,
   "metadata": {},
   "outputs": [],
   "source": [
    "np.save(r\"C:\\Users\\workbench\\eirik_master\\Results\\linear_reg_1_art\\prep\", prep_results_alternate[:, 2]+baseline_results_alternate[:, 2])"
   ]
  },
  {
   "cell_type": "code",
   "execution_count": 77,
   "metadata": {},
   "outputs": [
    {
     "name": "stdout",
     "output_type": "stream",
     "text": [
      "[3.5 1.5 2.5 2.5 3.5 0.5 1.  1.  2.  5.5 6.5 1.5 0.5 1.5 2.5 2.5 0.  0.\n",
      " 0.  2.  1.  0.  1.  1.  0.  0.  3.  0.  1.  0.  1.  0.  0.5 0.  0.5 0.\n",
      " 0.  0.  0.5 0.  3.5 0.  1.5 4.  3.  0.  5.5 0.5 1.  7.  3.5 1.5 2.5 2.\n",
      " 1.5 0. ]\n"
     ]
    }
   ],
   "source": [
    "print(prep_results_alternate[:, 2]+baseline_results_alternate[:, 2])"
   ]
  }
 ],
 "metadata": {
  "kernelspec": {
   "display_name": "env",
   "language": "python",
   "name": "python3"
  },
  "language_info": {
   "codemirror_mode": {
    "name": "ipython",
    "version": 3
   },
   "file_extension": ".py",
   "mimetype": "text/x-python",
   "name": "python",
   "nbconvert_exporter": "python",
   "pygments_lexer": "ipython3",
   "version": "3.10.4"
  }
 },
 "nbformat": 4,
 "nbformat_minor": 2
}
